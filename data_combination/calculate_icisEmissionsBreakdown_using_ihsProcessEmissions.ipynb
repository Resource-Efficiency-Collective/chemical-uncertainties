{
 "cells": [
  {
   "cell_type": "markdown",
   "source": [
    "# Breakdown of Calculation of per facility ICIS emisions given related IHS processes\n",
    "\n",
    "Assumptions -> Conversion factor used for ICIS facility is mean of conversion factors for all corresponding IHS processes\n",
    "-> For Ethylene, feedstock conversion factor is mean of conversion factors linked to feedstock"
   ],
   "metadata": {
    "collapsed": false,
    "pycharm": {
     "name": "#%% md\n"
    }
   }
  },
  {
   "cell_type": "code",
   "execution_count": 3,
   "outputs": [],
   "source": [
    "# Import packages\n",
    "import re\n",
    "import numpy as np\n",
    "import pandas as pd\n",
    "from tqdm import tqdm\n",
    "\n",
    "# File paths\n",
    "input_path = '../data/'\n",
    "output_path = '../data/combined/'\n",
    "\n",
    "production_file = input_path+'processed/icisFacilityProduction_w_uncertainties.csv'\n",
    "conversion_factor_file = input_path+'combined/ihsProcessEmissions_decomposition_mass.csv'\n",
    "matching_file = input_path+'extra_inputs/all_icis_to_ihs_matches.csv'\n",
    "matching_on = ['PRODUCT', 'ROUTE', 'TECHNOLOGY', 'LICENSOR']"
   ],
   "metadata": {
    "collapsed": false,
    "pycharm": {
     "name": "#%%\n"
    }
   }
  },
  {
   "cell_type": "markdown",
   "source": [
    "## Import data"
   ],
   "metadata": {
    "collapsed": false,
    "pycharm": {
     "name": "#%% md\n"
    }
   }
  },
  {
   "cell_type": "code",
   "execution_count": 2,
   "outputs": [],
   "source": [
    "# Import data\n",
    "icis_ihs_matches = pd.read_csv(matching_file, index_col=0)\n",
    "facility_production = pd.read_csv(production_file, index_col=0)\n",
    "\n",
    "conv_factors = pd.read_csv(conversion_factor_file, index_col=0)\n",
    "# conv_factors = conv_factors.dropna(subset=['ihs_match'])\n",
    "# keep_cols = ['ihs_match', 'Product', 'Material', 'Material Type', 'Gas', 'value']\n",
    "# conv_factors = pd.read_csv(conversion_factor_file, index_col=0).rename(columns={'Target/Process':'ihs_match'})[keep_cols]\n",
    "# conv_factors = conv_factors[conv_factors.columns[['conv_factor' not in col for col in conv_factors.columns]]].dropna(subset=['ihs_match'])"
   ],
   "metadata": {
    "collapsed": false,
    "pycharm": {
     "name": "#%%\n"
    }
   }
  },
  {
   "cell_type": "code",
   "execution_count": 45,
   "outputs": [],
   "source": [
    "## Add IFA production\n",
    "fert_production_file = input_path+'extracted/IFA_production_w_uncertainties.csv'\n",
    "ifa_production = pd.read_csv(fert_production_file)\n",
    "\n",
    "name_conversions = {\n",
    "    'NH3': 'AMMONIA',\n",
    "    'AN': 'AMMONIUM NITRATE',\n",
    "    'Ammonium nitrate (33.5-0-0) granulated': 'AMMONIUM NITRATE',\n",
    "    'AS': 'AMMONIUM SULPHATE',\n",
    "    'CAN': 'CALCIUM AMMONIUM NITRATE',\n",
    "    'Calcium ammonium nitrate (27-0-0)': 'CALCIUM AMMONIUM NITRATE',\n",
    "    'Urea (46-0-0)': 'UREA'\n",
    "}\n",
    "\n",
    "ifa_ihs_matches = {\n",
    "    'AMMONIA':'AMMONIA',\n",
    "    'AMMONIUM NITRATE': 'AMMONIUM NITRATE FERTILIZER',\n",
    "    'AMMONIUM SULPHATE': 'HYDROXYLAMMONIUM SULFATE',\n",
    "    'CALCIUM AMMONIUM NITRATE':'AMMONIUM NITRATE FERTILIZER',\n",
    "    'UREA': 'UREA, AGRICULTURAL GRADE'\n",
    "}\n",
    "\n",
    "ifa_production['PRODUCT'] = ifa_production['PRODUCT'].replace(name_conversions)\n",
    "ifa_production.rename(columns={'Region':'COUNTRY/TERRITORY'}, inplace=True)\n",
    "ifa_production['Conv_name'] = ifa_production['PRODUCT'].replace(ifa_ihs_matches)"
   ],
   "metadata": {
    "collapsed": false,
    "pycharm": {
     "name": "#%%\n"
    }
   }
  },
  {
   "cell_type": "code",
   "execution_count": 51,
   "outputs": [],
   "source": [
    "facility_conversion = facility_production.merge(icis_ihs_matches, on=matching_on, how='left')\n",
    "ifa_conversion = ifa_production.merge(conv_factors[['Target/Process', 'Product']].rename(columns={'Target/Process':'ihs_match'}).drop_duplicates(), left_on='Conv_name', right_on='Product', how='left').drop(columns=['Conv_name', 'Product'])\n",
    "facility_conversion = pd.concat((facility_conversion, ifa_conversion))"
   ],
   "metadata": {
    "collapsed": false,
    "pycharm": {
     "name": "#%%\n"
    }
   }
  },
  {
   "cell_type": "code",
   "execution_count": 6,
   "outputs": [],
   "source": [
    "# Print out Products with no IHS match\n",
    "#facility_conversion[facility_conversion['ihs_match'].isna()][['PRODUCT','ROUTE']].drop_duplicates()"
   ],
   "metadata": {
    "collapsed": false,
    "pycharm": {
     "name": "#%%\n"
    }
   }
  },
  {
   "cell_type": "code",
   "execution_count": 56,
   "outputs": [],
   "source": [
    "### -> Misses products with no IHS match\n",
    "facility_conversion = facility_conversion.dropna(subset=['ihs_match']).merge(conv_factors, left_on=['ihs_match'], right_on='Target/Process', how='left')\n",
    "\n",
    "facility_conversion = facility_conversion.drop_duplicates().drop(columns=['Emission source'])"
   ],
   "metadata": {
    "collapsed": false,
    "pycharm": {
     "name": "#%%\n"
    }
   }
  },
  {
   "cell_type": "code",
   "execution_count": 58,
   "outputs": [
    {
     "name": "stderr",
     "output_type": "stream",
     "text": [
      "C:\\Users\\lukec\\AppData\\Local\\Temp/ipykernel_28140/3144599507.py:5: PerformanceWarning: DataFrame is highly fragmented.  This is usually the result of calling `frame.insert` many times, which has poor performance.  Consider joining all columns at once using pd.concat(axis=1) instead.  To get a de-fragmented frame, use `newframe = frame.copy()`\n",
      "  facility_conversion_pivoted.reset_index().to_csv(output_path+'facility_conversion_pivoted.csv')\n"
     ]
    }
   ],
   "source": [
    "### -> Misses products with no IHS match\n",
    "facility_conversion_pivoted = facility_conversion.pivot(index=list(facility_conversion.columns[:-4])+['Material', 'Material Type'], columns='Gas', values='value')\n",
    "facility_conversion_pivoted.reset_index().to_csv(output_path+'facility_conversion_pivoted.csv')"
   ],
   "metadata": {
    "collapsed": false,
    "pycharm": {
     "name": "#%%\n"
    }
   }
  },
  {
   "cell_type": "code",
   "execution_count": 59,
   "outputs": [
    {
     "name": "stderr",
     "output_type": "stream",
     "text": [
      "C:\\Users\\lukec\\AppData\\Local\\Programs\\Python\\Python310\\lib\\site-packages\\IPython\\core\\interactiveshell.py:3457: DtypeWarning: Columns (12) have mixed types.Specify dtype option on import or set low_memory=False.\n",
      "  exec(code_obj, self.user_global_ns, self.user_ns)\n"
     ]
    }
   ],
   "source": [
    "facility_conversion = pd.read_csv(output_path+'facility_conversion_pivoted.csv', index_col=0)"
   ],
   "metadata": {
    "collapsed": false,
    "pycharm": {
     "name": "#%%\n"
    }
   }
  },
  {
   "cell_type": "markdown",
   "source": [
    "## Calculate emissions by combining production with conversion factors"
   ],
   "metadata": {
    "collapsed": false,
    "pycharm": {
     "name": "#%% md\n"
    }
   }
  },
  {
   "cell_type": "code",
   "execution_count": 60,
   "outputs": [],
   "source": [
    "# Take average of CM and EI conversion factors\n",
    "\n",
    "# emission_val_cols = ['CO2e_20a', 'CO2e_100a']#, 'Carbon monoxide', 'Chloroform', 'Dinitrogen monoxide', 'Ethane', 'Methane', 'Nitric oxide', 'Nitrogen fluoride', 'Perfluoropentane', 'Sulfur hexafluoride', 'Other']\n",
    "# emission_val_cols_sigma = [col + '_sigma' for col in emission_val_cols]\n",
    "#\n",
    "# for column, col_sigma in zip(emission_val_cols, emission_val_cols_sigma):\n",
    "#     facility_conversion['combined_' + column] = np.nanmean([facility_conversion['ei_' + column + '_cradle-to-gate'], facility_conversion['cm_' + column + '_cradle-to-gate']], axis=0)\n",
    "#     facility_conversion['combined_' + col_sigma] = np.nanmean([facility_conversion['ei_' + column + '_cradle-to-gate_sigma'], facility_conversion['cm_' + column + '_cradle-to-gate_sigma']], axis=0)\n",
    "#\n",
    "# facility_conversion = facility_conversion[facility_conversion.columns[['ei' not in col and 'cm' not in col for col in facility_conversion.columns]]]\n",
    "#\n",
    "# facility_conversion.columns = [i.replace(', mass allocation ','_').replace('_factor','') for i in facility_conversion.columns]\n",
    "#\n",
    "# facility_conversion.rename(columns={'ihs_match':'PROCESS'}, inplace=True)\n",
    "#\n",
    "# facility_conversion.columns = [i.replace(',  allocation ','_').replace('_factor','') for i in facility_conversion.columns]"
   ],
   "metadata": {
    "collapsed": false,
    "pycharm": {
     "name": "#%%\n"
    }
   }
  },
  {
   "cell_type": "code",
   "execution_count": 61,
   "outputs": [
    {
     "name": "stderr",
     "output_type": "stream",
     "text": [
      "100%|██████████| 2/2 [00:13<00:00,  6.88s/it]\n"
     ]
    }
   ],
   "source": [
    "# Calculate facility emissions for\n",
    "# dbs = ['combined_', 'ihs_cradle-to-out-gate ', 'Raw Material ', 'Indirect Utilities ', 'Direct Utilities ', 'Direct Process ', 'Electricity ']\n",
    "# names = ['EI & CM', 'IHS CtOG', 'Raw Material', 'Indirect Utilities', 'Direct Utilities', 'Direct Process', 'Electricity']\n",
    "\n",
    "emission_val_cols = ['CO2e_20a', 'CO2e_100a']\n",
    "emission_val_cols_sigma = [col + '_sigma' for col in emission_val_cols]\n",
    "\n",
    "# Create base dataframe to use\n",
    "years = [str(i) for i in range(1978, 2051)]\n",
    "years_sigma = [year+'_sigma' for year in years]\n",
    "base_columns = ['PRODUCT', 'COUNTRY/TERRITORY', 'STATE', 'COMPANY', 'SITE', '#',\n",
    "       'ROUTE', 'TECHNOLOGY', 'LICENSOR', 'START_YR', 'COMPLEX', 'LATITUDE', 'LONGITUDE', 'ihs_match', 'Material', 'Material Type'] + years + years_sigma\n",
    "base_df = facility_conversion[base_columns]\n",
    "\n",
    "facility_emissions = pd.DataFrame()\n",
    "# for db, name in tqdm(zip(dbs, names)):\n",
    "for gas in tqdm(emission_val_cols):\n",
    "    df = base_df.copy()\n",
    "    df[years] = df[years].multiply(facility_conversion[gas], axis='index')\n",
    "    ## Incorrect error propagation here\n",
    "    df[years_sigma] = df[years_sigma].multiply(facility_conversion[gas+'_sigma'], axis='index')\n",
    "    df['Gas'] = gas\n",
    "    facility_emissions = pd.concat((facility_emissions, df), axis = 0)\n",
    "\n",
    "# # Save as parquet file for large size\n",
    "# facility_emissions.to_parquet(output_path+'icisFacilityEmissions_allIhsProcesses_w_uncertainties_10-12.parquet')"
   ],
   "metadata": {
    "collapsed": false,
    "pycharm": {
     "name": "#%%\n"
    }
   }
  },
  {
   "cell_type": "code",
   "execution_count": 62,
   "outputs": [],
   "source": [
    "# Save as parquet file for large size\n",
    "facility_emissions['COMPLEX'] = facility_emissions['COMPLEX'].astype(str)\n",
    "facility_emissions.to_parquet(output_path+'icisFacilityEmissionsDetailed_allIhsProcesses_w_uncertainties.parquet')"
   ],
   "metadata": {
    "collapsed": false,
    "pycharm": {
     "name": "#%%\n"
    }
   }
  },
  {
   "cell_type": "code",
   "execution_count": 2,
   "outputs": [],
   "source": [
    "# endings = ['1-3', '4-6', '7-9', '10-12']\n",
    "#\n",
    "# mean_aggregated = pd.DataFrame()\n",
    "#\n",
    "# for end in endings:\n",
    "#     facility_emissions = pd.read_parquet(output_path+'icisFacilityEmissions_allIhsProcesses_w_uncertainties_'+end+'.parquet')\n",
    "#     aggregated_emissions = facility_emissions.groupby(list(facility_emissions.columns[:13])+['Gas','Type']).mean().reset_index()\n",
    "#     mean_aggregated = pd.concat((mean_aggregated, aggregated_emissions))\n",
    "#\n",
    "# mean_aggregated.to_parquet(output_path+'icisFacilityEmissions_ihsMean_w_uncertainties_allgases.parquet')\n"
   ],
   "metadata": {
    "collapsed": false,
    "pycharm": {
     "name": "#%%\n"
    }
   }
  },
  {
   "cell_type": "code",
   "execution_count": 2,
   "outputs": [],
   "source": [
    "facility_emissions = pd.read_parquet(output_path+'icisFacilityEmissionsDetailed_allIhsProcesses_w_uncertainties.parquet')"
   ],
   "metadata": {
    "collapsed": false,
    "pycharm": {
     "name": "#%%\n"
    }
   }
  },
  {
   "cell_type": "code",
   "execution_count": 68,
   "outputs": [],
   "source": [
    "years = [str(i) for i in range(1978, 2051)]\n",
    "years_sigma = [year+'_sigma' for year in years]\n",
    "facility_emissions[years+years_sigma] = facility_emissions[years+years_sigma].fillna(0)"
   ],
   "metadata": {
    "collapsed": false,
    "pycharm": {
     "name": "#%%\n"
    }
   }
  },
  {
   "cell_type": "code",
   "execution_count": 69,
   "outputs": [],
   "source": [
    "# Take average output when many IHS processes correspond to single facility to get one value for each facility\n",
    "aggregated_emissions = facility_emissions.fillna('n.a.').groupby(list(facility_emissions.columns[:13])+['Material','Material Type','Gas']).mean()"
   ],
   "metadata": {
    "collapsed": false,
    "pycharm": {
     "name": "#%%\n"
    }
   }
  },
  {
   "cell_type": "code",
   "execution_count": 72,
   "outputs": [
    {
     "data": {
      "text/plain": "                 PRODUCT COUNTRY/TERRITORY STATE      COMPANY          SITE  \\\n0         1,4-BUTANEDIOL           BELGIUM  n.a.         BASF         FELUY   \n1         1,4-BUTANEDIOL           BELGIUM  n.a.         BASF         FELUY   \n2         1,4-BUTANEDIOL           BELGIUM  n.a.         BASF         FELUY   \n3         1,4-BUTANEDIOL           BELGIUM  n.a.         BASF         FELUY   \n4         1,4-BUTANEDIOL           BELGIUM  n.a.         BASF         FELUY   \n...                  ...               ...   ...          ...           ...   \n450197  VINYL ACETATE M.     UNITED STATES  n.a.  ~ADDITIONAL  ~UNKNOWN USA   \n450198  VINYL ACETATE M.     UNITED STATES  n.a.  ~ADDITIONAL  ~UNKNOWN USA   \n450199  VINYL ACETATE M.     UNITED STATES  n.a.  ~ADDITIONAL  ~UNKNOWN USA   \n450200  VINYL ACETATE M.     UNITED STATES  n.a.  ~ADDITIONAL  ~UNKNOWN USA   \n450201  VINYL ACETATE M.     UNITED STATES  n.a.  ~ADDITIONAL  ~UNKNOWN USA   \n\n          #             ROUTE     TECHNOLOGY               LICENSOR START_YR  \\\n0       1.0  MALEIC ANHYDRIDE      HYDRATION  KVAERNER PROCESS TECH   1997.0   \n1       1.0  MALEIC ANHYDRIDE      HYDRATION  KVAERNER PROCESS TECH   1997.0   \n2       1.0  MALEIC ANHYDRIDE      HYDRATION  KVAERNER PROCESS TECH   1997.0   \n3       1.0  MALEIC ANHYDRIDE      HYDRATION  KVAERNER PROCESS TECH   1997.0   \n4       1.0  MALEIC ANHYDRIDE      HYDRATION  KVAERNER PROCESS TECH   1997.0   \n...     ...               ...            ...                    ...      ...   \n450197  1.0          ETHYLENE  ACETOXYLATION                   n.a.   2029.0   \n450198  1.0          ETHYLENE  ACETOXYLATION                   n.a.   2029.0   \n450199  1.0          ETHYLENE  ACETOXYLATION                   n.a.   2029.0   \n450200  1.0          ETHYLENE  ACETOXYLATION                   n.a.   2029.0   \n450201  1.0          ETHYLENE  ACETOXYLATION                   n.a.   2029.0   \n\n        ... 2041_sigma 2042_sigma 2043_sigma 2044_sigma 2045_sigma 2046_sigma  \\\n0       ...   0.000000   0.000000   0.000000   0.000000   0.000000   0.000000   \n1       ...   0.000000   0.000000   0.000000   0.000000   0.000000   0.000000   \n2       ...   0.000000   0.000000   0.000000   0.000000   0.000000   0.000000   \n3       ...   0.000000   0.000000   0.000000   0.000000   0.000000   0.000000   \n4       ...   0.000000   0.000000   0.000000   0.000000   0.000000   0.000000   \n...     ...        ...        ...        ...        ...        ...        ...   \n450197  ...   0.805235   0.863948   0.922320   0.980368   1.038109   1.095557   \n450198  ...   3.425298   3.675052   3.923355   4.170280   4.415897   4.660271   \n450199  ...   4.462032   4.787379   5.110835   5.432497   5.752455   6.070793   \n450200  ...   3.217757   3.452379   3.685637   3.917600   4.148335   4.377902   \n450201  ...   3.522177   3.778995   4.034320   4.288229   4.540793   4.792079   \n\n       2047_sigma  2048_sigma  2049_sigma  2050_sigma  \n0        0.000000    0.000000    0.000000    0.000000  \n1        0.000000    0.000000    0.000000    0.000000  \n2        0.000000    0.000000    0.000000    0.000000  \n3        0.000000    0.000000    0.000000    0.000000  \n4        0.000000    0.000000    0.000000    0.000000  \n...           ...         ...         ...         ...  \n450197   1.152728    1.209633    1.266286    1.322699  \n450198   4.903461    5.145525    5.386516    5.626483  \n450199   6.387590    6.702919    7.016850    7.329448  \n450200   4.606358    4.833755    5.060144    5.285571  \n450201   5.042147    5.291058    5.538864    5.785618  \n\n[450202 rows x 162 columns]",
      "text/html": "<div>\n<style scoped>\n    .dataframe tbody tr th:only-of-type {\n        vertical-align: middle;\n    }\n\n    .dataframe tbody tr th {\n        vertical-align: top;\n    }\n\n    .dataframe thead th {\n        text-align: right;\n    }\n</style>\n<table border=\"1\" class=\"dataframe\">\n  <thead>\n    <tr style=\"text-align: right;\">\n      <th></th>\n      <th>PRODUCT</th>\n      <th>COUNTRY/TERRITORY</th>\n      <th>STATE</th>\n      <th>COMPANY</th>\n      <th>SITE</th>\n      <th>#</th>\n      <th>ROUTE</th>\n      <th>TECHNOLOGY</th>\n      <th>LICENSOR</th>\n      <th>START_YR</th>\n      <th>...</th>\n      <th>2041_sigma</th>\n      <th>2042_sigma</th>\n      <th>2043_sigma</th>\n      <th>2044_sigma</th>\n      <th>2045_sigma</th>\n      <th>2046_sigma</th>\n      <th>2047_sigma</th>\n      <th>2048_sigma</th>\n      <th>2049_sigma</th>\n      <th>2050_sigma</th>\n    </tr>\n  </thead>\n  <tbody>\n    <tr>\n      <th>0</th>\n      <td>1,4-BUTANEDIOL</td>\n      <td>BELGIUM</td>\n      <td>n.a.</td>\n      <td>BASF</td>\n      <td>FELUY</td>\n      <td>1.0</td>\n      <td>MALEIC ANHYDRIDE</td>\n      <td>HYDRATION</td>\n      <td>KVAERNER PROCESS TECH</td>\n      <td>1997.0</td>\n      <td>...</td>\n      <td>0.000000</td>\n      <td>0.000000</td>\n      <td>0.000000</td>\n      <td>0.000000</td>\n      <td>0.000000</td>\n      <td>0.000000</td>\n      <td>0.000000</td>\n      <td>0.000000</td>\n      <td>0.000000</td>\n      <td>0.000000</td>\n    </tr>\n    <tr>\n      <th>1</th>\n      <td>1,4-BUTANEDIOL</td>\n      <td>BELGIUM</td>\n      <td>n.a.</td>\n      <td>BASF</td>\n      <td>FELUY</td>\n      <td>1.0</td>\n      <td>MALEIC ANHYDRIDE</td>\n      <td>HYDRATION</td>\n      <td>KVAERNER PROCESS TECH</td>\n      <td>1997.0</td>\n      <td>...</td>\n      <td>0.000000</td>\n      <td>0.000000</td>\n      <td>0.000000</td>\n      <td>0.000000</td>\n      <td>0.000000</td>\n      <td>0.000000</td>\n      <td>0.000000</td>\n      <td>0.000000</td>\n      <td>0.000000</td>\n      <td>0.000000</td>\n    </tr>\n    <tr>\n      <th>2</th>\n      <td>1,4-BUTANEDIOL</td>\n      <td>BELGIUM</td>\n      <td>n.a.</td>\n      <td>BASF</td>\n      <td>FELUY</td>\n      <td>1.0</td>\n      <td>MALEIC ANHYDRIDE</td>\n      <td>HYDRATION</td>\n      <td>KVAERNER PROCESS TECH</td>\n      <td>1997.0</td>\n      <td>...</td>\n      <td>0.000000</td>\n      <td>0.000000</td>\n      <td>0.000000</td>\n      <td>0.000000</td>\n      <td>0.000000</td>\n      <td>0.000000</td>\n      <td>0.000000</td>\n      <td>0.000000</td>\n      <td>0.000000</td>\n      <td>0.000000</td>\n    </tr>\n    <tr>\n      <th>3</th>\n      <td>1,4-BUTANEDIOL</td>\n      <td>BELGIUM</td>\n      <td>n.a.</td>\n      <td>BASF</td>\n      <td>FELUY</td>\n      <td>1.0</td>\n      <td>MALEIC ANHYDRIDE</td>\n      <td>HYDRATION</td>\n      <td>KVAERNER PROCESS TECH</td>\n      <td>1997.0</td>\n      <td>...</td>\n      <td>0.000000</td>\n      <td>0.000000</td>\n      <td>0.000000</td>\n      <td>0.000000</td>\n      <td>0.000000</td>\n      <td>0.000000</td>\n      <td>0.000000</td>\n      <td>0.000000</td>\n      <td>0.000000</td>\n      <td>0.000000</td>\n    </tr>\n    <tr>\n      <th>4</th>\n      <td>1,4-BUTANEDIOL</td>\n      <td>BELGIUM</td>\n      <td>n.a.</td>\n      <td>BASF</td>\n      <td>FELUY</td>\n      <td>1.0</td>\n      <td>MALEIC ANHYDRIDE</td>\n      <td>HYDRATION</td>\n      <td>KVAERNER PROCESS TECH</td>\n      <td>1997.0</td>\n      <td>...</td>\n      <td>0.000000</td>\n      <td>0.000000</td>\n      <td>0.000000</td>\n      <td>0.000000</td>\n      <td>0.000000</td>\n      <td>0.000000</td>\n      <td>0.000000</td>\n      <td>0.000000</td>\n      <td>0.000000</td>\n      <td>0.000000</td>\n    </tr>\n    <tr>\n      <th>...</th>\n      <td>...</td>\n      <td>...</td>\n      <td>...</td>\n      <td>...</td>\n      <td>...</td>\n      <td>...</td>\n      <td>...</td>\n      <td>...</td>\n      <td>...</td>\n      <td>...</td>\n      <td>...</td>\n      <td>...</td>\n      <td>...</td>\n      <td>...</td>\n      <td>...</td>\n      <td>...</td>\n      <td>...</td>\n      <td>...</td>\n      <td>...</td>\n      <td>...</td>\n      <td>...</td>\n    </tr>\n    <tr>\n      <th>450197</th>\n      <td>VINYL ACETATE M.</td>\n      <td>UNITED STATES</td>\n      <td>n.a.</td>\n      <td>~ADDITIONAL</td>\n      <td>~UNKNOWN USA</td>\n      <td>1.0</td>\n      <td>ETHYLENE</td>\n      <td>ACETOXYLATION</td>\n      <td>n.a.</td>\n      <td>2029.0</td>\n      <td>...</td>\n      <td>0.805235</td>\n      <td>0.863948</td>\n      <td>0.922320</td>\n      <td>0.980368</td>\n      <td>1.038109</td>\n      <td>1.095557</td>\n      <td>1.152728</td>\n      <td>1.209633</td>\n      <td>1.266286</td>\n      <td>1.322699</td>\n    </tr>\n    <tr>\n      <th>450198</th>\n      <td>VINYL ACETATE M.</td>\n      <td>UNITED STATES</td>\n      <td>n.a.</td>\n      <td>~ADDITIONAL</td>\n      <td>~UNKNOWN USA</td>\n      <td>1.0</td>\n      <td>ETHYLENE</td>\n      <td>ACETOXYLATION</td>\n      <td>n.a.</td>\n      <td>2029.0</td>\n      <td>...</td>\n      <td>3.425298</td>\n      <td>3.675052</td>\n      <td>3.923355</td>\n      <td>4.170280</td>\n      <td>4.415897</td>\n      <td>4.660271</td>\n      <td>4.903461</td>\n      <td>5.145525</td>\n      <td>5.386516</td>\n      <td>5.626483</td>\n    </tr>\n    <tr>\n      <th>450199</th>\n      <td>VINYL ACETATE M.</td>\n      <td>UNITED STATES</td>\n      <td>n.a.</td>\n      <td>~ADDITIONAL</td>\n      <td>~UNKNOWN USA</td>\n      <td>1.0</td>\n      <td>ETHYLENE</td>\n      <td>ACETOXYLATION</td>\n      <td>n.a.</td>\n      <td>2029.0</td>\n      <td>...</td>\n      <td>4.462032</td>\n      <td>4.787379</td>\n      <td>5.110835</td>\n      <td>5.432497</td>\n      <td>5.752455</td>\n      <td>6.070793</td>\n      <td>6.387590</td>\n      <td>6.702919</td>\n      <td>7.016850</td>\n      <td>7.329448</td>\n    </tr>\n    <tr>\n      <th>450200</th>\n      <td>VINYL ACETATE M.</td>\n      <td>UNITED STATES</td>\n      <td>n.a.</td>\n      <td>~ADDITIONAL</td>\n      <td>~UNKNOWN USA</td>\n      <td>1.0</td>\n      <td>ETHYLENE</td>\n      <td>ACETOXYLATION</td>\n      <td>n.a.</td>\n      <td>2029.0</td>\n      <td>...</td>\n      <td>3.217757</td>\n      <td>3.452379</td>\n      <td>3.685637</td>\n      <td>3.917600</td>\n      <td>4.148335</td>\n      <td>4.377902</td>\n      <td>4.606358</td>\n      <td>4.833755</td>\n      <td>5.060144</td>\n      <td>5.285571</td>\n    </tr>\n    <tr>\n      <th>450201</th>\n      <td>VINYL ACETATE M.</td>\n      <td>UNITED STATES</td>\n      <td>n.a.</td>\n      <td>~ADDITIONAL</td>\n      <td>~UNKNOWN USA</td>\n      <td>1.0</td>\n      <td>ETHYLENE</td>\n      <td>ACETOXYLATION</td>\n      <td>n.a.</td>\n      <td>2029.0</td>\n      <td>...</td>\n      <td>3.522177</td>\n      <td>3.778995</td>\n      <td>4.034320</td>\n      <td>4.288229</td>\n      <td>4.540793</td>\n      <td>4.792079</td>\n      <td>5.042147</td>\n      <td>5.291058</td>\n      <td>5.538864</td>\n      <td>5.785618</td>\n    </tr>\n  </tbody>\n</table>\n<p>450202 rows × 162 columns</p>\n</div>"
     },
     "execution_count": 72,
     "metadata": {},
     "output_type": "execute_result"
    }
   ],
   "source": [
    "aggregated_emissions"
   ],
   "metadata": {
    "collapsed": false,
    "pycharm": {
     "name": "#%%\n"
    }
   }
  },
  {
   "cell_type": "code",
   "execution_count": 75,
   "outputs": [
    {
     "data": {
      "text/plain": "                 PRODUCT COUNTRY/TERRITORY STATE        COMPANY          SITE  \\\n0         1,4-BUTANEDIOL           BELGIUM  n.a.           BASF         FELUY   \n1         1,4-BUTANEDIOL           BELGIUM  n.a.           BASF         FELUY   \n2         1,4-BUTANEDIOL           BELGIUM  n.a.           BASF         FELUY   \n3         1,4-BUTANEDIOL           BELGIUM  n.a.           BASF         FELUY   \n4         1,4-BUTANEDIOL           BELGIUM  n.a.           BASF         FELUY   \n...                  ...               ...   ...            ...           ...   \n816492  VINYL ACETATE M.     UNITED STATES  n.a.  INEOS ACETYLS  ~UNKNOWN USA   \n816493  VINYL ACETATE M.     UNITED STATES  n.a.    ~ADDITIONAL  ~UNKNOWN USA   \n816494  VINYL ACETATE M.     UNITED STATES  n.a.    ~ADDITIONAL  ~UNKNOWN USA   \n816495  VINYL ACETATE M.     UNITED STATES  n.a.    ~ADDITIONAL  ~UNKNOWN USA   \n816496  VINYL ACETATE M.     UNITED STATES  n.a.    ~ADDITIONAL  ~UNKNOWN USA   \n\n          #             ROUTE     TECHNOLOGY               LICENSOR  START_YR  \\\n0       1.0  MALEIC ANHYDRIDE      HYDRATION  KVAERNER PROCESS TECH    1997.0   \n1       1.0  MALEIC ANHYDRIDE      HYDRATION  KVAERNER PROCESS TECH    1997.0   \n2       1.0  MALEIC ANHYDRIDE      HYDRATION  KVAERNER PROCESS TECH    1997.0   \n3       1.0  MALEIC ANHYDRIDE      HYDRATION  KVAERNER PROCESS TECH    1997.0   \n4       1.0  MALEIC ANHYDRIDE      HYDRATION  KVAERNER PROCESS TECH    1997.0   \n...     ...               ...            ...                    ...       ...   \n816492  1.0          ETHYLENE           n.a.                   n.a.       0.0   \n816493  1.0          ETHYLENE  ACETOXYLATION                   n.a.    2029.0   \n816494  1.0          ETHYLENE  ACETOXYLATION                   n.a.    2029.0   \n816495  1.0          ETHYLENE  ACETOXYLATION                   n.a.    2029.0   \n816496  1.0          ETHYLENE  ACETOXYLATION                   n.a.    2029.0   \n\n        ... 2042_sigma  2043_sigma  2044_sigma 2045_sigma 2046_sigma  \\\n0       ...   0.000000    0.000000    0.000000   0.000000   0.000000   \n1       ...   0.000000    0.000000    0.000000   0.000000   0.000000   \n2       ...   0.000000    0.000000    0.000000   0.000000   0.000000   \n3       ...   0.000000    0.000000    0.000000   0.000000   0.000000   \n4       ...   0.000000    0.000000    0.000000   0.000000   0.000000   \n...     ...        ...         ...         ...        ...        ...   \n816492  ...   1.479591    1.474255    1.469100   1.464118   1.459301   \n816493  ...   7.851979    8.382493    8.910065   9.434841   9.956960   \n816494  ...   0.760172    0.811532    0.862608   0.913413   0.963961   \n816495  ...   3.675052    3.923355    4.170280   4.415897   4.660271   \n816496  ...   3.452379    3.685637    3.917600   4.148335   4.377902   \n\n       2047_sigma  2048_sigma  2049_sigma  2050_sigma        Gas  \n0        0.000000    0.000000    0.000000    0.000000   CO2e_20a  \n1        0.000000    0.000000    0.000000    0.000000   CO2e_20a  \n2        0.000000    0.000000    0.000000    0.000000   CO2e_20a  \n3        0.000000    0.000000    0.000000    0.000000   CO2e_20a  \n4        0.000000    0.000000    0.000000    0.000000   CO2e_20a  \n...           ...         ...         ...         ...        ...  \n816492   1.454639    1.450126    1.445755    1.441519  CO2e_100a  \n816493  10.476552   10.993737   11.508628   12.021333  CO2e_100a  \n816494   1.014264    1.064334    1.114182    1.163818  CO2e_100a  \n816495   4.903461    5.145525    5.386516    5.626483  CO2e_100a  \n816496   4.606358    4.833755    5.060144    5.285571  CO2e_100a  \n\n[1632994 rows x 163 columns]",
      "text/html": "<div>\n<style scoped>\n    .dataframe tbody tr th:only-of-type {\n        vertical-align: middle;\n    }\n\n    .dataframe tbody tr th {\n        vertical-align: top;\n    }\n\n    .dataframe thead th {\n        text-align: right;\n    }\n</style>\n<table border=\"1\" class=\"dataframe\">\n  <thead>\n    <tr style=\"text-align: right;\">\n      <th></th>\n      <th>PRODUCT</th>\n      <th>COUNTRY/TERRITORY</th>\n      <th>STATE</th>\n      <th>COMPANY</th>\n      <th>SITE</th>\n      <th>#</th>\n      <th>ROUTE</th>\n      <th>TECHNOLOGY</th>\n      <th>LICENSOR</th>\n      <th>START_YR</th>\n      <th>...</th>\n      <th>2042_sigma</th>\n      <th>2043_sigma</th>\n      <th>2044_sigma</th>\n      <th>2045_sigma</th>\n      <th>2046_sigma</th>\n      <th>2047_sigma</th>\n      <th>2048_sigma</th>\n      <th>2049_sigma</th>\n      <th>2050_sigma</th>\n      <th>Gas</th>\n    </tr>\n  </thead>\n  <tbody>\n    <tr>\n      <th>0</th>\n      <td>1,4-BUTANEDIOL</td>\n      <td>BELGIUM</td>\n      <td>n.a.</td>\n      <td>BASF</td>\n      <td>FELUY</td>\n      <td>1.0</td>\n      <td>MALEIC ANHYDRIDE</td>\n      <td>HYDRATION</td>\n      <td>KVAERNER PROCESS TECH</td>\n      <td>1997.0</td>\n      <td>...</td>\n      <td>0.000000</td>\n      <td>0.000000</td>\n      <td>0.000000</td>\n      <td>0.000000</td>\n      <td>0.000000</td>\n      <td>0.000000</td>\n      <td>0.000000</td>\n      <td>0.000000</td>\n      <td>0.000000</td>\n      <td>CO2e_20a</td>\n    </tr>\n    <tr>\n      <th>1</th>\n      <td>1,4-BUTANEDIOL</td>\n      <td>BELGIUM</td>\n      <td>n.a.</td>\n      <td>BASF</td>\n      <td>FELUY</td>\n      <td>1.0</td>\n      <td>MALEIC ANHYDRIDE</td>\n      <td>HYDRATION</td>\n      <td>KVAERNER PROCESS TECH</td>\n      <td>1997.0</td>\n      <td>...</td>\n      <td>0.000000</td>\n      <td>0.000000</td>\n      <td>0.000000</td>\n      <td>0.000000</td>\n      <td>0.000000</td>\n      <td>0.000000</td>\n      <td>0.000000</td>\n      <td>0.000000</td>\n      <td>0.000000</td>\n      <td>CO2e_20a</td>\n    </tr>\n    <tr>\n      <th>2</th>\n      <td>1,4-BUTANEDIOL</td>\n      <td>BELGIUM</td>\n      <td>n.a.</td>\n      <td>BASF</td>\n      <td>FELUY</td>\n      <td>1.0</td>\n      <td>MALEIC ANHYDRIDE</td>\n      <td>HYDRATION</td>\n      <td>KVAERNER PROCESS TECH</td>\n      <td>1997.0</td>\n      <td>...</td>\n      <td>0.000000</td>\n      <td>0.000000</td>\n      <td>0.000000</td>\n      <td>0.000000</td>\n      <td>0.000000</td>\n      <td>0.000000</td>\n      <td>0.000000</td>\n      <td>0.000000</td>\n      <td>0.000000</td>\n      <td>CO2e_20a</td>\n    </tr>\n    <tr>\n      <th>3</th>\n      <td>1,4-BUTANEDIOL</td>\n      <td>BELGIUM</td>\n      <td>n.a.</td>\n      <td>BASF</td>\n      <td>FELUY</td>\n      <td>1.0</td>\n      <td>MALEIC ANHYDRIDE</td>\n      <td>HYDRATION</td>\n      <td>KVAERNER PROCESS TECH</td>\n      <td>1997.0</td>\n      <td>...</td>\n      <td>0.000000</td>\n      <td>0.000000</td>\n      <td>0.000000</td>\n      <td>0.000000</td>\n      <td>0.000000</td>\n      <td>0.000000</td>\n      <td>0.000000</td>\n      <td>0.000000</td>\n      <td>0.000000</td>\n      <td>CO2e_20a</td>\n    </tr>\n    <tr>\n      <th>4</th>\n      <td>1,4-BUTANEDIOL</td>\n      <td>BELGIUM</td>\n      <td>n.a.</td>\n      <td>BASF</td>\n      <td>FELUY</td>\n      <td>1.0</td>\n      <td>MALEIC ANHYDRIDE</td>\n      <td>HYDRATION</td>\n      <td>KVAERNER PROCESS TECH</td>\n      <td>1997.0</td>\n      <td>...</td>\n      <td>0.000000</td>\n      <td>0.000000</td>\n      <td>0.000000</td>\n      <td>0.000000</td>\n      <td>0.000000</td>\n      <td>0.000000</td>\n      <td>0.000000</td>\n      <td>0.000000</td>\n      <td>0.000000</td>\n      <td>CO2e_20a</td>\n    </tr>\n    <tr>\n      <th>...</th>\n      <td>...</td>\n      <td>...</td>\n      <td>...</td>\n      <td>...</td>\n      <td>...</td>\n      <td>...</td>\n      <td>...</td>\n      <td>...</td>\n      <td>...</td>\n      <td>...</td>\n      <td>...</td>\n      <td>...</td>\n      <td>...</td>\n      <td>...</td>\n      <td>...</td>\n      <td>...</td>\n      <td>...</td>\n      <td>...</td>\n      <td>...</td>\n      <td>...</td>\n      <td>...</td>\n    </tr>\n    <tr>\n      <th>816492</th>\n      <td>VINYL ACETATE M.</td>\n      <td>UNITED STATES</td>\n      <td>n.a.</td>\n      <td>INEOS ACETYLS</td>\n      <td>~UNKNOWN USA</td>\n      <td>1.0</td>\n      <td>ETHYLENE</td>\n      <td>n.a.</td>\n      <td>n.a.</td>\n      <td>0.0</td>\n      <td>...</td>\n      <td>1.479591</td>\n      <td>1.474255</td>\n      <td>1.469100</td>\n      <td>1.464118</td>\n      <td>1.459301</td>\n      <td>1.454639</td>\n      <td>1.450126</td>\n      <td>1.445755</td>\n      <td>1.441519</td>\n      <td>CO2e_100a</td>\n    </tr>\n    <tr>\n      <th>816493</th>\n      <td>VINYL ACETATE M.</td>\n      <td>UNITED STATES</td>\n      <td>n.a.</td>\n      <td>~ADDITIONAL</td>\n      <td>~UNKNOWN USA</td>\n      <td>1.0</td>\n      <td>ETHYLENE</td>\n      <td>ACETOXYLATION</td>\n      <td>n.a.</td>\n      <td>2029.0</td>\n      <td>...</td>\n      <td>7.851979</td>\n      <td>8.382493</td>\n      <td>8.910065</td>\n      <td>9.434841</td>\n      <td>9.956960</td>\n      <td>10.476552</td>\n      <td>10.993737</td>\n      <td>11.508628</td>\n      <td>12.021333</td>\n      <td>CO2e_100a</td>\n    </tr>\n    <tr>\n      <th>816494</th>\n      <td>VINYL ACETATE M.</td>\n      <td>UNITED STATES</td>\n      <td>n.a.</td>\n      <td>~ADDITIONAL</td>\n      <td>~UNKNOWN USA</td>\n      <td>1.0</td>\n      <td>ETHYLENE</td>\n      <td>ACETOXYLATION</td>\n      <td>n.a.</td>\n      <td>2029.0</td>\n      <td>...</td>\n      <td>0.760172</td>\n      <td>0.811532</td>\n      <td>0.862608</td>\n      <td>0.913413</td>\n      <td>0.963961</td>\n      <td>1.014264</td>\n      <td>1.064334</td>\n      <td>1.114182</td>\n      <td>1.163818</td>\n      <td>CO2e_100a</td>\n    </tr>\n    <tr>\n      <th>816495</th>\n      <td>VINYL ACETATE M.</td>\n      <td>UNITED STATES</td>\n      <td>n.a.</td>\n      <td>~ADDITIONAL</td>\n      <td>~UNKNOWN USA</td>\n      <td>1.0</td>\n      <td>ETHYLENE</td>\n      <td>ACETOXYLATION</td>\n      <td>n.a.</td>\n      <td>2029.0</td>\n      <td>...</td>\n      <td>3.675052</td>\n      <td>3.923355</td>\n      <td>4.170280</td>\n      <td>4.415897</td>\n      <td>4.660271</td>\n      <td>4.903461</td>\n      <td>5.145525</td>\n      <td>5.386516</td>\n      <td>5.626483</td>\n      <td>CO2e_100a</td>\n    </tr>\n    <tr>\n      <th>816496</th>\n      <td>VINYL ACETATE M.</td>\n      <td>UNITED STATES</td>\n      <td>n.a.</td>\n      <td>~ADDITIONAL</td>\n      <td>~UNKNOWN USA</td>\n      <td>1.0</td>\n      <td>ETHYLENE</td>\n      <td>ACETOXYLATION</td>\n      <td>n.a.</td>\n      <td>2029.0</td>\n      <td>...</td>\n      <td>3.452379</td>\n      <td>3.685637</td>\n      <td>3.917600</td>\n      <td>4.148335</td>\n      <td>4.377902</td>\n      <td>4.606358</td>\n      <td>4.833755</td>\n      <td>5.060144</td>\n      <td>5.285571</td>\n      <td>CO2e_100a</td>\n    </tr>\n  </tbody>\n</table>\n<p>1632994 rows × 163 columns</p>\n</div>"
     },
     "execution_count": 75,
     "metadata": {},
     "output_type": "execute_result"
    }
   ],
   "source": [
    "facility_emissions"
   ],
   "metadata": {
    "collapsed": false,
    "pycharm": {
     "name": "#%%\n"
    }
   }
  },
  {
   "cell_type": "code",
   "execution_count": 70,
   "outputs": [],
   "source": [
    "aggregated_emissions = aggregated_emissions.reset_index()\n",
    "aggregated_emissions[aggregated_emissions.columns[:17]] = aggregated_emissions[aggregated_emissions.columns[:17]].astype(str)"
   ],
   "metadata": {
    "collapsed": false,
    "pycharm": {
     "name": "#%%\n"
    }
   }
  },
  {
   "cell_type": "code",
   "execution_count": 71,
   "outputs": [],
   "source": [
    "# Save aggregated emissions\n",
    "aggregated_emissions.to_parquet(output_path+'icisFacilityEmissionsDetailed_ihsMean_w_uncertainties.parquet')"
   ],
   "metadata": {
    "collapsed": false,
    "pycharm": {
     "name": "#%%\n"
    }
   }
  },
  {
   "cell_type": "markdown",
   "source": [
    "## Weighted average for Ethylene production"
   ],
   "metadata": {
    "collapsed": false,
    "pycharm": {
     "name": "#%% md\n"
    }
   }
  },
  {
   "cell_type": "code",
   "execution_count": 28,
   "outputs": [],
   "source": [
    "# Read in individual facilities\n",
    "facility_production = pd.read_csv(production_file, index_col=0)\n",
    "eth_prod = facility_production[facility_production['PRODUCT']=='ETHYLENE'].reset_index(drop=True)\n",
    "conv_factors = pd.read_csv(conversion_factor_file, index_col=0)\n",
    "eth_conv = conv_factors[conv_factors['Product']=='ETHYLENE'].reset_index(drop=True).rename(columns={'Target/Process':'ihs_match'})\n",
    "\n",
    "# Ethylene feedstocks\n",
    "feedstocks = pd.read_csv(input_path+'extracted/icisEthyleneFeedstocks_1978-2050.csv', index_col=0, header=[0,1])\n",
    "feedstock_types = pd.read_csv(input_path+'extra_inputs/feedstock_type.csv')"
   ],
   "metadata": {
    "collapsed": false,
    "pycharm": {
     "name": "#%%\n"
    }
   }
  },
  {
   "cell_type": "code",
   "execution_count": 29,
   "outputs": [
    {
     "name": "stderr",
     "output_type": "stream",
     "text": [
      "C:\\Users\\lukec\\AppData\\Local\\Temp/ipykernel_13600/2218533187.py:7: SettingWithCopyWarning: \n",
      "A value is trying to be set on a copy of a slice from a DataFrame.\n",
      "Try using .loc[row_indexer,col_indexer] = value instead\n",
      "\n",
      "See the caveats in the documentation: https://pandas.pydata.org/pandas-docs/stable/user_guide/indexing.html#returning-a-view-versus-a-copy\n",
      "  df['CAPACITY'] = df['CAPACITY'].apply(lambda x: re.sub(\"[^0-9.]\", \"0\", str(x))).astype(float)\n",
      "C:\\Users\\lukec\\AppData\\Local\\Programs\\Python\\Python310\\lib\\site-packages\\pandas\\core\\frame.py:3641: SettingWithCopyWarning: \n",
      "A value is trying to be set on a copy of a slice from a DataFrame.\n",
      "Try using .loc[row_indexer,col_indexer] = value instead\n",
      "\n",
      "See the caveats in the documentation: https://pandas.pydata.org/pandas-docs/stable/user_guide/indexing.html#returning-a-view-versus-a-copy\n",
      "  self[k1] = value[k2]\n"
     ]
    },
    {
     "data": {
      "text/plain": "           Research Year  Value  Value_sigma  Mass, kg  Mass, kg_sigma  \\\nFeedstock                                                                \nETHANE       2005.814815    1.0          0.0       1.0             0.0   \nHEAVYCON     2017.000000    1.0          0.0       1.0             0.0   \nLPG          1994.363636    1.0          0.0       1.0             0.0   \nMID-DIST     2011.111111    1.0          0.0       1.0             0.0   \nNAPHTHA      2011.000000    1.0          0.0       1.0             0.0   \n\n           Mass ratio  Mass ratio_sigma     value  \nFeedstock                                          \nETHANE       0.671107          0.009557  0.211670  \nHEAVYCON     0.263622          0.009706  0.158931  \nLPG          0.341998          0.010197  0.451780  \nMID-DIST     0.431727          0.012227  0.647867  \nNAPHTHA      0.279050          0.009770  0.183240  ",
      "text/html": "<div>\n<style scoped>\n    .dataframe tbody tr th:only-of-type {\n        vertical-align: middle;\n    }\n\n    .dataframe tbody tr th {\n        vertical-align: top;\n    }\n\n    .dataframe thead th {\n        text-align: right;\n    }\n</style>\n<table border=\"1\" class=\"dataframe\">\n  <thead>\n    <tr style=\"text-align: right;\">\n      <th></th>\n      <th>Research Year</th>\n      <th>Value</th>\n      <th>Value_sigma</th>\n      <th>Mass, kg</th>\n      <th>Mass, kg_sigma</th>\n      <th>Mass ratio</th>\n      <th>Mass ratio_sigma</th>\n      <th>value</th>\n    </tr>\n    <tr>\n      <th>Feedstock</th>\n      <th></th>\n      <th></th>\n      <th></th>\n      <th></th>\n      <th></th>\n      <th></th>\n      <th></th>\n      <th></th>\n    </tr>\n  </thead>\n  <tbody>\n    <tr>\n      <th>ETHANE</th>\n      <td>2005.814815</td>\n      <td>1.0</td>\n      <td>0.0</td>\n      <td>1.0</td>\n      <td>0.0</td>\n      <td>0.671107</td>\n      <td>0.009557</td>\n      <td>0.211670</td>\n    </tr>\n    <tr>\n      <th>HEAVYCON</th>\n      <td>2017.000000</td>\n      <td>1.0</td>\n      <td>0.0</td>\n      <td>1.0</td>\n      <td>0.0</td>\n      <td>0.263622</td>\n      <td>0.009706</td>\n      <td>0.158931</td>\n    </tr>\n    <tr>\n      <th>LPG</th>\n      <td>1994.363636</td>\n      <td>1.0</td>\n      <td>0.0</td>\n      <td>1.0</td>\n      <td>0.0</td>\n      <td>0.341998</td>\n      <td>0.010197</td>\n      <td>0.451780</td>\n    </tr>\n    <tr>\n      <th>MID-DIST</th>\n      <td>2011.111111</td>\n      <td>1.0</td>\n      <td>0.0</td>\n      <td>1.0</td>\n      <td>0.0</td>\n      <td>0.431727</td>\n      <td>0.012227</td>\n      <td>0.647867</td>\n    </tr>\n    <tr>\n      <th>NAPHTHA</th>\n      <td>2011.000000</td>\n      <td>1.0</td>\n      <td>0.0</td>\n      <td>1.0</td>\n      <td>0.0</td>\n      <td>0.279050</td>\n      <td>0.009770</td>\n      <td>0.183240</td>\n    </tr>\n  </tbody>\n</table>\n</div>"
     },
     "execution_count": 29,
     "metadata": {},
     "output_type": "execute_result"
    }
   ],
   "source": [
    "# Get emissions for each feedstock\n",
    "years = list(map(str, list(range(1978, 2051))))\n",
    "\n",
    "feedstock_vals = feedstocks.copy()\n",
    "for year in years:\n",
    "    df = feedstock_vals[year]\n",
    "    df['CAPACITY'] = df['CAPACITY'].apply(lambda x: re.sub(\"[^0-9.]\", \"0\", str(x))).astype(float)\n",
    "    df[df.columns[1:]] = df[df.columns[1:]].multiply(df['CAPACITY']/100, axis='index')\n",
    "    feedstock_vals[year] = df\n",
    "\n",
    "feedstock_emissions = eth_conv.merge(feedstock_types, on='ihs_match', how='left').groupby('Feedstock').mean()\n",
    "\n",
    "feedstock_emissions.head()"
   ],
   "metadata": {
    "collapsed": false,
    "pycharm": {
     "name": "#%%\n"
    }
   }
  },
  {
   "cell_type": "code",
   "execution_count": 30,
   "outputs": [
    {
     "ename": "NameError",
     "evalue": "name 'ethylene_ems' is not defined",
     "output_type": "error",
     "traceback": [
      "\u001B[1;31m---------------------------------------------------------------------------\u001B[0m",
      "\u001B[1;31mNameError\u001B[0m                                 Traceback (most recent call last)",
      "\u001B[1;32m~\\AppData\\Local\\Temp/ipykernel_13600/2129671540.py\u001B[0m in \u001B[0;36m<module>\u001B[1;34m\u001B[0m\n\u001B[0;32m     19\u001B[0m     \u001B[1;32melse\u001B[0m\u001B[1;33m:\u001B[0m \u001B[0methylene_ems\u001B[0m \u001B[1;33m=\u001B[0m \u001B[0meach_conv\u001B[0m\u001B[1;33m\u001B[0m\u001B[1;33m\u001B[0m\u001B[0m\n\u001B[0;32m     20\u001B[0m \u001B[1;33m\u001B[0m\u001B[0m\n\u001B[1;32m---> 21\u001B[1;33m \u001B[0methylene_ems\u001B[0m\u001B[1;33m.\u001B[0m\u001B[0mhead\u001B[0m\u001B[1;33m(\u001B[0m\u001B[1;33m)\u001B[0m\u001B[1;33m\u001B[0m\u001B[1;33m\u001B[0m\u001B[0m\n\u001B[0m",
      "\u001B[1;31mNameError\u001B[0m: name 'ethylene_ems' is not defined"
     ]
    }
   ],
   "source": [
    "# Apply emissions to each facility\n",
    "blank = feedstock_vals[feedstock_vals.columns[:7]]\n",
    "blank.columns = list(blank.columns.droplevel(1))\n",
    "conversions = feedstock_emissions.columns[['allocation' in name for name in feedstock_emissions.columns]]\n",
    "\n",
    "for conversion in conversions:\n",
    "    fs_ems = feedstock_emissions[conversion]\n",
    "    each_conv = pd.DataFrame()\n",
    "    for year in years:\n",
    "        df = feedstock_vals[year]\n",
    "        for fs in df.columns[1:]:\n",
    "            df[fs] = df[fs]*fs_ems.loc[fs]\n",
    "        yearly = blank.copy()\n",
    "        yearly['Year'] = year\n",
    "        yearly[conversion] = np.sum(df[df.columns[1:]].values, axis=1)\n",
    "        each_conv = pd.concat((each_conv,yearly), axis=0)\n",
    "    if conversion != conversions[0]:\n",
    "        ethylene_ems = ethylene_ems.merge(each_conv, on=list(each_conv.columns[:8]), how='left')\n",
    "    else: ethylene_ems = each_conv\n",
    "\n",
    "ethylene_ems.head()"
   ],
   "metadata": {
    "collapsed": false,
    "pycharm": {
     "name": "#%%\n"
    }
   }
  },
  {
   "cell_type": "code",
   "execution_count": 7,
   "outputs": [],
   "source": [
    "# Convert output to facility_emissions format\n",
    "ethylene_conv = ethylene_ems.copy()\n",
    "ethylene_conv.columns = [i.replace(',  allocation ','_').replace('_factor','') for i in ethylene_conv.columns]\n",
    "\n",
    "dbs = ['ihs_cradle-to-out-gate ', 'Raw Material ', 'Indirect Utilities ', 'Direct Utilities ', 'Direct Process ', 'Electricity ']\n",
    "names = ['IHS CtOG', 'Raw Material', 'Indirect Utilities', 'Direct Utilities', 'Direct Process', 'Electricity']\n",
    "emission_val_cols = ['CO2e_20a', 'CO2e_100a', 'Carbon dioxide', 'Carbon monoxide', 'Chloroform', 'Dinitrogen monoxide', 'Ethane', 'Methane', 'Nitric oxide', 'Nitrogen fluoride', 'Perfluoropentane', 'Sulfur hexafluoride', 'Other']\n",
    "\n",
    "base_cols = list(ethylene_conv.columns[:7])\n",
    "\n",
    "ethylene_pivoted = pd.DataFrame()\n",
    "ethylene_piv_sigma = pd.DataFrame()\n",
    "\n",
    "for db, name in zip(dbs, names):\n",
    "    for gas in emission_val_cols:\n",
    "        df = ethylene_conv[base_cols+['Year', db+gas]]\n",
    "        df = df.pivot(index = base_cols, columns = 'Year', values = db+gas)\n",
    "        df.index.name = None\n",
    "        df['Gas'] = gas\n",
    "        df['Type'] = name\n",
    "        ethylene_pivoted = pd.concat((ethylene_pivoted, df), axis = 0)\n",
    "\n",
    "        df_sigma = ethylene_conv[base_cols+['Year', db+gas+'_sigma']]\n",
    "        df_sigma = df_sigma.pivot(index = base_cols, columns = 'Year', values = db+gas+'_sigma')\n",
    "        df_sigma.index.name = None\n",
    "        df_sigma['Gas'] = gas\n",
    "        df_sigma['Type'] = name\n",
    "        ethylene_piv_sigma = pd.concat((ethylene_piv_sigma, df_sigma), axis = 0)\n",
    "\n",
    "ethylene_weighted = ethylene_pivoted.merge(ethylene_piv_sigma, on=base_cols+['Gas', 'Type'], how='left', suffixes=('','_sigma')).reset_index()\n",
    "\n",
    "ethylene_weighted.columns.name = None\n",
    "ethylene_weighted = ethylene_weighted.fillna(0)"
   ],
   "metadata": {
    "collapsed": false,
    "pycharm": {
     "name": "#%%\n"
    }
   }
  },
  {
   "cell_type": "code",
   "execution_count": 9,
   "outputs": [],
   "source": [
    "# Update ethylene values in facility emissions database\n",
    "facility_emissions = pd.read_parquet(output_path+'icisFacilityEmissions_ihsMean_w_uncertainties_allgases.parquet')\n",
    "\n",
    "emissions_merged = facility_emissions.merge(ethylene_weighted, on=['COUNTRY/TERRITORY', 'STATE', 'COMPANY', 'SITE', '#', 'Gas', 'Type'], how='left', suffixes=('_old','')).drop(columns='START_YR').rename(columns={'START_YR_old':'START_YR'})\n",
    "\n",
    "# years = [str(i) for i in range(1978, 2051)]\n",
    "# years_sigma = [year+'_sigma' for year in years]\n",
    "\n",
    "for year, uncert in zip(years, years_sigma):\n",
    "    emissions_merged[year] = emissions_merged[year].fillna(emissions_merged[year+'_old'])\n",
    "    emissions_merged[uncert] = emissions_merged[uncert].fillna(emissions_merged[uncert+'_old'])\n",
    "\n",
    "facility_emissions_update = emissions_merged.drop(columns=list(emissions_merged.columns[['_old' in i for i in emissions_merged.columns]]) + ['START_MO'])"
   ],
   "metadata": {
    "collapsed": false,
    "pycharm": {
     "name": "#%%\n"
    }
   }
  },
  {
   "cell_type": "code",
   "execution_count": 10,
   "outputs": [],
   "source": [
    "facility_emissions_update.to_parquet(output_path+'icisFacilityEmissions_ihsWeighted_w_uncertainties_allgases.parquet')"
   ],
   "metadata": {
    "collapsed": false,
    "pycharm": {
     "name": "#%%\n"
    }
   }
  },
  {
   "cell_type": "code",
   "execution_count": 36,
   "outputs": [],
   "source": [
    "## Utility functions\n",
    "def uncertainty_propagation(calc:str, x:float, dx:float, y:float=1, dy:float=0, z:float=1, propagation_type:str='simple') -> float:\n",
    "    if calc == 'mult':\n",
    "        xdiv = np.divide(dx, x, out=np.zeros_like(dx), where=x!=0)\n",
    "        ydiv = np.divide(dy, y, out=np.zeros_like(dy), where=y!=0)\n",
    "        if propagation_type == 'simple':\n",
    "            return (xdiv + ydiv)*z\n",
    "        elif propagation_type == 'stdev':\n",
    "            return np.sqrt(pow(xdiv,2) + pow(ydiv,2))*z\n",
    "        else: Exception('Specified propagation_type not recognised.')\n",
    "\n",
    "    elif calc == 'add':\n",
    "        if propagation_type == 'simple':\n",
    "            return abs(dx)+abs(dy)\n",
    "        elif propagation_type == 'stdev':\n",
    "            return np.sqrt(pow(dx,2) + pow(dy,2))\n",
    "        else: Exception('Specified propagation_type not recognised.')\n",
    "    else: Exception('Please specify calc of propagation')#%%"
   ],
   "metadata": {
    "collapsed": false,
    "pycharm": {
     "name": "#%%\n"
    }
   }
  },
  {
   "cell_type": "markdown",
   "source": [
    "# All possible facility emissions given different processes for making same product"
   ],
   "metadata": {
    "collapsed": false,
    "pycharm": {
     "name": "#%% md\n"
    }
   }
  },
  {
   "cell_type": "code",
   "execution_count": 5,
   "outputs": [],
   "source": [
    "facility_match = facility_conversion[list(facility_conversion.columns[:list(facility_conversion.columns).index('PROCESS')+2])]"
   ],
   "metadata": {
    "collapsed": false,
    "pycharm": {
     "name": "#%%\n"
    }
   }
  },
  {
   "cell_type": "code",
   "execution_count": 6,
   "outputs": [],
   "source": [
    "# sort_col = 'ihs_cradle-to-out-gate CO2e_20a,  allocation factor'\n",
    "# min_conv_factors = conv_factors.sort_values(['Product', sort_col]).groupby('Product').head(1).reset_index(drop=True)"
   ],
   "metadata": {
    "collapsed": false,
    "pycharm": {
     "name": "#%%\n"
    }
   }
  },
  {
   "cell_type": "code",
   "execution_count": 9,
   "outputs": [],
   "source": [
    "facility_min_type = facility_match.drop(columns='PROCESS').merge(conv_factors, on='Product', how='left').drop_duplicates()"
   ],
   "metadata": {
    "collapsed": false,
    "pycharm": {
     "name": "#%%\n"
    }
   }
  },
  {
   "cell_type": "code",
   "execution_count": 10,
   "outputs": [
    {
     "name": "stderr",
     "output_type": "stream",
     "text": [
      "C:\\Users\\lukec\\AppData\\Local\\Temp/ipykernel_10312/2432337054.py:5: RuntimeWarning: Mean of empty slice\n",
      "  facility_min_type['combined_' + column] = np.nanmean([facility_min_type['ei_' + column + '_cradle-to-gate'], facility_min_type['cm_' + column + '_cradle-to-gate']], axis=0)\n",
      "C:\\Users\\lukec\\AppData\\Local\\Temp/ipykernel_10312/2432337054.py:6: RuntimeWarning: Mean of empty slice\n",
      "  facility_min_type['combined_' + col_sigma] = np.nanmean([facility_min_type['ei_' + column + '_cradle-to-gate_sigma'], facility_min_type['cm_' + column + '_cradle-to-gate_sigma']], axis=0)\n"
     ]
    }
   ],
   "source": [
    "emission_val_cols = ['CO2e_20a', 'CO2e_100a']#, 'Carbon dioxide', 'Carbon monoxide', 'Chloroform', 'Dinitrogen monoxide', 'Ethane', 'Methane', 'Nitric oxide', 'Nitrogen fluoride', 'Perfluoropentane', 'Sulfur hexafluoride', 'Other']\n",
    "emission_val_cols_sigma = [col + '_sigma' for col in emission_val_cols]\n",
    "\n",
    "for column, col_sigma in zip(emission_val_cols, emission_val_cols_sigma):\n",
    "    facility_min_type['combined_' + column] = np.nanmean([facility_min_type['ei_' + column + '_cradle-to-gate'], facility_min_type['cm_' + column + '_cradle-to-gate']], axis=0)\n",
    "    facility_min_type['combined_' + col_sigma] = np.nanmean([facility_min_type['ei_' + column + '_cradle-to-gate_sigma'], facility_min_type['cm_' + column + '_cradle-to-gate_sigma']], axis=0)\n",
    "\n",
    "facility_min_type = facility_min_type[facility_min_type.columns[['ei' not in col and 'cm' not in col for col in facility_min_type.columns]]]\n",
    "\n",
    "facility_min_type.columns = [i.replace(',  allocation factor','').replace(',  allocation sigma','_sigma') for i in facility_min_type.columns]\n",
    "\n",
    "facility_min_type.rename(columns={'ihs_match':'PROCESS'}, inplace=True)"
   ],
   "metadata": {
    "collapsed": false,
    "pycharm": {
     "name": "#%%\n"
    }
   }
  },
  {
   "cell_type": "code",
   "execution_count": 11,
   "outputs": [
    {
     "name": "stderr",
     "output_type": "stream",
     "text": [
      "0it [00:00, ?it/s]\n",
      "  0%|          | 0/2 [00:00<?, ?it/s]\u001B[A\n",
      " 50%|█████     | 1/2 [00:01<00:01,  1.03s/it]\u001B[A\n",
      "100%|██████████| 2/2 [00:01<00:00,  1.04it/s]\u001B[A\n",
      "1it [00:01,  1.93s/it]\n",
      "  0%|          | 0/2 [00:00<?, ?it/s]\u001B[A\n",
      " 50%|█████     | 1/2 [00:00<00:00,  1.02it/s]\u001B[A\n",
      "100%|██████████| 2/2 [00:02<00:00,  1.05s/it]\u001B[A\n",
      "2it [00:04,  2.03s/it]\n",
      "  0%|          | 0/2 [00:00<?, ?it/s]\u001B[A\n",
      " 50%|█████     | 1/2 [00:01<00:01,  1.52s/it]\u001B[A\n",
      "100%|██████████| 2/2 [00:03<00:00,  1.62s/it]\u001B[A\n",
      "3it [00:07,  2.58s/it]\n",
      "  0%|          | 0/2 [00:00<?, ?it/s]\u001B[A\n",
      " 50%|█████     | 1/2 [00:01<00:01,  1.68s/it]\u001B[A\n",
      "100%|██████████| 2/2 [00:03<00:00,  1.63s/it]\u001B[A\n",
      "4it [00:10,  2.85s/it]\n",
      "  0%|          | 0/2 [00:00<?, ?it/s]\u001B[A\n",
      " 50%|█████     | 1/2 [00:01<00:01,  1.76s/it]\u001B[A\n",
      "100%|██████████| 2/2 [00:03<00:00,  1.82s/it]\u001B[A\n",
      "5it [00:14,  3.13s/it]\n",
      "  0%|          | 0/2 [00:00<?, ?it/s]\u001B[A\n",
      " 50%|█████     | 1/2 [00:03<00:03,  3.26s/it]\u001B[A\n",
      "100%|██████████| 2/2 [00:06<00:00,  3.08s/it]\u001B[A\n",
      "6it [00:20,  3.39s/it]\n"
     ]
    }
   ],
   "source": [
    "# Calculate facility emissions for\n",
    "dbs = ['combined_', 'Raw Material ', 'Indirect Utilities ', 'Direct Utilities ', 'Direct Process ', 'Electricity ']\n",
    "names = ['EI & CM', 'Raw Material', 'Indirect Utilities', 'Direct Utilities', 'Direct Process', 'Electricity']\n",
    "\n",
    "# Create base dataframe to use\n",
    "years = [str(i) for i in range(1978, 2051)]\n",
    "years_sigma = [year+'_sigma' for year in years]\n",
    "base_columns = ['PRODUCT', 'COUNTRY/TERRITORY', 'STATE', 'COMPANY', 'SITE', '#',\n",
    "       'ROUTE', 'TECHNOLOGY', 'LICENSOR', 'START_YR', 'COMPLEX', 'LATITUDE', 'LONGITUDE', 'PROCESS'] + years + years_sigma\n",
    "base_df = facility_min_type[base_columns]\n",
    "\n",
    "facility_mins = pd.DataFrame()\n",
    "for db, name in tqdm(zip(dbs, names)):\n",
    "    for gas in tqdm(emission_val_cols):\n",
    "        df = base_df.copy()\n",
    "        df[years] = df[years].multiply(facility_min_type[db+gas], axis='index')\n",
    "        ## Incorrect error propagation here\n",
    "        df[years_sigma] = df[years_sigma].multiply(facility_min_type[db+gas+'_sigma'], axis='index')\n",
    "        df['Gas'] = gas\n",
    "        df['Type'] = name\n",
    "        facility_mins = pd.concat((facility_mins, df), axis = 0)"
   ],
   "metadata": {
    "collapsed": false,
    "pycharm": {
     "name": "#%%\n"
    }
   }
  },
  {
   "cell_type": "code",
   "execution_count": 12,
   "outputs": [],
   "source": [
    "# Save as parquet file for large size\n",
    "facility_mins.to_parquet(output_path+'icisFacilityEmissions_ihsAllPossible_w_uncertainties.parquet')"
   ],
   "metadata": {
    "collapsed": false,
    "pycharm": {
     "name": "#%%\n"
    }
   }
  },
  {
   "cell_type": "code",
   "execution_count": null,
   "outputs": [],
   "source": [],
   "metadata": {
    "collapsed": false,
    "pycharm": {
     "name": "#%%\n"
    }
   }
  }
 ],
 "metadata": {
  "kernelspec": {
   "display_name": "Python 3",
   "language": "python",
   "name": "python3"
  },
  "language_info": {
   "codemirror_mode": {
    "name": "ipython",
    "version": 2
   },
   "file_extension": ".py",
   "mimetype": "text/x-python",
   "name": "python",
   "nbconvert_exporter": "python",
   "pygments_lexer": "ipython2",
   "version": "2.7.6"
  }
 },
 "nbformat": 4,
 "nbformat_minor": 0
}