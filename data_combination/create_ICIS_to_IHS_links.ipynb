{
 "cells": [
  {
   "cell_type": "code",
   "execution_count": 1,
   "outputs": [],
   "source": [
    "import numpy as np\n",
    "import pandas as pd\n",
    "\n",
    "input_path = '../data/'\n",
    "combined_factors_path = input_path+'combined/processConversionFactors_w_uncertainties.csv'\n",
    "icis_types_path = input_path + 'processed/icisFacilityProduction_w_uncertainties.csv'\n",
    "\n",
    "defined_matches_path = input_path+'extra_inputs/all_icis_to_ihs_manual_input.csv'\n",
    "output_path = '../data/'"
   ],
   "metadata": {
    "collapsed": false,
    "pycharm": {
     "name": "#%%\n"
    }
   }
  },
  {
   "cell_type": "code",
   "execution_count": 4,
   "outputs": [
    {
     "name": "stderr",
     "output_type": "stream",
     "text": [
      "C:\\Users\\lukec\\AppData\\Local\\Temp/ipykernel_27224/3752396787.py:37: SettingWithCopyWarning: \n",
      "A value is trying to be set on a copy of a slice from a DataFrame.\n",
      "Try using .loc[row_indexer,col_indexer] = value instead\n",
      "\n",
      "See the caveats in the documentation: https://pandas.pydata.org/pandas-docs/stable/user_guide/indexing.html#returning-a-view-versus-a-copy\n",
      "  match[col] = row[col]\n"
     ]
    }
   ],
   "source": [
    "# Create ICIS to IHS links\n",
    "\n",
    "combined_factors = pd.read_csv(combined_factors_path)\n",
    "reduced = combined_factors[combined_factors.columns[['sigma' not in i for i in combined_factors.columns]]]\n",
    "\n",
    "# Association creation for ihs to icis\n",
    "icis_ihs_matches = pd.DataFrame(columns=['ihs_match', 'PRODUCT', 'ROUTE', 'TECHNOLOGY', 'LICENSOR'])\n",
    "ihs_types = reduced[['Product','ihs_match']].dropna(subset=['ihs_match'])\n",
    "name_adjusts = {'PROPYLENE, POLYMER GRADE':'PROPYLENE', 'TEREPHTHALIC ACID':'PTA', 'VINYL ACETATE':'VINYL ACETATE M.'}\n",
    "ihs_types['Product'] = ihs_types['Product'].str.upper().replace(name_adjusts)\n",
    "icis_types = pd.read_csv(icis_types_path, index_col=0)[['PRODUCT','ROUTE','TECHNOLOGY','LICENSOR']].drop_duplicates()\n",
    "\n",
    "def single_value(df, ans1):\n",
    "    if len(df) == 0:\n",
    "        match = ans1\n",
    "    elif len(df) == 1:\n",
    "        match = df.copy()\n",
    "    else:\n",
    "        return False\n",
    "    return match\n",
    "\n",
    "for row in icis_types.iloc:\n",
    "    options = ihs_types[[row['PRODUCT']==product for product in ihs_types['Product']]]\n",
    "    match = single_value(options, pd.DataFrame(np.array([np.NaN,np.NaN]).reshape(1,2), columns=['ihs_match','Product']))\n",
    "    if match is False:\n",
    "        double_match = options[[row['ROUTE'] in option for option in options['ihs_match']]]\n",
    "        match = single_value(double_match, options)\n",
    "        if match is False:\n",
    "            triple_match = double_match[[row['TECHNOLOGY'] in option for option in double_match['ihs_match']]]\n",
    "            match = single_value(triple_match, double_match)\n",
    "            if match is False:\n",
    "                quad_match = triple_match[[row['LICENSOR'] in option for option in triple_match['ihs_match']]]\n",
    "                match = single_value(quad_match, triple_match)\n",
    "            if match is False: match = quad_match\n",
    "\n",
    "    for col in ['PRODUCT', 'ROUTE', 'TECHNOLOGY', 'LICENSOR']:\n",
    "        match[col] = row[col]\n",
    "    icis_ihs_matches = pd.concat((icis_ihs_matches, match), axis=0)\n",
    "    icis_ihs_matches.drop(columns=['Product'], inplace=True)"
   ],
   "metadata": {
    "collapsed": false,
    "pycharm": {
     "name": "#%%\n"
    }
   }
  },
  {
   "cell_type": "code",
   "execution_count": 6,
   "outputs": [],
   "source": [
    "## Add manually input matches for unfound\n",
    "defined_matches = pd.read_csv(defined_matches_path, index_col=0)\n",
    "unfound = icis_ihs_matches[icis_ihs_matches['ihs_match'].isnull()][['PRODUCT', 'ROUTE']].drop_duplicates()\n",
    "unfound_matches = unfound.merge(defined_matches, on=['PRODUCT','ROUTE'], how='left')"
   ],
   "metadata": {
    "collapsed": false,
    "pycharm": {
     "name": "#%%\n"
    }
   }
  },
  {
   "cell_type": "code",
   "execution_count": 13,
   "outputs": [],
   "source": [
    "## Add manually input matches for unfound\n",
    "defined_matches = pd.read_csv(defined_matches_path, index_col=0)\n",
    "unfound = icis_ihs_matches[icis_ihs_matches['ihs_match'].isnull()][['PRODUCT', 'ROUTE']].drop_duplicates()\n",
    "unfound_matches = unfound.merge(defined_matches, on=['PRODUCT','ROUTE'], how='left')\n",
    "\n",
    "# Output new unfound matches for continued manual input\n",
    "unfound_matches.to_csv(defined_matches_path, index=False)\n",
    "\n",
    "# Incorporate manual matches to full matches\n",
    "matches_update = icis_ihs_matches[icis_ihs_matches['ihs_match'].isnull()].drop(columns=['ihs_match']).merge(unfound_matches, on=['PRODUCT','ROUTE'], how='left')\n",
    "icis_ihs_matches_combined = pd.concat((icis_ihs_matches.dropna(subset=['ihs_match']), matches_update), axis=0)\n",
    "\n",
    "# Write all ICIS to IHS matches\n",
    "icis_ihs_matches_combined.sort_values(['PRODUCT','ROUTE','TECHNOLOGY','LICENSOR','ihs_match']).drop_duplicates().to_csv(output_path+'extra_inputs/all_icis_to_ihs_matches.csv')\n",
    "\n",
    "# production_update[['PRODUCT','ROUTE','ihs_match']].sort_values(['PRODUCT','ROUTE']).drop_duplicates().to_csv(output_path+'all_icis_to_ihs_manual_input.csv')"
   ],
   "metadata": {
    "collapsed": false,
    "pycharm": {
     "name": "#%%\n"
    }
   }
  },
  {
   "cell_type": "code",
   "execution_count": 59,
   "outputs": [],
   "source": [
    "# Other way around\n",
    "\n",
    "# ihs_icis_matches = pd.DataFrame(columns=['IHS', 'PRODUCT', 'ROUTE', 'TECHNOLOGY', 'LICENSOR'])\n",
    "#\n",
    "# for row in ihs_types.iloc:\n",
    "#     options = icis_types[[product in row['Product'] for product in icis_types['PRODUCT']]]\n",
    "#     match = single_value(options,\n",
    "#                          pd.DataFrame(np.array([np.NaN,np.NaN,np.NaN,np.NaN]).reshape(1,4),\n",
    "#                                       columns=['PRODUCT', 'ROUTE', 'TECHNOLOGY', 'LICENSOR']))\n",
    "#     if match is False:\n",
    "#         double_match = options[[option in row['ihs_match'] for option in options['ROUTE']]]\n",
    "#         match = single_value(double_match, options)\n",
    "#         if match is False:\n",
    "#             triple_match = double_match[[option in row['ihs_match'] for option in double_match['TECHNOLOGY']]]\n",
    "#             match = single_value(triple_match, double_match)\n",
    "#             if match is False:\n",
    "#                 quad_match = triple_match[[option in row['ihs_match'] for option in triple_match['LICENSOR']]]\n",
    "#                 match = single_value(quad_match, triple_match)\n",
    "#             if match is False: match = quad_match\n",
    "#     match['IHS'] = row['ihs_match']\n",
    "#     ihs_icis_matches = pd.concat((ihs_icis_matches, match), axis=0)\n",
    "#\n",
    "# # Association creation\n",
    "# product_routes = facility_emissions[['PRODUCT','ROUTE']].drop_duplicates()\n",
    "# processes = materials['Target'].unique()\n",
    "#\n",
    "# matches = []\n",
    "# for row in product_routes[290:].iloc:\n",
    "#     options = processes[[row['PRODUCT'] in process for process in processes]]\n",
    "#     if len(options) == 0:\n",
    "#          match = np.NaN\n",
    "#     elif len(options) == 1:\n",
    "#         match = options[0]\n",
    "#     else:\n",
    "#         double_match = options[[row['ROUTE'] in option for option in options]]\n",
    "#         if len(double_match) == 0:\n",
    "#             choice = input('Enter number of best match for '+row['PRODUCT']+' '+row['ROUTE']+':\\n'+str(options)+'\\n Type n to skip')\n",
    "#             match = options[int(choice)]\n",
    "#         elif len(double_match) == 1:\n",
    "#             match = double_match[0]\n",
    "#         else:\n",
    "#             choice = input('Enter number of best match for '+row['PRODUCT']+' '+row['ROUTE']+':\\n'+str(double_match)+'\\n Type n to skip')\n",
    "#             match = double_match[int(choice)]\n",
    "#     matches = matches + [match]\n",
    "#\n",
    "# done = product_routes\n",
    "# done['IHS'] = matches\n",
    "#\n",
    "# done.to_csv('C:/Users\\lukec\\PycharmProjects\\emissions-tracking-conda\\emissions-tracking\\data/icis_ihs_matches.csv')"
   ],
   "metadata": {
    "collapsed": false,
    "pycharm": {
     "name": "#%%\n"
    }
   }
  }
 ],
 "metadata": {
  "kernelspec": {
   "display_name": "Python 3",
   "language": "python",
   "name": "python3"
  },
  "language_info": {
   "codemirror_mode": {
    "name": "ipython",
    "version": 2
   },
   "file_extension": ".py",
   "mimetype": "text/x-python",
   "name": "python",
   "nbconvert_exporter": "python",
   "pygments_lexer": "ipython2",
   "version": "2.7.6"
  }
 },
 "nbformat": 4,
 "nbformat_minor": 0
}