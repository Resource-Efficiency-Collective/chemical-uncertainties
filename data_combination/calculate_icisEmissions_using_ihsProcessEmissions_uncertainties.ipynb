{
 "cells": [
  {
   "cell_type": "markdown",
   "source": [
    "# Calculation of per facility ICIS emissions given related IHS processes\n",
    "\n",
    "Assumptions -> Conversion factor used for ICIS facility is mean of conversion factors for all corresponding IHS processes\n",
    "-> For Ethylene, feedstock conversion factor is mean of conversion factors linked to feedstock"
   ],
   "metadata": {
    "collapsed": false,
    "pycharm": {
     "name": "#%% md\n"
    }
   }
  },
  {
   "cell_type": "code",
   "execution_count": 1,
   "outputs": [],
   "source": [
    "# Import packages\n",
    "import re\n",
    "import numpy as np\n",
    "import pandas as pd\n",
    "from tqdm import tqdm\n",
    "\n",
    "# File paths\n",
    "input_path = '../data/'\n",
    "output_path = '../data/combined/'\n",
    "\n",
    "production_file = input_path+'processed/icisFacilityProduction_dedoubled.csv'\n",
    "conversion_factor_file = input_path+'combined/processConversionFactors_allgases_allalloc_dedoubled.csv'\n",
    "matching_file = input_path+'extra_inputs/all_icis_to_ihs_matches.csv'\n",
    "matching_on = ['PRODUCT', 'ROUTE', 'TECHNOLOGY', 'LICENSOR']"
   ],
   "metadata": {
    "collapsed": false,
    "pycharm": {
     "name": "#%%\n"
    },
    "ExecuteTime": {
     "end_time": "2023-11-08T12:04:19.956574700Z",
     "start_time": "2023-11-08T12:04:18.753397400Z"
    }
   }
  },
  {
   "cell_type": "markdown",
   "source": [
    "## Import data"
   ],
   "metadata": {
    "collapsed": false,
    "pycharm": {
     "name": "#%% md\n"
    }
   }
  },
  {
   "cell_type": "code",
   "execution_count": 2,
   "outputs": [],
   "source": [
    "# Import data\n",
    "icis_ihs_matches = pd.read_csv(matching_file, index_col=0)\n",
    "facility_production = pd.read_csv(production_file, index_col=0)\n",
    "\n",
    "conv_factors = pd.read_csv(conversion_factor_file)\n",
    "conv_factors = conv_factors.dropna(subset=['ihs_match'])"
   ],
   "metadata": {
    "collapsed": false,
    "pycharm": {
     "name": "#%%\n"
    },
    "ExecuteTime": {
     "end_time": "2023-11-08T12:04:20.980475100Z",
     "start_time": "2023-11-08T12:04:19.961734200Z"
    }
   }
  },
  {
   "cell_type": "code",
   "execution_count": 3,
   "outputs": [
    {
     "ename": "TypeError",
     "evalue": "agg function failed [how->mean,dtype->object]",
     "output_type": "error",
     "traceback": [
      "\u001B[1;31m---------------------------------------------------------------------------\u001B[0m",
      "\u001B[1;31mTypeError\u001B[0m                                 Traceback (most recent call last)",
      "File \u001B[1;32mC:\\ProgramData\\Anaconda3\\envs\\emissions-tracking-conda\\lib\\site-packages\\pandas\\core\\groupby\\groupby.py:1874\u001B[0m, in \u001B[0;36mGroupBy._agg_py_fallback\u001B[1;34m(self, how, values, ndim, alt)\u001B[0m\n\u001B[0;32m   1873\u001B[0m \u001B[38;5;28;01mtry\u001B[39;00m:\n\u001B[1;32m-> 1874\u001B[0m     res_values \u001B[38;5;241m=\u001B[39m \u001B[38;5;28;43mself\u001B[39;49m\u001B[38;5;241;43m.\u001B[39;49m\u001B[43mgrouper\u001B[49m\u001B[38;5;241;43m.\u001B[39;49m\u001B[43magg_series\u001B[49m\u001B[43m(\u001B[49m\u001B[43mser\u001B[49m\u001B[43m,\u001B[49m\u001B[43m \u001B[49m\u001B[43malt\u001B[49m\u001B[43m,\u001B[49m\u001B[43m \u001B[49m\u001B[43mpreserve_dtype\u001B[49m\u001B[38;5;241;43m=\u001B[39;49m\u001B[38;5;28;43;01mTrue\u001B[39;49;00m\u001B[43m)\u001B[49m\n\u001B[0;32m   1875\u001B[0m \u001B[38;5;28;01mexcept\u001B[39;00m \u001B[38;5;167;01mException\u001B[39;00m \u001B[38;5;28;01mas\u001B[39;00m err:\n",
      "File \u001B[1;32mC:\\ProgramData\\Anaconda3\\envs\\emissions-tracking-conda\\lib\\site-packages\\pandas\\core\\groupby\\ops.py:850\u001B[0m, in \u001B[0;36mBaseGrouper.agg_series\u001B[1;34m(self, obj, func, preserve_dtype)\u001B[0m\n\u001B[0;32m    848\u001B[0m     preserve_dtype \u001B[38;5;241m=\u001B[39m \u001B[38;5;28;01mTrue\u001B[39;00m\n\u001B[1;32m--> 850\u001B[0m result \u001B[38;5;241m=\u001B[39m \u001B[38;5;28;43mself\u001B[39;49m\u001B[38;5;241;43m.\u001B[39;49m\u001B[43m_aggregate_series_pure_python\u001B[49m\u001B[43m(\u001B[49m\u001B[43mobj\u001B[49m\u001B[43m,\u001B[49m\u001B[43m \u001B[49m\u001B[43mfunc\u001B[49m\u001B[43m)\u001B[49m\n\u001B[0;32m    852\u001B[0m npvalues \u001B[38;5;241m=\u001B[39m lib\u001B[38;5;241m.\u001B[39mmaybe_convert_objects(result, try_float\u001B[38;5;241m=\u001B[39m\u001B[38;5;28;01mFalse\u001B[39;00m)\n",
      "File \u001B[1;32mC:\\ProgramData\\Anaconda3\\envs\\emissions-tracking-conda\\lib\\site-packages\\pandas\\core\\groupby\\ops.py:871\u001B[0m, in \u001B[0;36mBaseGrouper._aggregate_series_pure_python\u001B[1;34m(self, obj, func)\u001B[0m\n\u001B[0;32m    870\u001B[0m \u001B[38;5;28;01mfor\u001B[39;00m i, group \u001B[38;5;129;01min\u001B[39;00m \u001B[38;5;28menumerate\u001B[39m(splitter):\n\u001B[1;32m--> 871\u001B[0m     res \u001B[38;5;241m=\u001B[39m \u001B[43mfunc\u001B[49m\u001B[43m(\u001B[49m\u001B[43mgroup\u001B[49m\u001B[43m)\u001B[49m\n\u001B[0;32m    872\u001B[0m     res \u001B[38;5;241m=\u001B[39m extract_result(res)\n",
      "File \u001B[1;32mC:\\ProgramData\\Anaconda3\\envs\\emissions-tracking-conda\\lib\\site-packages\\pandas\\core\\groupby\\groupby.py:2380\u001B[0m, in \u001B[0;36mGroupBy.mean.<locals>.<lambda>\u001B[1;34m(x)\u001B[0m\n\u001B[0;32m   2377\u001B[0m \u001B[38;5;28;01melse\u001B[39;00m:\n\u001B[0;32m   2378\u001B[0m     result \u001B[38;5;241m=\u001B[39m \u001B[38;5;28mself\u001B[39m\u001B[38;5;241m.\u001B[39m_cython_agg_general(\n\u001B[0;32m   2379\u001B[0m         \u001B[38;5;124m\"\u001B[39m\u001B[38;5;124mmean\u001B[39m\u001B[38;5;124m\"\u001B[39m,\n\u001B[1;32m-> 2380\u001B[0m         alt\u001B[38;5;241m=\u001B[39m\u001B[38;5;28;01mlambda\u001B[39;00m x: \u001B[43mSeries\u001B[49m\u001B[43m(\u001B[49m\u001B[43mx\u001B[49m\u001B[43m)\u001B[49m\u001B[38;5;241;43m.\u001B[39;49m\u001B[43mmean\u001B[49m\u001B[43m(\u001B[49m\u001B[43mnumeric_only\u001B[49m\u001B[38;5;241;43m=\u001B[39;49m\u001B[43mnumeric_only\u001B[49m\u001B[43m)\u001B[49m,\n\u001B[0;32m   2381\u001B[0m         numeric_only\u001B[38;5;241m=\u001B[39mnumeric_only,\n\u001B[0;32m   2382\u001B[0m     )\n\u001B[0;32m   2383\u001B[0m     \u001B[38;5;28;01mreturn\u001B[39;00m result\u001B[38;5;241m.\u001B[39m__finalize__(\u001B[38;5;28mself\u001B[39m\u001B[38;5;241m.\u001B[39mobj, method\u001B[38;5;241m=\u001B[39m\u001B[38;5;124m\"\u001B[39m\u001B[38;5;124mgroupby\u001B[39m\u001B[38;5;124m\"\u001B[39m)\n",
      "File \u001B[1;32mC:\\ProgramData\\Anaconda3\\envs\\emissions-tracking-conda\\lib\\site-packages\\pandas\\core\\series.py:6221\u001B[0m, in \u001B[0;36mSeries.mean\u001B[1;34m(self, axis, skipna, numeric_only, **kwargs)\u001B[0m\n\u001B[0;32m   6213\u001B[0m \u001B[38;5;129m@doc\u001B[39m(make_doc(\u001B[38;5;124m\"\u001B[39m\u001B[38;5;124mmean\u001B[39m\u001B[38;5;124m\"\u001B[39m, ndim\u001B[38;5;241m=\u001B[39m\u001B[38;5;241m1\u001B[39m))\n\u001B[0;32m   6214\u001B[0m \u001B[38;5;28;01mdef\u001B[39;00m \u001B[38;5;21mmean\u001B[39m(\n\u001B[0;32m   6215\u001B[0m     \u001B[38;5;28mself\u001B[39m,\n\u001B[1;32m   (...)\u001B[0m\n\u001B[0;32m   6219\u001B[0m     \u001B[38;5;241m*\u001B[39m\u001B[38;5;241m*\u001B[39mkwargs,\n\u001B[0;32m   6220\u001B[0m ):\n\u001B[1;32m-> 6221\u001B[0m     \u001B[38;5;28;01mreturn\u001B[39;00m NDFrame\u001B[38;5;241m.\u001B[39mmean(\u001B[38;5;28mself\u001B[39m, axis, skipna, numeric_only, \u001B[38;5;241m*\u001B[39m\u001B[38;5;241m*\u001B[39mkwargs)\n",
      "File \u001B[1;32mC:\\ProgramData\\Anaconda3\\envs\\emissions-tracking-conda\\lib\\site-packages\\pandas\\core\\generic.py:11984\u001B[0m, in \u001B[0;36mNDFrame.mean\u001B[1;34m(self, axis, skipna, numeric_only, **kwargs)\u001B[0m\n\u001B[0;32m  11977\u001B[0m \u001B[38;5;28;01mdef\u001B[39;00m \u001B[38;5;21mmean\u001B[39m(\n\u001B[0;32m  11978\u001B[0m     \u001B[38;5;28mself\u001B[39m,\n\u001B[0;32m  11979\u001B[0m     axis: Axis \u001B[38;5;241m|\u001B[39m \u001B[38;5;28;01mNone\u001B[39;00m \u001B[38;5;241m=\u001B[39m \u001B[38;5;241m0\u001B[39m,\n\u001B[1;32m   (...)\u001B[0m\n\u001B[0;32m  11982\u001B[0m     \u001B[38;5;241m*\u001B[39m\u001B[38;5;241m*\u001B[39mkwargs,\n\u001B[0;32m  11983\u001B[0m ) \u001B[38;5;241m-\u001B[39m\u001B[38;5;241m>\u001B[39m Series \u001B[38;5;241m|\u001B[39m \u001B[38;5;28mfloat\u001B[39m:\n\u001B[1;32m> 11984\u001B[0m     \u001B[38;5;28;01mreturn\u001B[39;00m \u001B[38;5;28mself\u001B[39m\u001B[38;5;241m.\u001B[39m_stat_function(\n\u001B[0;32m  11985\u001B[0m         \u001B[38;5;124m\"\u001B[39m\u001B[38;5;124mmean\u001B[39m\u001B[38;5;124m\"\u001B[39m, nanops\u001B[38;5;241m.\u001B[39mnanmean, axis, skipna, numeric_only, \u001B[38;5;241m*\u001B[39m\u001B[38;5;241m*\u001B[39mkwargs\n\u001B[0;32m  11986\u001B[0m     )\n",
      "File \u001B[1;32mC:\\ProgramData\\Anaconda3\\envs\\emissions-tracking-conda\\lib\\site-packages\\pandas\\core\\generic.py:11941\u001B[0m, in \u001B[0;36mNDFrame._stat_function\u001B[1;34m(self, name, func, axis, skipna, numeric_only, **kwargs)\u001B[0m\n\u001B[0;32m  11939\u001B[0m validate_bool_kwarg(skipna, \u001B[38;5;124m\"\u001B[39m\u001B[38;5;124mskipna\u001B[39m\u001B[38;5;124m\"\u001B[39m, none_allowed\u001B[38;5;241m=\u001B[39m\u001B[38;5;28;01mFalse\u001B[39;00m)\n\u001B[1;32m> 11941\u001B[0m \u001B[38;5;28;01mreturn\u001B[39;00m \u001B[38;5;28;43mself\u001B[39;49m\u001B[38;5;241;43m.\u001B[39;49m\u001B[43m_reduce\u001B[49m\u001B[43m(\u001B[49m\n\u001B[0;32m  11942\u001B[0m \u001B[43m    \u001B[49m\u001B[43mfunc\u001B[49m\u001B[43m,\u001B[49m\u001B[43m \u001B[49m\u001B[43mname\u001B[49m\u001B[38;5;241;43m=\u001B[39;49m\u001B[43mname\u001B[49m\u001B[43m,\u001B[49m\u001B[43m \u001B[49m\u001B[43maxis\u001B[49m\u001B[38;5;241;43m=\u001B[39;49m\u001B[43maxis\u001B[49m\u001B[43m,\u001B[49m\u001B[43m \u001B[49m\u001B[43mskipna\u001B[49m\u001B[38;5;241;43m=\u001B[39;49m\u001B[43mskipna\u001B[49m\u001B[43m,\u001B[49m\u001B[43m \u001B[49m\u001B[43mnumeric_only\u001B[49m\u001B[38;5;241;43m=\u001B[39;49m\u001B[43mnumeric_only\u001B[49m\n\u001B[0;32m  11943\u001B[0m \u001B[43m\u001B[49m\u001B[43m)\u001B[49m\n",
      "File \u001B[1;32mC:\\ProgramData\\Anaconda3\\envs\\emissions-tracking-conda\\lib\\site-packages\\pandas\\core\\series.py:6129\u001B[0m, in \u001B[0;36mSeries._reduce\u001B[1;34m(self, op, name, axis, skipna, numeric_only, filter_type, **kwds)\u001B[0m\n\u001B[0;32m   6125\u001B[0m     \u001B[38;5;28;01mraise\u001B[39;00m \u001B[38;5;167;01mTypeError\u001B[39;00m(\n\u001B[0;32m   6126\u001B[0m         \u001B[38;5;124mf\u001B[39m\u001B[38;5;124m\"\u001B[39m\u001B[38;5;124mSeries.\u001B[39m\u001B[38;5;132;01m{\u001B[39;00mname\u001B[38;5;132;01m}\u001B[39;00m\u001B[38;5;124m does not allow \u001B[39m\u001B[38;5;132;01m{\u001B[39;00mkwd_name\u001B[38;5;132;01m}\u001B[39;00m\u001B[38;5;124m=\u001B[39m\u001B[38;5;132;01m{\u001B[39;00mnumeric_only\u001B[38;5;132;01m}\u001B[39;00m\u001B[38;5;124m \u001B[39m\u001B[38;5;124m\"\u001B[39m\n\u001B[0;32m   6127\u001B[0m         \u001B[38;5;124m\"\u001B[39m\u001B[38;5;124mwith non-numeric dtypes.\u001B[39m\u001B[38;5;124m\"\u001B[39m\n\u001B[0;32m   6128\u001B[0m     )\n\u001B[1;32m-> 6129\u001B[0m \u001B[38;5;28;01mreturn\u001B[39;00m op(delegate, skipna\u001B[38;5;241m=\u001B[39mskipna, \u001B[38;5;241m*\u001B[39m\u001B[38;5;241m*\u001B[39mkwds)\n",
      "File \u001B[1;32mC:\\ProgramData\\Anaconda3\\envs\\emissions-tracking-conda\\lib\\site-packages\\pandas\\core\\nanops.py:147\u001B[0m, in \u001B[0;36mbottleneck_switch.__call__.<locals>.f\u001B[1;34m(values, axis, skipna, **kwds)\u001B[0m\n\u001B[0;32m    146\u001B[0m \u001B[38;5;28;01melse\u001B[39;00m:\n\u001B[1;32m--> 147\u001B[0m     result \u001B[38;5;241m=\u001B[39m alt(values, axis\u001B[38;5;241m=\u001B[39maxis, skipna\u001B[38;5;241m=\u001B[39mskipna, \u001B[38;5;241m*\u001B[39m\u001B[38;5;241m*\u001B[39mkwds)\n\u001B[0;32m    149\u001B[0m \u001B[38;5;28;01mreturn\u001B[39;00m result\n",
      "File \u001B[1;32mC:\\ProgramData\\Anaconda3\\envs\\emissions-tracking-conda\\lib\\site-packages\\pandas\\core\\nanops.py:404\u001B[0m, in \u001B[0;36m_datetimelike_compat.<locals>.new_func\u001B[1;34m(values, axis, skipna, mask, **kwargs)\u001B[0m\n\u001B[0;32m    402\u001B[0m     mask \u001B[38;5;241m=\u001B[39m isna(values)\n\u001B[1;32m--> 404\u001B[0m result \u001B[38;5;241m=\u001B[39m func(values, axis\u001B[38;5;241m=\u001B[39maxis, skipna\u001B[38;5;241m=\u001B[39mskipna, mask\u001B[38;5;241m=\u001B[39mmask, \u001B[38;5;241m*\u001B[39m\u001B[38;5;241m*\u001B[39mkwargs)\n\u001B[0;32m    406\u001B[0m \u001B[38;5;28;01mif\u001B[39;00m datetimelike:\n",
      "File \u001B[1;32mC:\\ProgramData\\Anaconda3\\envs\\emissions-tracking-conda\\lib\\site-packages\\pandas\\core\\nanops.py:720\u001B[0m, in \u001B[0;36mnanmean\u001B[1;34m(values, axis, skipna, mask)\u001B[0m\n\u001B[0;32m    719\u001B[0m the_sum \u001B[38;5;241m=\u001B[39m values\u001B[38;5;241m.\u001B[39msum(axis, dtype\u001B[38;5;241m=\u001B[39mdtype_sum)\n\u001B[1;32m--> 720\u001B[0m the_sum \u001B[38;5;241m=\u001B[39m \u001B[43m_ensure_numeric\u001B[49m\u001B[43m(\u001B[49m\u001B[43mthe_sum\u001B[49m\u001B[43m)\u001B[49m\n\u001B[0;32m    722\u001B[0m \u001B[38;5;28;01mif\u001B[39;00m axis \u001B[38;5;129;01mis\u001B[39;00m \u001B[38;5;129;01mnot\u001B[39;00m \u001B[38;5;28;01mNone\u001B[39;00m \u001B[38;5;129;01mand\u001B[39;00m \u001B[38;5;28mgetattr\u001B[39m(the_sum, \u001B[38;5;124m\"\u001B[39m\u001B[38;5;124mndim\u001B[39m\u001B[38;5;124m\"\u001B[39m, \u001B[38;5;28;01mFalse\u001B[39;00m):\n",
      "File \u001B[1;32mC:\\ProgramData\\Anaconda3\\envs\\emissions-tracking-conda\\lib\\site-packages\\pandas\\core\\nanops.py:1693\u001B[0m, in \u001B[0;36m_ensure_numeric\u001B[1;34m(x)\u001B[0m\n\u001B[0;32m   1691\u001B[0m \u001B[38;5;28;01mif\u001B[39;00m \u001B[38;5;28misinstance\u001B[39m(x, \u001B[38;5;28mstr\u001B[39m):\n\u001B[0;32m   1692\u001B[0m     \u001B[38;5;66;03m# GH#44008, GH#36703 avoid casting e.g. strings to numeric\u001B[39;00m\n\u001B[1;32m-> 1693\u001B[0m     \u001B[38;5;28;01mraise\u001B[39;00m \u001B[38;5;167;01mTypeError\u001B[39;00m(\u001B[38;5;124mf\u001B[39m\u001B[38;5;124m\"\u001B[39m\u001B[38;5;124mCould not convert string \u001B[39m\u001B[38;5;124m'\u001B[39m\u001B[38;5;132;01m{\u001B[39;00mx\u001B[38;5;132;01m}\u001B[39;00m\u001B[38;5;124m'\u001B[39m\u001B[38;5;124m to numeric\u001B[39m\u001B[38;5;124m\"\u001B[39m)\n\u001B[0;32m   1694\u001B[0m \u001B[38;5;28;01mtry\u001B[39;00m:\n",
      "\u001B[1;31mTypeError\u001B[0m: Could not convert string 'AMMONIAAMMONIA' to numeric",
      "\nThe above exception was the direct cause of the following exception:\n",
      "\u001B[1;31mTypeError\u001B[0m                                 Traceback (most recent call last)",
      "Cell \u001B[1;32mIn[3], line 5\u001B[0m\n\u001B[0;32m      2\u001B[0m sr_percentage \u001B[38;5;241m=\u001B[39m \u001B[38;5;241m0.8\u001B[39m\n\u001B[0;32m      4\u001B[0m ammonia_processes \u001B[38;5;241m=\u001B[39m pd\u001B[38;5;241m.\u001B[39mread_csv(\u001B[38;5;124m'\u001B[39m\u001B[38;5;124mC:/Users\u001B[39m\u001B[38;5;124m\\\u001B[39m\u001B[38;5;124mlukec\u001B[39m\u001B[38;5;124m\\\u001B[39m\u001B[38;5;124mPycharmProjects\u001B[39m\u001B[38;5;124m\\\u001B[39m\u001B[38;5;124mpetrochemical-data\u001B[39m\u001B[38;5;124m\\\u001B[39m\u001B[38;5;124mdata\u001B[39m\u001B[38;5;124m\\\u001B[39m\u001B[38;5;124mextra_inputs/ammonia_processes_used.csv\u001B[39m\u001B[38;5;124m'\u001B[39m, index_col\u001B[38;5;241m=\u001B[39m\u001B[38;5;241m0\u001B[39m)\n\u001B[1;32m----> 5\u001B[0m grouped_amm \u001B[38;5;241m=\u001B[39m \u001B[43mconv_factors\u001B[49m\u001B[43m[\u001B[49m\u001B[43mconv_factors\u001B[49m\u001B[43m[\u001B[49m\u001B[38;5;124;43m'\u001B[39;49m\u001B[38;5;124;43mProduct\u001B[39;49m\u001B[38;5;124;43m'\u001B[39;49m\u001B[43m]\u001B[49m\u001B[38;5;241;43m==\u001B[39;49m\u001B[38;5;124;43m'\u001B[39;49m\u001B[38;5;124;43mAMMONIA\u001B[39;49m\u001B[38;5;124;43m'\u001B[39;49m\u001B[43m]\u001B[49m\u001B[38;5;241;43m.\u001B[39;49m\u001B[43mmerge\u001B[49m\u001B[43m(\u001B[49m\u001B[43mammonia_processes\u001B[49m\u001B[43m,\u001B[49m\u001B[43m \u001B[49m\u001B[43mon\u001B[49m\u001B[38;5;241;43m=\u001B[39;49m\u001B[38;5;124;43m'\u001B[39;49m\u001B[38;5;124;43mihs_match\u001B[39;49m\u001B[38;5;124;43m'\u001B[39;49m\u001B[43m)\u001B[49m\u001B[38;5;241;43m.\u001B[39;49m\u001B[43mgroupby\u001B[49m\u001B[43m(\u001B[49m\u001B[38;5;124;43m'\u001B[39;49m\u001B[38;5;124;43mType\u001B[39;49m\u001B[38;5;124;43m'\u001B[39;49m\u001B[43m)\u001B[49m\u001B[38;5;241;43m.\u001B[39;49m\u001B[43mmean\u001B[49m\u001B[43m(\u001B[49m\u001B[43m)\u001B[49m\n\u001B[0;32m      6\u001B[0m amm_weighted \u001B[38;5;241m=\u001B[39m (\u001B[38;5;241m1\u001B[39m\u001B[38;5;241m-\u001B[39msr_percentage)\u001B[38;5;241m*\u001B[39mgrouped_amm\u001B[38;5;241m.\u001B[39miloc[\u001B[38;5;241m0\u001B[39m, :]\u001B[38;5;241m+\u001B[39msr_percentage\u001B[38;5;241m*\u001B[39mgrouped_amm\u001B[38;5;241m.\u001B[39miloc[\u001B[38;5;241m1\u001B[39m, :]\n\u001B[0;32m      8\u001B[0m amm_df \u001B[38;5;241m=\u001B[39m pd\u001B[38;5;241m.\u001B[39mDataFrame(amm_weighted)\u001B[38;5;241m.\u001B[39mtranspose()\u001B[38;5;241m.\u001B[39mdrop(columns\u001B[38;5;241m=\u001B[39m[\u001B[38;5;124m'\u001B[39m\u001B[38;5;124mTotal\u001B[39m\u001B[38;5;124m'\u001B[39m])\u001B[38;5;241m.\u001B[39mastype(\u001B[38;5;28mfloat\u001B[39m)\n",
      "File \u001B[1;32mC:\\ProgramData\\Anaconda3\\envs\\emissions-tracking-conda\\lib\\site-packages\\pandas\\core\\groupby\\groupby.py:2378\u001B[0m, in \u001B[0;36mGroupBy.mean\u001B[1;34m(self, numeric_only, engine, engine_kwargs)\u001B[0m\n\u001B[0;32m   2371\u001B[0m     \u001B[38;5;28;01mreturn\u001B[39;00m \u001B[38;5;28mself\u001B[39m\u001B[38;5;241m.\u001B[39m_numba_agg_general(\n\u001B[0;32m   2372\u001B[0m         grouped_mean,\n\u001B[0;32m   2373\u001B[0m         executor\u001B[38;5;241m.\u001B[39mfloat_dtype_mapping,\n\u001B[0;32m   2374\u001B[0m         engine_kwargs,\n\u001B[0;32m   2375\u001B[0m         min_periods\u001B[38;5;241m=\u001B[39m\u001B[38;5;241m0\u001B[39m,\n\u001B[0;32m   2376\u001B[0m     )\n\u001B[0;32m   2377\u001B[0m \u001B[38;5;28;01melse\u001B[39;00m:\n\u001B[1;32m-> 2378\u001B[0m     result \u001B[38;5;241m=\u001B[39m \u001B[38;5;28;43mself\u001B[39;49m\u001B[38;5;241;43m.\u001B[39;49m\u001B[43m_cython_agg_general\u001B[49m\u001B[43m(\u001B[49m\n\u001B[0;32m   2379\u001B[0m \u001B[43m        \u001B[49m\u001B[38;5;124;43m\"\u001B[39;49m\u001B[38;5;124;43mmean\u001B[39;49m\u001B[38;5;124;43m\"\u001B[39;49m\u001B[43m,\u001B[49m\n\u001B[0;32m   2380\u001B[0m \u001B[43m        \u001B[49m\u001B[43malt\u001B[49m\u001B[38;5;241;43m=\u001B[39;49m\u001B[38;5;28;43;01mlambda\u001B[39;49;00m\u001B[43m \u001B[49m\u001B[43mx\u001B[49m\u001B[43m:\u001B[49m\u001B[43m \u001B[49m\u001B[43mSeries\u001B[49m\u001B[43m(\u001B[49m\u001B[43mx\u001B[49m\u001B[43m)\u001B[49m\u001B[38;5;241;43m.\u001B[39;49m\u001B[43mmean\u001B[49m\u001B[43m(\u001B[49m\u001B[43mnumeric_only\u001B[49m\u001B[38;5;241;43m=\u001B[39;49m\u001B[43mnumeric_only\u001B[49m\u001B[43m)\u001B[49m\u001B[43m,\u001B[49m\n\u001B[0;32m   2381\u001B[0m \u001B[43m        \u001B[49m\u001B[43mnumeric_only\u001B[49m\u001B[38;5;241;43m=\u001B[39;49m\u001B[43mnumeric_only\u001B[49m\u001B[43m,\u001B[49m\n\u001B[0;32m   2382\u001B[0m \u001B[43m    \u001B[49m\u001B[43m)\u001B[49m\n\u001B[0;32m   2383\u001B[0m     \u001B[38;5;28;01mreturn\u001B[39;00m result\u001B[38;5;241m.\u001B[39m__finalize__(\u001B[38;5;28mself\u001B[39m\u001B[38;5;241m.\u001B[39mobj, method\u001B[38;5;241m=\u001B[39m\u001B[38;5;124m\"\u001B[39m\u001B[38;5;124mgroupby\u001B[39m\u001B[38;5;124m\"\u001B[39m)\n",
      "File \u001B[1;32mC:\\ProgramData\\Anaconda3\\envs\\emissions-tracking-conda\\lib\\site-packages\\pandas\\core\\groupby\\groupby.py:1929\u001B[0m, in \u001B[0;36mGroupBy._cython_agg_general\u001B[1;34m(self, how, alt, numeric_only, min_count, **kwargs)\u001B[0m\n\u001B[0;32m   1926\u001B[0m     result \u001B[38;5;241m=\u001B[39m \u001B[38;5;28mself\u001B[39m\u001B[38;5;241m.\u001B[39m_agg_py_fallback(how, values, ndim\u001B[38;5;241m=\u001B[39mdata\u001B[38;5;241m.\u001B[39mndim, alt\u001B[38;5;241m=\u001B[39malt)\n\u001B[0;32m   1927\u001B[0m     \u001B[38;5;28;01mreturn\u001B[39;00m result\n\u001B[1;32m-> 1929\u001B[0m new_mgr \u001B[38;5;241m=\u001B[39m \u001B[43mdata\u001B[49m\u001B[38;5;241;43m.\u001B[39;49m\u001B[43mgrouped_reduce\u001B[49m\u001B[43m(\u001B[49m\u001B[43marray_func\u001B[49m\u001B[43m)\u001B[49m\n\u001B[0;32m   1930\u001B[0m res \u001B[38;5;241m=\u001B[39m \u001B[38;5;28mself\u001B[39m\u001B[38;5;241m.\u001B[39m_wrap_agged_manager(new_mgr)\n\u001B[0;32m   1931\u001B[0m out \u001B[38;5;241m=\u001B[39m \u001B[38;5;28mself\u001B[39m\u001B[38;5;241m.\u001B[39m_wrap_aggregated_output(res)\n",
      "File \u001B[1;32mC:\\ProgramData\\Anaconda3\\envs\\emissions-tracking-conda\\lib\\site-packages\\pandas\\core\\internals\\managers.py:1428\u001B[0m, in \u001B[0;36mBlockManager.grouped_reduce\u001B[1;34m(self, func)\u001B[0m\n\u001B[0;32m   1424\u001B[0m \u001B[38;5;28;01mif\u001B[39;00m blk\u001B[38;5;241m.\u001B[39mis_object:\n\u001B[0;32m   1425\u001B[0m     \u001B[38;5;66;03m# split on object-dtype blocks bc some columns may raise\u001B[39;00m\n\u001B[0;32m   1426\u001B[0m     \u001B[38;5;66;03m#  while others do not.\u001B[39;00m\n\u001B[0;32m   1427\u001B[0m     \u001B[38;5;28;01mfor\u001B[39;00m sb \u001B[38;5;129;01min\u001B[39;00m blk\u001B[38;5;241m.\u001B[39m_split():\n\u001B[1;32m-> 1428\u001B[0m         applied \u001B[38;5;241m=\u001B[39m \u001B[43msb\u001B[49m\u001B[38;5;241;43m.\u001B[39;49m\u001B[43mapply\u001B[49m\u001B[43m(\u001B[49m\u001B[43mfunc\u001B[49m\u001B[43m)\u001B[49m\n\u001B[0;32m   1429\u001B[0m         result_blocks \u001B[38;5;241m=\u001B[39m extend_blocks(applied, result_blocks)\n\u001B[0;32m   1430\u001B[0m \u001B[38;5;28;01melse\u001B[39;00m:\n",
      "File \u001B[1;32mC:\\ProgramData\\Anaconda3\\envs\\emissions-tracking-conda\\lib\\site-packages\\pandas\\core\\internals\\blocks.py:366\u001B[0m, in \u001B[0;36mBlock.apply\u001B[1;34m(self, func, **kwargs)\u001B[0m\n\u001B[0;32m    360\u001B[0m \u001B[38;5;129m@final\u001B[39m\n\u001B[0;32m    361\u001B[0m \u001B[38;5;28;01mdef\u001B[39;00m \u001B[38;5;21mapply\u001B[39m(\u001B[38;5;28mself\u001B[39m, func, \u001B[38;5;241m*\u001B[39m\u001B[38;5;241m*\u001B[39mkwargs) \u001B[38;5;241m-\u001B[39m\u001B[38;5;241m>\u001B[39m \u001B[38;5;28mlist\u001B[39m[Block]:\n\u001B[0;32m    362\u001B[0m \u001B[38;5;250m    \u001B[39m\u001B[38;5;124;03m\"\"\"\u001B[39;00m\n\u001B[0;32m    363\u001B[0m \u001B[38;5;124;03m    apply the function to my values; return a block if we are not\u001B[39;00m\n\u001B[0;32m    364\u001B[0m \u001B[38;5;124;03m    one\u001B[39;00m\n\u001B[0;32m    365\u001B[0m \u001B[38;5;124;03m    \"\"\"\u001B[39;00m\n\u001B[1;32m--> 366\u001B[0m     result \u001B[38;5;241m=\u001B[39m func(\u001B[38;5;28mself\u001B[39m\u001B[38;5;241m.\u001B[39mvalues, \u001B[38;5;241m*\u001B[39m\u001B[38;5;241m*\u001B[39mkwargs)\n\u001B[0;32m    368\u001B[0m     result \u001B[38;5;241m=\u001B[39m maybe_coerce_values(result)\n\u001B[0;32m    369\u001B[0m     \u001B[38;5;28;01mreturn\u001B[39;00m \u001B[38;5;28mself\u001B[39m\u001B[38;5;241m.\u001B[39m_split_op_result(result)\n",
      "File \u001B[1;32mC:\\ProgramData\\Anaconda3\\envs\\emissions-tracking-conda\\lib\\site-packages\\pandas\\core\\groupby\\groupby.py:1926\u001B[0m, in \u001B[0;36mGroupBy._cython_agg_general.<locals>.array_func\u001B[1;34m(values)\u001B[0m\n\u001B[0;32m   1923\u001B[0m \u001B[38;5;28;01melse\u001B[39;00m:\n\u001B[0;32m   1924\u001B[0m     \u001B[38;5;28;01mreturn\u001B[39;00m result\n\u001B[1;32m-> 1926\u001B[0m result \u001B[38;5;241m=\u001B[39m \u001B[38;5;28;43mself\u001B[39;49m\u001B[38;5;241;43m.\u001B[39;49m\u001B[43m_agg_py_fallback\u001B[49m\u001B[43m(\u001B[49m\u001B[43mhow\u001B[49m\u001B[43m,\u001B[49m\u001B[43m \u001B[49m\u001B[43mvalues\u001B[49m\u001B[43m,\u001B[49m\u001B[43m \u001B[49m\u001B[43mndim\u001B[49m\u001B[38;5;241;43m=\u001B[39;49m\u001B[43mdata\u001B[49m\u001B[38;5;241;43m.\u001B[39;49m\u001B[43mndim\u001B[49m\u001B[43m,\u001B[49m\u001B[43m \u001B[49m\u001B[43malt\u001B[49m\u001B[38;5;241;43m=\u001B[39;49m\u001B[43malt\u001B[49m\u001B[43m)\u001B[49m\n\u001B[0;32m   1927\u001B[0m \u001B[38;5;28;01mreturn\u001B[39;00m result\n",
      "File \u001B[1;32mC:\\ProgramData\\Anaconda3\\envs\\emissions-tracking-conda\\lib\\site-packages\\pandas\\core\\groupby\\groupby.py:1878\u001B[0m, in \u001B[0;36mGroupBy._agg_py_fallback\u001B[1;34m(self, how, values, ndim, alt)\u001B[0m\n\u001B[0;32m   1876\u001B[0m     msg \u001B[38;5;241m=\u001B[39m \u001B[38;5;124mf\u001B[39m\u001B[38;5;124m\"\u001B[39m\u001B[38;5;124magg function failed [how->\u001B[39m\u001B[38;5;132;01m{\u001B[39;00mhow\u001B[38;5;132;01m}\u001B[39;00m\u001B[38;5;124m,dtype->\u001B[39m\u001B[38;5;132;01m{\u001B[39;00mser\u001B[38;5;241m.\u001B[39mdtype\u001B[38;5;132;01m}\u001B[39;00m\u001B[38;5;124m]\u001B[39m\u001B[38;5;124m\"\u001B[39m\n\u001B[0;32m   1877\u001B[0m     \u001B[38;5;66;03m# preserve the kind of exception that raised\u001B[39;00m\n\u001B[1;32m-> 1878\u001B[0m     \u001B[38;5;28;01mraise\u001B[39;00m \u001B[38;5;28mtype\u001B[39m(err)(msg) \u001B[38;5;28;01mfrom\u001B[39;00m \u001B[38;5;21;01merr\u001B[39;00m\n\u001B[0;32m   1880\u001B[0m \u001B[38;5;28;01mif\u001B[39;00m ser\u001B[38;5;241m.\u001B[39mdtype \u001B[38;5;241m==\u001B[39m \u001B[38;5;28mobject\u001B[39m:\n\u001B[0;32m   1881\u001B[0m     res_values \u001B[38;5;241m=\u001B[39m res_values\u001B[38;5;241m.\u001B[39mastype(\u001B[38;5;28mobject\u001B[39m, copy\u001B[38;5;241m=\u001B[39m\u001B[38;5;28;01mFalse\u001B[39;00m)\n",
      "\u001B[1;31mTypeError\u001B[0m: agg function failed [how->mean,dtype->object]"
     ]
    }
   ],
   "source": [
    "## Weight ammonia conversion factor\n",
    "sr_percentage = 0.8\n",
    "\n",
    "ammonia_processes = pd.read_csv('C:/Users\\lukec\\PycharmProjects\\petrochemical-data\\data\\extra_inputs/ammonia_processes_used.csv', index_col=0)\n",
    "grouped_amm = conv_factors[conv_factors['Product']=='AMMONIA'].merge(ammonia_processes, on='ihs_match').groupby('Type').mean()\n",
    "amm_weighted = (1-sr_percentage)*grouped_amm.iloc[0, :]+sr_percentage*grouped_amm.iloc[1, :]\n",
    "\n",
    "amm_df = pd.DataFrame(amm_weighted).transpose().drop(columns=['Total']).astype(float)\n",
    "amm_df['Product'], amm_df['ihs_match'] = 'AMMONIA', 'WEIGHTED AMMONIA'\n",
    "amm_df.index = [3000]\n",
    "conv_factors = pd.concat((conv_factors[conv_factors['Product']!='AMMONIA'], amm_df))"
   ],
   "metadata": {
    "collapsed": false,
    "pycharm": {
     "name": "#%%\n"
    },
    "ExecuteTime": {
     "end_time": "2023-11-08T12:04:24.755917200Z",
     "start_time": "2023-11-08T12:04:20.980475100Z"
    }
   }
  },
  {
   "cell_type": "code",
   "execution_count": 4,
   "outputs": [],
   "source": [
    "## Get Raw Materials columns\n",
    "for gas in ['CO2e_20a', 'CO2e_100a', 'Carbon dioxide', 'Carbon monoxide', 'Chloroform', 'Dinitrogen monoxide', 'Ethane', 'Methane', 'Nitric oxide','Nitrogen fluoride', 'Perfluoropentane','Sulfur hexafluoride', 'Other']:\n",
    "    for col_type in [', mass allocation factor', ', mass allocation sigma', ', energy allocation factor', ', energy allocation sigma', ', economic allocation factor', ', economic allocation sigma']:\n",
    "        if 'energy' in col_type:\n",
    "            columns = ['Feedstock '+gas+col_type, 'Organic chemicals '+gas+col_type, 'Primary chemicals '+gas+col_type]\n",
    "        else:\n",
    "            columns = ['Feedstock '+gas+col_type, 'Organic chemicals '+gas+col_type, 'Primary chemicals '+gas+col_type, 'Other intermediates '+gas+col_type]\n",
    "        conv_factors['Raw Material '+gas+col_type] = conv_factors[columns].sum(axis=1)"
   ],
   "metadata": {
    "collapsed": false,
    "pycharm": {
     "name": "#%%\n"
    },
    "ExecuteTime": {
     "end_time": "2023-11-08T12:04:35.922496400Z",
     "start_time": "2023-11-08T12:04:35.813148400Z"
    }
   }
  },
  {
   "cell_type": "code",
   "execution_count": 5,
   "outputs": [],
   "source": [
    "## Filter out outlying possible processes\n",
    "poss_processes = icis_ihs_matches.merge(conv_factors, left_on=['ihs_match'], right_on=['ihs_match'], how='left')\n",
    "\n",
    "# define a function to exclude outliers\n",
    "def exclude_outliers(group, col='ihs_cradle-to-out-gate CO2e_20a, mass allocation factor'):\n",
    "    #print('l'+str(len(group)))\n",
    "    if len(group) > 3:  # only exclude outliers if the group has more than 3 rows\n",
    "        mean = np.mean(group[col])\n",
    "        std = np.std(group[col])\n",
    "        max_distance = 2.5*std  # maximum distance from the mean to be considered an outlier\n",
    "        distances = np.abs(group[col] - mean)  # calculate distances of each value to the mean\n",
    "        filtered_group = group[distances <= max_distance]  # keep only values within the maximum distance\n",
    "        #print('f'+str(len(filtered_group)))\n",
    "        if len(filtered_group) < 3:  # if less than 3 rows remain, take the 3 closest to the mean\n",
    "            group['dist'] = np.abs(group[col] - mean)\n",
    "            closest_rows = group.nsmallest(3, 'dist', keep='all')\n",
    "            print(closest_rows)\n",
    "            return closest_rows.drop(columns=['dist'])\n",
    "        else:\n",
    "            return filtered_group\n",
    "    else:\n",
    "        return group\n",
    "\n",
    "cols = ['PRODUCT', 'ROUTE', 'TECHNOLOGY', 'LICENSOR']\n",
    "keep_rows = poss_processes[cols+['ihs_match', 'ihs_cradle-to-out-gate CO2e_20a, mass allocation factor']].groupby(cols).apply(exclude_outliers)\n",
    "filt_processes = poss_processes.iloc[list(keep_rows.index.get_level_values(4))].reset_index(drop=True)\n",
    "icis_ihs_matches = filt_processes[['ihs_match']+cols]"
   ],
   "metadata": {
    "collapsed": false,
    "pycharm": {
     "name": "#%%\n"
    },
    "ExecuteTime": {
     "end_time": "2023-11-08T12:04:39.203354Z",
     "start_time": "2023-11-08T12:04:37.117282500Z"
    }
   }
  },
  {
   "cell_type": "code",
   "execution_count": 9,
   "outputs": [
    {
     "data": {
      "text/plain": "                  ihs_match\nPRODUCT                    \n1,4-BUTANEDIOL            8\n2-ETHYLHEXANOL            6\nABS                       6\nACETALDEHYDE              1\nACETIC ACID              18\n...                     ...\nUPE RESINS                0\nVACUUM                    1\nVCM                       0\nVINYL ACETATE M.          9\nVISBREAKING               0\n\n[115 rows x 1 columns]",
      "text/html": "<div>\n<style scoped>\n    .dataframe tbody tr th:only-of-type {\n        vertical-align: middle;\n    }\n\n    .dataframe tbody tr th {\n        vertical-align: top;\n    }\n\n    .dataframe thead th {\n        text-align: right;\n    }\n</style>\n<table border=\"1\" class=\"dataframe\">\n  <thead>\n    <tr style=\"text-align: right;\">\n      <th></th>\n      <th>ihs_match</th>\n    </tr>\n    <tr>\n      <th>PRODUCT</th>\n      <th></th>\n    </tr>\n  </thead>\n  <tbody>\n    <tr>\n      <th>1,4-BUTANEDIOL</th>\n      <td>8</td>\n    </tr>\n    <tr>\n      <th>2-ETHYLHEXANOL</th>\n      <td>6</td>\n    </tr>\n    <tr>\n      <th>ABS</th>\n      <td>6</td>\n    </tr>\n    <tr>\n      <th>ACETALDEHYDE</th>\n      <td>1</td>\n    </tr>\n    <tr>\n      <th>ACETIC ACID</th>\n      <td>18</td>\n    </tr>\n    <tr>\n      <th>...</th>\n      <td>...</td>\n    </tr>\n    <tr>\n      <th>UPE RESINS</th>\n      <td>0</td>\n    </tr>\n    <tr>\n      <th>VACUUM</th>\n      <td>1</td>\n    </tr>\n    <tr>\n      <th>VCM</th>\n      <td>0</td>\n    </tr>\n    <tr>\n      <th>VINYL ACETATE M.</th>\n      <td>9</td>\n    </tr>\n    <tr>\n      <th>VISBREAKING</th>\n      <td>0</td>\n    </tr>\n  </tbody>\n</table>\n<p>115 rows × 1 columns</p>\n</div>"
     },
     "execution_count": 9,
     "metadata": {},
     "output_type": "execute_result"
    }
   ],
   "source": [
    "poss_processes[['PRODUCT', 'ihs_match']].drop_duplicates().groupby('PRODUCT').count()"
   ],
   "metadata": {
    "collapsed": false,
    "ExecuteTime": {
     "end_time": "2023-11-08T12:06:02.199700200Z",
     "start_time": "2023-11-08T12:06:02.137240200Z"
    }
   }
  },
  {
   "cell_type": "code",
   "execution_count": 28,
   "outputs": [
    {
     "data": {
      "text/plain": "                                              ihs_match   PRODUCT  \\\n5871  METHANOL FROM ENERKEM FEEDSTOCK (PLASTICS) CHE...  METHANOL   \n5897  METHANOL FROM ENERKEM FEEDSTOCK (PLASTICS) CHE...  METHANOL   \n5933  METHANOL FROM ENERKEM FEEDSTOCK (PLASTICS) CHE...  METHANOL   \n5959  METHANOL FROM ENERKEM FEEDSTOCK (PLASTICS) CHE...  METHANOL   \n5985  METHANOL FROM ENERKEM FEEDSTOCK (PLASTICS) CHE...  METHANOL   \n6011  METHANOL FROM ENERKEM FEEDSTOCK (PLASTICS) CHE...  METHANOL   \n6037  METHANOL FROM ENERKEM FEEDSTOCK (PLASTICS) CHE...  METHANOL   \n6063  METHANOL FROM ENERKEM FEEDSTOCK (PLASTICS) CHE...  METHANOL   \n6089  METHANOL FROM ENERKEM FEEDSTOCK (PLASTICS) CHE...  METHANOL   \n6115  METHANOL FROM ENERKEM FEEDSTOCK (PLASTICS) CHE...  METHANOL   \n6201  METHANOL FROM ENERKEM FEEDSTOCK (PLASTICS) CHE...  METHANOL   \n6227  METHANOL FROM ENERKEM FEEDSTOCK (PLASTICS) CHE...  METHANOL   \n6253  METHANOL FROM ENERKEM FEEDSTOCK (PLASTICS) CHE...  METHANOL   \n6279  METHANOL FROM ENERKEM FEEDSTOCK (PLASTICS) CHE...  METHANOL   \n6305  METHANOL FROM ENERKEM FEEDSTOCK (PLASTICS) CHE...  METHANOL   \n6331  METHANOL FROM ENERKEM FEEDSTOCK (PLASTICS) CHE...  METHANOL   \n\n                      ROUTE        TECHNOLOGY       LICENSOR   Product  \\\n5871               COAL TAR         SYNTHESIS          LURGI  METHANOL   \n5897               COAL TAR         SYNTHESIS           n.a.  METHANOL   \n5933         HEAVY FUEL OIL         SYNTHESIS          LURGI  METHANOL   \n5959         HEAVY FUEL OIL              n.a.           n.a.  METHANOL   \n5985  HEAVY FUEL OIL / COAL         SYNTHESIS          LURGI  METHANOL   \n6011               NAPHTHAS         SYNTHESIS  HALDOR TOPSOE  METHANOL   \n6037               NAPHTHAS         SYNTHESIS            ICI  METHANOL   \n6063               NAPHTHAS         SYNTHESIS          LURGI  METHANOL   \n6089               NAPHTHAS         SYNTHESIS           n.a.  METHANOL   \n6115               NAPHTHAS              n.a.           n.a.  METHANOL   \n6201               RECOVERY  EX DMT-BASED PET           n.a.  METHANOL   \n6227               RECOVERY              n.a.           n.a.  METHANOL   \n6253                  WASTE         SYNTHESIS        ENERKEM  METHANOL   \n6279                  WASTE         SYNTHESIS           n.a.  METHANOL   \n6305                  WASTE              n.a.           n.a.  METHANOL   \n6331                   WOOD         SYNTHESIS           n.a.  METHANOL   \n\n      ei_match  ei_CO2e_20a_cradle-to-gate  ei_CO2e_20a_cradle-to-gate_sigma  \\\n5871  methanol                    0.057083                          0.008562   \n5897  methanol                    0.057083                          0.008562   \n5933  methanol                    0.057083                          0.008562   \n5959  methanol                    0.057083                          0.008562   \n5985  methanol                    0.057083                          0.008562   \n6011  methanol                    0.057083                          0.008562   \n6037  methanol                    0.057083                          0.008562   \n6063  methanol                    0.057083                          0.008562   \n6089  methanol                    0.057083                          0.008562   \n6115  methanol                    0.057083                          0.008562   \n6201  methanol                    0.057083                          0.008562   \n6227  methanol                    0.057083                          0.008562   \n6253  methanol                    0.057083                          0.008562   \n6279  methanol                    0.057083                          0.008562   \n6305  methanol                    0.057083                          0.008562   \n6331  methanol                    0.057083                          0.008562   \n\n      ei_CO2e_20a_conv_factor  ...  \\\n5871                 1.507538  ...   \n5897                 1.507538  ...   \n5933                 1.507538  ...   \n5959                 1.507538  ...   \n5985                 1.507538  ...   \n6011                 1.507538  ...   \n6037                 1.507538  ...   \n6063                 1.507538  ...   \n6089                 1.507538  ...   \n6115                 1.507538  ...   \n6201                 1.507538  ...   \n6227                 1.507538  ...   \n6253                 1.507538  ...   \n6279                 1.507538  ...   \n6305                 1.507538  ...   \n6331                 1.507538  ...   \n\n      Raw Material Sulfur hexafluoride, energy allocation factor  \\\n5871                                                0.0            \n5897                                                0.0            \n5933                                                0.0            \n5959                                                0.0            \n5985                                                0.0            \n6011                                                0.0            \n6037                                                0.0            \n6063                                                0.0            \n6089                                                0.0            \n6115                                                0.0            \n6201                                                0.0            \n6227                                                0.0            \n6253                                                0.0            \n6279                                                0.0            \n6305                                                0.0            \n6331                                                0.0            \n\n      Raw Material Sulfur hexafluoride, energy allocation sigma  \\\n5871                                                0.0           \n5897                                                0.0           \n5933                                                0.0           \n5959                                                0.0           \n5985                                                0.0           \n6011                                                0.0           \n6037                                                0.0           \n6063                                                0.0           \n6089                                                0.0           \n6115                                                0.0           \n6201                                                0.0           \n6227                                                0.0           \n6253                                                0.0           \n6279                                                0.0           \n6305                                                0.0           \n6331                                                0.0           \n\n      Raw Material Sulfur hexafluoride, economic allocation factor  \\\n5871                                                0.0              \n5897                                                0.0              \n5933                                                0.0              \n5959                                                0.0              \n5985                                                0.0              \n6011                                                0.0              \n6037                                                0.0              \n6063                                                0.0              \n6089                                                0.0              \n6115                                                0.0              \n6201                                                0.0              \n6227                                                0.0              \n6253                                                0.0              \n6279                                                0.0              \n6305                                                0.0              \n6331                                                0.0              \n\n      Raw Material Sulfur hexafluoride, economic allocation sigma  \\\n5871                                                0.0             \n5897                                                0.0             \n5933                                                0.0             \n5959                                                0.0             \n5985                                                0.0             \n6011                                                0.0             \n6037                                                0.0             \n6063                                                0.0             \n6089                                                0.0             \n6115                                                0.0             \n6201                                                0.0             \n6227                                                0.0             \n6253                                                0.0             \n6279                                                0.0             \n6305                                                0.0             \n6331                                                0.0             \n\n      Raw Material Other, mass allocation factor  \\\n5871                                2.580998e-11   \n5897                                2.580998e-11   \n5933                                2.580998e-11   \n5959                                2.580998e-11   \n5985                                2.580998e-11   \n6011                                2.580998e-11   \n6037                                2.580998e-11   \n6063                                2.580998e-11   \n6089                                2.580998e-11   \n6115                                2.580998e-11   \n6201                                2.580998e-11   \n6227                                2.580998e-11   \n6253                                2.580998e-11   \n6279                                2.580998e-11   \n6305                                2.580998e-11   \n6331                                2.580998e-11   \n\n      Raw Material Other, mass allocation sigma  \\\n5871                               4.016344e-12   \n5897                               4.016344e-12   \n5933                               4.016344e-12   \n5959                               4.016344e-12   \n5985                               4.016344e-12   \n6011                               4.016344e-12   \n6037                               4.016344e-12   \n6063                               4.016344e-12   \n6089                               4.016344e-12   \n6115                               4.016344e-12   \n6201                               4.016344e-12   \n6227                               4.016344e-12   \n6253                               4.016344e-12   \n6279                               4.016344e-12   \n6305                               4.016344e-12   \n6331                               4.016344e-12   \n\n      Raw Material Other, energy allocation factor  \\\n5871                                           0.0   \n5897                                           0.0   \n5933                                           0.0   \n5959                                           0.0   \n5985                                           0.0   \n6011                                           0.0   \n6037                                           0.0   \n6063                                           0.0   \n6089                                           0.0   \n6115                                           0.0   \n6201                                           0.0   \n6227                                           0.0   \n6253                                           0.0   \n6279                                           0.0   \n6305                                           0.0   \n6331                                           0.0   \n\n      Raw Material Other, energy allocation sigma  \\\n5871                                          0.0   \n5897                                          0.0   \n5933                                          0.0   \n5959                                          0.0   \n5985                                          0.0   \n6011                                          0.0   \n6037                                          0.0   \n6063                                          0.0   \n6089                                          0.0   \n6115                                          0.0   \n6201                                          0.0   \n6227                                          0.0   \n6253                                          0.0   \n6279                                          0.0   \n6305                                          0.0   \n6331                                          0.0   \n\n      Raw Material Other, economic allocation factor  \\\n5871                                             0.0   \n5897                                             0.0   \n5933                                             0.0   \n5959                                             0.0   \n5985                                             0.0   \n6011                                             0.0   \n6037                                             0.0   \n6063                                             0.0   \n6089                                             0.0   \n6115                                             0.0   \n6201                                             0.0   \n6227                                             0.0   \n6253                                             0.0   \n6279                                             0.0   \n6305                                             0.0   \n6331                                             0.0   \n\n      Raw Material Other, economic allocation sigma  \n5871                                            0.0  \n5897                                            0.0  \n5933                                            0.0  \n5959                                            0.0  \n5985                                            0.0  \n6011                                            0.0  \n6037                                            0.0  \n6063                                            0.0  \n6089                                            0.0  \n6115                                            0.0  \n6201                                            0.0  \n6227                                            0.0  \n6253                                            0.0  \n6279                                            0.0  \n6305                                            0.0  \n6331                                            0.0  \n\n[16 rows x 871 columns]",
      "text/html": "<div>\n<style scoped>\n    .dataframe tbody tr th:only-of-type {\n        vertical-align: middle;\n    }\n\n    .dataframe tbody tr th {\n        vertical-align: top;\n    }\n\n    .dataframe thead th {\n        text-align: right;\n    }\n</style>\n<table border=\"1\" class=\"dataframe\">\n  <thead>\n    <tr style=\"text-align: right;\">\n      <th></th>\n      <th>ihs_match</th>\n      <th>PRODUCT</th>\n      <th>ROUTE</th>\n      <th>TECHNOLOGY</th>\n      <th>LICENSOR</th>\n      <th>Product</th>\n      <th>ei_match</th>\n      <th>ei_CO2e_20a_cradle-to-gate</th>\n      <th>ei_CO2e_20a_cradle-to-gate_sigma</th>\n      <th>ei_CO2e_20a_conv_factor</th>\n      <th>...</th>\n      <th>Raw Material Sulfur hexafluoride, energy allocation factor</th>\n      <th>Raw Material Sulfur hexafluoride, energy allocation sigma</th>\n      <th>Raw Material Sulfur hexafluoride, economic allocation factor</th>\n      <th>Raw Material Sulfur hexafluoride, economic allocation sigma</th>\n      <th>Raw Material Other, mass allocation factor</th>\n      <th>Raw Material Other, mass allocation sigma</th>\n      <th>Raw Material Other, energy allocation factor</th>\n      <th>Raw Material Other, energy allocation sigma</th>\n      <th>Raw Material Other, economic allocation factor</th>\n      <th>Raw Material Other, economic allocation sigma</th>\n    </tr>\n  </thead>\n  <tbody>\n    <tr>\n      <th>5871</th>\n      <td>METHANOL FROM ENERKEM FEEDSTOCK (PLASTICS) CHE...</td>\n      <td>METHANOL</td>\n      <td>COAL TAR</td>\n      <td>SYNTHESIS</td>\n      <td>LURGI</td>\n      <td>METHANOL</td>\n      <td>methanol</td>\n      <td>0.057083</td>\n      <td>0.008562</td>\n      <td>1.507538</td>\n      <td>...</td>\n      <td>0.0</td>\n      <td>0.0</td>\n      <td>0.0</td>\n      <td>0.0</td>\n      <td>2.580998e-11</td>\n      <td>4.016344e-12</td>\n      <td>0.0</td>\n      <td>0.0</td>\n      <td>0.0</td>\n      <td>0.0</td>\n    </tr>\n    <tr>\n      <th>5897</th>\n      <td>METHANOL FROM ENERKEM FEEDSTOCK (PLASTICS) CHE...</td>\n      <td>METHANOL</td>\n      <td>COAL TAR</td>\n      <td>SYNTHESIS</td>\n      <td>n.a.</td>\n      <td>METHANOL</td>\n      <td>methanol</td>\n      <td>0.057083</td>\n      <td>0.008562</td>\n      <td>1.507538</td>\n      <td>...</td>\n      <td>0.0</td>\n      <td>0.0</td>\n      <td>0.0</td>\n      <td>0.0</td>\n      <td>2.580998e-11</td>\n      <td>4.016344e-12</td>\n      <td>0.0</td>\n      <td>0.0</td>\n      <td>0.0</td>\n      <td>0.0</td>\n    </tr>\n    <tr>\n      <th>5933</th>\n      <td>METHANOL FROM ENERKEM FEEDSTOCK (PLASTICS) CHE...</td>\n      <td>METHANOL</td>\n      <td>HEAVY FUEL OIL</td>\n      <td>SYNTHESIS</td>\n      <td>LURGI</td>\n      <td>METHANOL</td>\n      <td>methanol</td>\n      <td>0.057083</td>\n      <td>0.008562</td>\n      <td>1.507538</td>\n      <td>...</td>\n      <td>0.0</td>\n      <td>0.0</td>\n      <td>0.0</td>\n      <td>0.0</td>\n      <td>2.580998e-11</td>\n      <td>4.016344e-12</td>\n      <td>0.0</td>\n      <td>0.0</td>\n      <td>0.0</td>\n      <td>0.0</td>\n    </tr>\n    <tr>\n      <th>5959</th>\n      <td>METHANOL FROM ENERKEM FEEDSTOCK (PLASTICS) CHE...</td>\n      <td>METHANOL</td>\n      <td>HEAVY FUEL OIL</td>\n      <td>n.a.</td>\n      <td>n.a.</td>\n      <td>METHANOL</td>\n      <td>methanol</td>\n      <td>0.057083</td>\n      <td>0.008562</td>\n      <td>1.507538</td>\n      <td>...</td>\n      <td>0.0</td>\n      <td>0.0</td>\n      <td>0.0</td>\n      <td>0.0</td>\n      <td>2.580998e-11</td>\n      <td>4.016344e-12</td>\n      <td>0.0</td>\n      <td>0.0</td>\n      <td>0.0</td>\n      <td>0.0</td>\n    </tr>\n    <tr>\n      <th>5985</th>\n      <td>METHANOL FROM ENERKEM FEEDSTOCK (PLASTICS) CHE...</td>\n      <td>METHANOL</td>\n      <td>HEAVY FUEL OIL / COAL</td>\n      <td>SYNTHESIS</td>\n      <td>LURGI</td>\n      <td>METHANOL</td>\n      <td>methanol</td>\n      <td>0.057083</td>\n      <td>0.008562</td>\n      <td>1.507538</td>\n      <td>...</td>\n      <td>0.0</td>\n      <td>0.0</td>\n      <td>0.0</td>\n      <td>0.0</td>\n      <td>2.580998e-11</td>\n      <td>4.016344e-12</td>\n      <td>0.0</td>\n      <td>0.0</td>\n      <td>0.0</td>\n      <td>0.0</td>\n    </tr>\n    <tr>\n      <th>6011</th>\n      <td>METHANOL FROM ENERKEM FEEDSTOCK (PLASTICS) CHE...</td>\n      <td>METHANOL</td>\n      <td>NAPHTHAS</td>\n      <td>SYNTHESIS</td>\n      <td>HALDOR TOPSOE</td>\n      <td>METHANOL</td>\n      <td>methanol</td>\n      <td>0.057083</td>\n      <td>0.008562</td>\n      <td>1.507538</td>\n      <td>...</td>\n      <td>0.0</td>\n      <td>0.0</td>\n      <td>0.0</td>\n      <td>0.0</td>\n      <td>2.580998e-11</td>\n      <td>4.016344e-12</td>\n      <td>0.0</td>\n      <td>0.0</td>\n      <td>0.0</td>\n      <td>0.0</td>\n    </tr>\n    <tr>\n      <th>6037</th>\n      <td>METHANOL FROM ENERKEM FEEDSTOCK (PLASTICS) CHE...</td>\n      <td>METHANOL</td>\n      <td>NAPHTHAS</td>\n      <td>SYNTHESIS</td>\n      <td>ICI</td>\n      <td>METHANOL</td>\n      <td>methanol</td>\n      <td>0.057083</td>\n      <td>0.008562</td>\n      <td>1.507538</td>\n      <td>...</td>\n      <td>0.0</td>\n      <td>0.0</td>\n      <td>0.0</td>\n      <td>0.0</td>\n      <td>2.580998e-11</td>\n      <td>4.016344e-12</td>\n      <td>0.0</td>\n      <td>0.0</td>\n      <td>0.0</td>\n      <td>0.0</td>\n    </tr>\n    <tr>\n      <th>6063</th>\n      <td>METHANOL FROM ENERKEM FEEDSTOCK (PLASTICS) CHE...</td>\n      <td>METHANOL</td>\n      <td>NAPHTHAS</td>\n      <td>SYNTHESIS</td>\n      <td>LURGI</td>\n      <td>METHANOL</td>\n      <td>methanol</td>\n      <td>0.057083</td>\n      <td>0.008562</td>\n      <td>1.507538</td>\n      <td>...</td>\n      <td>0.0</td>\n      <td>0.0</td>\n      <td>0.0</td>\n      <td>0.0</td>\n      <td>2.580998e-11</td>\n      <td>4.016344e-12</td>\n      <td>0.0</td>\n      <td>0.0</td>\n      <td>0.0</td>\n      <td>0.0</td>\n    </tr>\n    <tr>\n      <th>6089</th>\n      <td>METHANOL FROM ENERKEM FEEDSTOCK (PLASTICS) CHE...</td>\n      <td>METHANOL</td>\n      <td>NAPHTHAS</td>\n      <td>SYNTHESIS</td>\n      <td>n.a.</td>\n      <td>METHANOL</td>\n      <td>methanol</td>\n      <td>0.057083</td>\n      <td>0.008562</td>\n      <td>1.507538</td>\n      <td>...</td>\n      <td>0.0</td>\n      <td>0.0</td>\n      <td>0.0</td>\n      <td>0.0</td>\n      <td>2.580998e-11</td>\n      <td>4.016344e-12</td>\n      <td>0.0</td>\n      <td>0.0</td>\n      <td>0.0</td>\n      <td>0.0</td>\n    </tr>\n    <tr>\n      <th>6115</th>\n      <td>METHANOL FROM ENERKEM FEEDSTOCK (PLASTICS) CHE...</td>\n      <td>METHANOL</td>\n      <td>NAPHTHAS</td>\n      <td>n.a.</td>\n      <td>n.a.</td>\n      <td>METHANOL</td>\n      <td>methanol</td>\n      <td>0.057083</td>\n      <td>0.008562</td>\n      <td>1.507538</td>\n      <td>...</td>\n      <td>0.0</td>\n      <td>0.0</td>\n      <td>0.0</td>\n      <td>0.0</td>\n      <td>2.580998e-11</td>\n      <td>4.016344e-12</td>\n      <td>0.0</td>\n      <td>0.0</td>\n      <td>0.0</td>\n      <td>0.0</td>\n    </tr>\n    <tr>\n      <th>6201</th>\n      <td>METHANOL FROM ENERKEM FEEDSTOCK (PLASTICS) CHE...</td>\n      <td>METHANOL</td>\n      <td>RECOVERY</td>\n      <td>EX DMT-BASED PET</td>\n      <td>n.a.</td>\n      <td>METHANOL</td>\n      <td>methanol</td>\n      <td>0.057083</td>\n      <td>0.008562</td>\n      <td>1.507538</td>\n      <td>...</td>\n      <td>0.0</td>\n      <td>0.0</td>\n      <td>0.0</td>\n      <td>0.0</td>\n      <td>2.580998e-11</td>\n      <td>4.016344e-12</td>\n      <td>0.0</td>\n      <td>0.0</td>\n      <td>0.0</td>\n      <td>0.0</td>\n    </tr>\n    <tr>\n      <th>6227</th>\n      <td>METHANOL FROM ENERKEM FEEDSTOCK (PLASTICS) CHE...</td>\n      <td>METHANOL</td>\n      <td>RECOVERY</td>\n      <td>n.a.</td>\n      <td>n.a.</td>\n      <td>METHANOL</td>\n      <td>methanol</td>\n      <td>0.057083</td>\n      <td>0.008562</td>\n      <td>1.507538</td>\n      <td>...</td>\n      <td>0.0</td>\n      <td>0.0</td>\n      <td>0.0</td>\n      <td>0.0</td>\n      <td>2.580998e-11</td>\n      <td>4.016344e-12</td>\n      <td>0.0</td>\n      <td>0.0</td>\n      <td>0.0</td>\n      <td>0.0</td>\n    </tr>\n    <tr>\n      <th>6253</th>\n      <td>METHANOL FROM ENERKEM FEEDSTOCK (PLASTICS) CHE...</td>\n      <td>METHANOL</td>\n      <td>WASTE</td>\n      <td>SYNTHESIS</td>\n      <td>ENERKEM</td>\n      <td>METHANOL</td>\n      <td>methanol</td>\n      <td>0.057083</td>\n      <td>0.008562</td>\n      <td>1.507538</td>\n      <td>...</td>\n      <td>0.0</td>\n      <td>0.0</td>\n      <td>0.0</td>\n      <td>0.0</td>\n      <td>2.580998e-11</td>\n      <td>4.016344e-12</td>\n      <td>0.0</td>\n      <td>0.0</td>\n      <td>0.0</td>\n      <td>0.0</td>\n    </tr>\n    <tr>\n      <th>6279</th>\n      <td>METHANOL FROM ENERKEM FEEDSTOCK (PLASTICS) CHE...</td>\n      <td>METHANOL</td>\n      <td>WASTE</td>\n      <td>SYNTHESIS</td>\n      <td>n.a.</td>\n      <td>METHANOL</td>\n      <td>methanol</td>\n      <td>0.057083</td>\n      <td>0.008562</td>\n      <td>1.507538</td>\n      <td>...</td>\n      <td>0.0</td>\n      <td>0.0</td>\n      <td>0.0</td>\n      <td>0.0</td>\n      <td>2.580998e-11</td>\n      <td>4.016344e-12</td>\n      <td>0.0</td>\n      <td>0.0</td>\n      <td>0.0</td>\n      <td>0.0</td>\n    </tr>\n    <tr>\n      <th>6305</th>\n      <td>METHANOL FROM ENERKEM FEEDSTOCK (PLASTICS) CHE...</td>\n      <td>METHANOL</td>\n      <td>WASTE</td>\n      <td>n.a.</td>\n      <td>n.a.</td>\n      <td>METHANOL</td>\n      <td>methanol</td>\n      <td>0.057083</td>\n      <td>0.008562</td>\n      <td>1.507538</td>\n      <td>...</td>\n      <td>0.0</td>\n      <td>0.0</td>\n      <td>0.0</td>\n      <td>0.0</td>\n      <td>2.580998e-11</td>\n      <td>4.016344e-12</td>\n      <td>0.0</td>\n      <td>0.0</td>\n      <td>0.0</td>\n      <td>0.0</td>\n    </tr>\n    <tr>\n      <th>6331</th>\n      <td>METHANOL FROM ENERKEM FEEDSTOCK (PLASTICS) CHE...</td>\n      <td>METHANOL</td>\n      <td>WOOD</td>\n      <td>SYNTHESIS</td>\n      <td>n.a.</td>\n      <td>METHANOL</td>\n      <td>methanol</td>\n      <td>0.057083</td>\n      <td>0.008562</td>\n      <td>1.507538</td>\n      <td>...</td>\n      <td>0.0</td>\n      <td>0.0</td>\n      <td>0.0</td>\n      <td>0.0</td>\n      <td>2.580998e-11</td>\n      <td>4.016344e-12</td>\n      <td>0.0</td>\n      <td>0.0</td>\n      <td>0.0</td>\n      <td>0.0</td>\n    </tr>\n  </tbody>\n</table>\n<p>16 rows × 871 columns</p>\n</div>"
     },
     "execution_count": 28,
     "metadata": {},
     "output_type": "execute_result"
    }
   ],
   "source": [
    "poss_processes[poss_processes['ihs_match']=='METHANOL FROM ENERKEM FEEDSTOCK (PLASTICS) CHEMICAL RECYCLING PROCESS']"
   ],
   "metadata": {
    "collapsed": false,
    "ExecuteTime": {
     "end_time": "2023-11-06T18:41:27.626725600Z",
     "start_time": "2023-11-06T18:41:27.545805600Z"
    }
   }
  },
  {
   "cell_type": "code",
   "execution_count": 27,
   "outputs": [
    {
     "data": {
      "text/plain": "                                               ihs_match         PRODUCT  \\\n0         1,4-BUTANEDIOL FROM ACETYLENE AND FORMALDEHYDE  1,4-BUTANEDIOL   \n1      1,4-BUTANEDIOL FROM ACETYLENE AND FORMALDEHYDE...  1,4-BUTANEDIOL   \n2         1,4-BUTANEDIOL FROM ACETYLENE AND FORMALDEHYDE  1,4-BUTANEDIOL   \n3      1,4-BUTANEDIOL FROM ACETYLENE AND FORMALDEHYDE...  1,4-BUTANEDIOL   \n4         1,4-BUTANEDIOL FROM ACETYLENE AND FORMALDEHYDE  1,4-BUTANEDIOL   \n...                                                  ...             ...   \n10665                                                NaN     VISBREAKING   \n10666                                                NaN     VISBREAKING   \n10667                                                NaN     VISBREAKING   \n10668                                                NaN     VISBREAKING   \n10669                                                NaN     VISBREAKING   \n\n             ROUTE                 TECHNOLOGY LICENSOR         Product  \\\n0        ACETYLENE                      REPPE    LINDE  1,4-BUTANEDIOL   \n1        ACETYLENE                      REPPE    LINDE  1,4-BUTANEDIOL   \n2        ACETYLENE                      REPPE     n.a.  1,4-BUTANEDIOL   \n3        ACETYLENE                      REPPE     n.a.  1,4-BUTANEDIOL   \n4        ACETYLENE                       n.a.     n.a.  1,4-BUTANEDIOL   \n...            ...                        ...      ...             ...   \n10665  VISBREAKING                     LUMMUS     n.a.             NaN   \n10666  VISBREAKING                      SHELL     n.a.             NaN   \n10667  VISBREAKING              SNAM PROGETTI     n.a.             NaN   \n10668  VISBREAKING  UNIVERSAL OIL PRODUCTS CO     n.a.             NaN   \n10669  VISBREAKING                       n.a.     n.a.             NaN   \n\n      ei_match  ei_CO2e_20a_cradle-to-gate  ei_CO2e_20a_cradle-to-gate_sigma  \\\n0       butane                     1.41024                          0.211536   \n1       butane                     1.41024                          0.211536   \n2       butane                     1.41024                          0.211536   \n3       butane                     1.41024                          0.211536   \n4       butane                     1.41024                          0.211536   \n...        ...                         ...                               ...   \n10665      NaN                         NaN                               NaN   \n10666      NaN                         NaN                               NaN   \n10667      NaN                         NaN                               NaN   \n10668      NaN                         NaN                               NaN   \n10669      NaN                         NaN                               NaN   \n\n       ei_CO2e_20a_conv_factor  ...  \\\n0                     1.241409  ...   \n1                     1.241409  ...   \n2                     1.241409  ...   \n3                     1.241409  ...   \n4                     1.241409  ...   \n...                        ...  ...   \n10665                      NaN  ...   \n10666                      NaN  ...   \n10667                      NaN  ...   \n10668                      NaN  ...   \n10669                      NaN  ...   \n\n       Raw Material Sulfur hexafluoride, energy allocation factor  \\\n0                                                    0.0            \n1                                                    0.0            \n2                                                    0.0            \n3                                                    0.0            \n4                                                    0.0            \n...                                                  ...            \n10665                                                NaN            \n10666                                                NaN            \n10667                                                NaN            \n10668                                                NaN            \n10669                                                NaN            \n\n       Raw Material Sulfur hexafluoride, energy allocation sigma  \\\n0                                                    0.0           \n1                                                    0.0           \n2                                                    0.0           \n3                                                    0.0           \n4                                                    0.0           \n...                                                  ...           \n10665                                                NaN           \n10666                                                NaN           \n10667                                                NaN           \n10668                                                NaN           \n10669                                                NaN           \n\n       Raw Material Sulfur hexafluoride, economic allocation factor  \\\n0                                           4.069767e-07              \n1                                           4.064575e-07              \n2                                           4.069767e-07              \n3                                           4.064575e-07              \n4                                           4.069767e-07              \n...                                                  ...              \n10665                                                NaN              \n10666                                                NaN              \n10667                                                NaN              \n10668                                                NaN              \n10669                                                NaN              \n\n       Raw Material Sulfur hexafluoride, economic allocation sigma  \\\n0                                           1.424520e-07             \n1                                           1.423271e-07             \n2                                           1.424520e-07             \n3                                           1.423271e-07             \n4                                           1.424520e-07             \n...                                                  ...             \n10665                                                NaN             \n10666                                                NaN             \n10667                                                NaN             \n10668                                                NaN             \n10669                                                NaN             \n\n       Raw Material Other, mass allocation factor  \\\n0                                    5.243664e-10   \n1                                    5.153565e-10   \n2                                    5.243664e-10   \n3                                    5.153565e-10   \n4                                    5.243664e-10   \n...                                           ...   \n10665                                         NaN   \n10666                                         NaN   \n10667                                         NaN   \n10668                                         NaN   \n10669                                         NaN   \n\n       Raw Material Other, mass allocation sigma  \\\n0                                   7.873657e-11   \n1                                   7.782506e-11   \n2                                   7.873657e-11   \n3                                   7.782506e-11   \n4                                   7.873657e-11   \n...                                          ...   \n10665                                        NaN   \n10666                                        NaN   \n10667                                        NaN   \n10668                                        NaN   \n10669                                        NaN   \n\n       Raw Material Other, energy allocation factor  \\\n0                                               0.0   \n1                                               0.0   \n2                                               0.0   \n3                                               0.0   \n4                                               0.0   \n...                                             ...   \n10665                                           NaN   \n10666                                           NaN   \n10667                                           NaN   \n10668                                           NaN   \n10669                                           NaN   \n\n       Raw Material Other, energy allocation sigma  \\\n0                                              0.0   \n1                                              0.0   \n2                                              0.0   \n3                                              0.0   \n4                                              0.0   \n...                                            ...   \n10665                                          NaN   \n10666                                          NaN   \n10667                                          NaN   \n10668                                          NaN   \n10669                                          NaN   \n\n       Raw Material Other, economic allocation factor  \\\n0                                        5.257408e-10   \n1                                        5.242698e-10   \n2                                        5.257408e-10   \n3                                        5.242698e-10   \n4                                        5.257408e-10   \n...                                               ...   \n10665                                             NaN   \n10666                                             NaN   \n10667                                             NaN   \n10668                                             NaN   \n10669                                             NaN   \n\n       Raw Material Other, economic allocation sigma  \n0                                       1.840224e-10  \n1                                       1.835808e-10  \n2                                       1.840224e-10  \n3                                       1.835808e-10  \n4                                       1.840224e-10  \n...                                              ...  \n10665                                            NaN  \n10666                                            NaN  \n10667                                            NaN  \n10668                                            NaN  \n10669                                            NaN  \n\n[10670 rows x 871 columns]",
      "text/html": "<div>\n<style scoped>\n    .dataframe tbody tr th:only-of-type {\n        vertical-align: middle;\n    }\n\n    .dataframe tbody tr th {\n        vertical-align: top;\n    }\n\n    .dataframe thead th {\n        text-align: right;\n    }\n</style>\n<table border=\"1\" class=\"dataframe\">\n  <thead>\n    <tr style=\"text-align: right;\">\n      <th></th>\n      <th>ihs_match</th>\n      <th>PRODUCT</th>\n      <th>ROUTE</th>\n      <th>TECHNOLOGY</th>\n      <th>LICENSOR</th>\n      <th>Product</th>\n      <th>ei_match</th>\n      <th>ei_CO2e_20a_cradle-to-gate</th>\n      <th>ei_CO2e_20a_cradle-to-gate_sigma</th>\n      <th>ei_CO2e_20a_conv_factor</th>\n      <th>...</th>\n      <th>Raw Material Sulfur hexafluoride, energy allocation factor</th>\n      <th>Raw Material Sulfur hexafluoride, energy allocation sigma</th>\n      <th>Raw Material Sulfur hexafluoride, economic allocation factor</th>\n      <th>Raw Material Sulfur hexafluoride, economic allocation sigma</th>\n      <th>Raw Material Other, mass allocation factor</th>\n      <th>Raw Material Other, mass allocation sigma</th>\n      <th>Raw Material Other, energy allocation factor</th>\n      <th>Raw Material Other, energy allocation sigma</th>\n      <th>Raw Material Other, economic allocation factor</th>\n      <th>Raw Material Other, economic allocation sigma</th>\n    </tr>\n  </thead>\n  <tbody>\n    <tr>\n      <th>0</th>\n      <td>1,4-BUTANEDIOL FROM ACETYLENE AND FORMALDEHYDE</td>\n      <td>1,4-BUTANEDIOL</td>\n      <td>ACETYLENE</td>\n      <td>REPPE</td>\n      <td>LINDE</td>\n      <td>1,4-BUTANEDIOL</td>\n      <td>butane</td>\n      <td>1.41024</td>\n      <td>0.211536</td>\n      <td>1.241409</td>\n      <td>...</td>\n      <td>0.0</td>\n      <td>0.0</td>\n      <td>4.069767e-07</td>\n      <td>1.424520e-07</td>\n      <td>5.243664e-10</td>\n      <td>7.873657e-11</td>\n      <td>0.0</td>\n      <td>0.0</td>\n      <td>5.257408e-10</td>\n      <td>1.840224e-10</td>\n    </tr>\n    <tr>\n      <th>1</th>\n      <td>1,4-BUTANEDIOL FROM ACETYLENE AND FORMALDEHYDE...</td>\n      <td>1,4-BUTANEDIOL</td>\n      <td>ACETYLENE</td>\n      <td>REPPE</td>\n      <td>LINDE</td>\n      <td>1,4-BUTANEDIOL</td>\n      <td>butane</td>\n      <td>1.41024</td>\n      <td>0.211536</td>\n      <td>1.241409</td>\n      <td>...</td>\n      <td>0.0</td>\n      <td>0.0</td>\n      <td>4.064575e-07</td>\n      <td>1.423271e-07</td>\n      <td>5.153565e-10</td>\n      <td>7.782506e-11</td>\n      <td>0.0</td>\n      <td>0.0</td>\n      <td>5.242698e-10</td>\n      <td>1.835808e-10</td>\n    </tr>\n    <tr>\n      <th>2</th>\n      <td>1,4-BUTANEDIOL FROM ACETYLENE AND FORMALDEHYDE</td>\n      <td>1,4-BUTANEDIOL</td>\n      <td>ACETYLENE</td>\n      <td>REPPE</td>\n      <td>n.a.</td>\n      <td>1,4-BUTANEDIOL</td>\n      <td>butane</td>\n      <td>1.41024</td>\n      <td>0.211536</td>\n      <td>1.241409</td>\n      <td>...</td>\n      <td>0.0</td>\n      <td>0.0</td>\n      <td>4.069767e-07</td>\n      <td>1.424520e-07</td>\n      <td>5.243664e-10</td>\n      <td>7.873657e-11</td>\n      <td>0.0</td>\n      <td>0.0</td>\n      <td>5.257408e-10</td>\n      <td>1.840224e-10</td>\n    </tr>\n    <tr>\n      <th>3</th>\n      <td>1,4-BUTANEDIOL FROM ACETYLENE AND FORMALDEHYDE...</td>\n      <td>1,4-BUTANEDIOL</td>\n      <td>ACETYLENE</td>\n      <td>REPPE</td>\n      <td>n.a.</td>\n      <td>1,4-BUTANEDIOL</td>\n      <td>butane</td>\n      <td>1.41024</td>\n      <td>0.211536</td>\n      <td>1.241409</td>\n      <td>...</td>\n      <td>0.0</td>\n      <td>0.0</td>\n      <td>4.064575e-07</td>\n      <td>1.423271e-07</td>\n      <td>5.153565e-10</td>\n      <td>7.782506e-11</td>\n      <td>0.0</td>\n      <td>0.0</td>\n      <td>5.242698e-10</td>\n      <td>1.835808e-10</td>\n    </tr>\n    <tr>\n      <th>4</th>\n      <td>1,4-BUTANEDIOL FROM ACETYLENE AND FORMALDEHYDE</td>\n      <td>1,4-BUTANEDIOL</td>\n      <td>ACETYLENE</td>\n      <td>n.a.</td>\n      <td>n.a.</td>\n      <td>1,4-BUTANEDIOL</td>\n      <td>butane</td>\n      <td>1.41024</td>\n      <td>0.211536</td>\n      <td>1.241409</td>\n      <td>...</td>\n      <td>0.0</td>\n      <td>0.0</td>\n      <td>4.069767e-07</td>\n      <td>1.424520e-07</td>\n      <td>5.243664e-10</td>\n      <td>7.873657e-11</td>\n      <td>0.0</td>\n      <td>0.0</td>\n      <td>5.257408e-10</td>\n      <td>1.840224e-10</td>\n    </tr>\n    <tr>\n      <th>...</th>\n      <td>...</td>\n      <td>...</td>\n      <td>...</td>\n      <td>...</td>\n      <td>...</td>\n      <td>...</td>\n      <td>...</td>\n      <td>...</td>\n      <td>...</td>\n      <td>...</td>\n      <td>...</td>\n      <td>...</td>\n      <td>...</td>\n      <td>...</td>\n      <td>...</td>\n      <td>...</td>\n      <td>...</td>\n      <td>...</td>\n      <td>...</td>\n      <td>...</td>\n      <td>...</td>\n    </tr>\n    <tr>\n      <th>10665</th>\n      <td>NaN</td>\n      <td>VISBREAKING</td>\n      <td>VISBREAKING</td>\n      <td>LUMMUS</td>\n      <td>n.a.</td>\n      <td>NaN</td>\n      <td>NaN</td>\n      <td>NaN</td>\n      <td>NaN</td>\n      <td>NaN</td>\n      <td>...</td>\n      <td>NaN</td>\n      <td>NaN</td>\n      <td>NaN</td>\n      <td>NaN</td>\n      <td>NaN</td>\n      <td>NaN</td>\n      <td>NaN</td>\n      <td>NaN</td>\n      <td>NaN</td>\n      <td>NaN</td>\n    </tr>\n    <tr>\n      <th>10666</th>\n      <td>NaN</td>\n      <td>VISBREAKING</td>\n      <td>VISBREAKING</td>\n      <td>SHELL</td>\n      <td>n.a.</td>\n      <td>NaN</td>\n      <td>NaN</td>\n      <td>NaN</td>\n      <td>NaN</td>\n      <td>NaN</td>\n      <td>...</td>\n      <td>NaN</td>\n      <td>NaN</td>\n      <td>NaN</td>\n      <td>NaN</td>\n      <td>NaN</td>\n      <td>NaN</td>\n      <td>NaN</td>\n      <td>NaN</td>\n      <td>NaN</td>\n      <td>NaN</td>\n    </tr>\n    <tr>\n      <th>10667</th>\n      <td>NaN</td>\n      <td>VISBREAKING</td>\n      <td>VISBREAKING</td>\n      <td>SNAM PROGETTI</td>\n      <td>n.a.</td>\n      <td>NaN</td>\n      <td>NaN</td>\n      <td>NaN</td>\n      <td>NaN</td>\n      <td>NaN</td>\n      <td>...</td>\n      <td>NaN</td>\n      <td>NaN</td>\n      <td>NaN</td>\n      <td>NaN</td>\n      <td>NaN</td>\n      <td>NaN</td>\n      <td>NaN</td>\n      <td>NaN</td>\n      <td>NaN</td>\n      <td>NaN</td>\n    </tr>\n    <tr>\n      <th>10668</th>\n      <td>NaN</td>\n      <td>VISBREAKING</td>\n      <td>VISBREAKING</td>\n      <td>UNIVERSAL OIL PRODUCTS CO</td>\n      <td>n.a.</td>\n      <td>NaN</td>\n      <td>NaN</td>\n      <td>NaN</td>\n      <td>NaN</td>\n      <td>NaN</td>\n      <td>...</td>\n      <td>NaN</td>\n      <td>NaN</td>\n      <td>NaN</td>\n      <td>NaN</td>\n      <td>NaN</td>\n      <td>NaN</td>\n      <td>NaN</td>\n      <td>NaN</td>\n      <td>NaN</td>\n      <td>NaN</td>\n    </tr>\n    <tr>\n      <th>10669</th>\n      <td>NaN</td>\n      <td>VISBREAKING</td>\n      <td>VISBREAKING</td>\n      <td>n.a.</td>\n      <td>n.a.</td>\n      <td>NaN</td>\n      <td>NaN</td>\n      <td>NaN</td>\n      <td>NaN</td>\n      <td>NaN</td>\n      <td>...</td>\n      <td>NaN</td>\n      <td>NaN</td>\n      <td>NaN</td>\n      <td>NaN</td>\n      <td>NaN</td>\n      <td>NaN</td>\n      <td>NaN</td>\n      <td>NaN</td>\n      <td>NaN</td>\n      <td>NaN</td>\n    </tr>\n  </tbody>\n</table>\n<p>10670 rows × 871 columns</p>\n</div>"
     },
     "execution_count": 27,
     "metadata": {},
     "output_type": "execute_result"
    }
   ],
   "source": [
    "filt_processes"
   ],
   "metadata": {
    "collapsed": false,
    "ExecuteTime": {
     "end_time": "2023-11-06T18:40:33.316636500Z",
     "start_time": "2023-11-06T18:40:33.255864800Z"
    }
   }
  },
  {
   "cell_type": "code",
   "execution_count": 25,
   "outputs": [
    {
     "data": {
      "text/plain": "array(['ETHYLENE FROM ATOL™ PROCESS BY AXENS',\n       'POLYETHYLENE, HD, BY LOW PRESSURE SOLUTION PROCESS(STAMICARBON TECHNOLOGY)',\n       'METHANOL FROM ENERKEM FEEDSTOCK (PLASTICS) CHEMICAL RECYCLING PROCESS'],\n      dtype=object)"
     },
     "execution_count": 25,
     "metadata": {},
     "output_type": "execute_result"
    }
   ],
   "source": [
    "## Find values in one list that are not in the other\n",
    "#\n",
    "\n",
    "poss_processes['ihs_match'].unique()[~pd.Series(poss_processes['ihs_match'].unique()).isin(pd.Series(filt_processes['ihs_match'].unique()))]"
   ],
   "metadata": {
    "collapsed": false,
    "ExecuteTime": {
     "end_time": "2023-11-06T18:31:58.111248900Z",
     "start_time": "2023-11-06T18:31:58.041503100Z"
    }
   }
  },
  {
   "cell_type": "code",
   "execution_count": 6,
   "outputs": [],
   "source": [
    "## Add IFA production\n",
    "fert_production_file = input_path+'extracted/IFA_production_w_uncertainties.csv'\n",
    "ifa_production = pd.read_csv(fert_production_file)\n",
    "\n",
    "name_conversions = {\n",
    "    'NH3': 'AMMONIA',\n",
    "    'AN': 'AMMONIUM NITRATE',\n",
    "    'Ammonium nitrate (33.5-0-0) granulated': 'AMMONIUM NITRATE',\n",
    "    'AS': 'AMMONIUM SULPHATE',\n",
    "    'CAN': 'CALCIUM AMMONIUM NITRATE',\n",
    "    'Calcium ammonium nitrate (27-0-0)': 'CALCIUM AMMONIUM NITRATE',\n",
    "    'Urea (46-0-0)': 'UREA'\n",
    "}\n",
    "\n",
    "ifa_ihs_matches = {\n",
    "    'AMMONIA':'AMMONIA',\n",
    "    'AMMONIUM NITRATE': 'AMMONIUM NITRATE FERTILIZER',\n",
    "    'AMMONIUM SULPHATE': 'HYDROXYLAMMONIUM SULFATE',\n",
    "    'CALCIUM AMMONIUM NITRATE':'AMMONIUM NITRATE FERTILIZER',\n",
    "    'UREA': 'UREA, AGRICULTURAL GRADE'\n",
    "}\n",
    "\n",
    "ifa_production['PRODUCT'] = ifa_production['PRODUCT'].replace(name_conversions)\n",
    "ifa_production.rename(columns={'Region':'COUNTRY/TERRITORY'}, inplace=True)\n",
    "ifa_production['Conv_name'] = ifa_production['PRODUCT'].replace(ifa_ihs_matches)"
   ],
   "metadata": {
    "collapsed": false,
    "pycharm": {
     "name": "#%%\n"
    }
   }
  },
  {
   "cell_type": "code",
   "execution_count": 7,
   "outputs": [
    {
     "data": {
      "text/plain": "                         Product ei_match  ei_CO2e_20a_cradle-to-gate  \\\n0           1,12-DODECANEDIAMINE      NaN                         NaN   \n1        1,12-DODECANEDIOIC ACID      NaN                         NaN   \n2        1,12-DODECANEDIOIC ACID      NaN                         NaN   \n3                  1,3-BUTADIENE      NaN                         NaN   \n4                  1,3-BUTADIENE      NaN                         NaN   \n...                          ...      ...                         ...   \n2541  ZEOLITE A, DETERGENT GRADE      NaN                         NaN   \n2545        ZINC DITHIOPHOSPHATE      NaN                         NaN   \n2550     ZINC PHOSPHORODITHIOATE      NaN                         NaN   \n2555             ZIRCONIUM OXIDE      NaN                         NaN   \n3000                     AMMONIA      NaN                    0.574578   \n\n      ei_CO2e_20a_cradle-to-gate_sigma  ei_CO2e_20a_conv_factor  \\\n0                                  NaN                      NaN   \n1                                  NaN                      NaN   \n2                                  NaN                      NaN   \n3                                  NaN                      NaN   \n4                                  NaN                      NaN   \n...                                ...                      ...   \n2541                               NaN                      NaN   \n2545                               NaN                      NaN   \n2550                               NaN                      NaN   \n2555                               NaN                      NaN   \n3000                          0.086187                 3.040097   \n\n      ei_CO2e_20a_conv_factor_sigma  ei_CO2e_100a_cradle-to-gate  \\\n0                               NaN                          NaN   \n1                               NaN                          NaN   \n2                               NaN                          NaN   \n3                               NaN                          NaN   \n4                               NaN                          NaN   \n...                             ...                          ...   \n2541                            NaN                          NaN   \n2545                            NaN                          NaN   \n2550                            NaN                          NaN   \n2555                            NaN                          NaN   \n3000                        0.30401                       0.5053   \n\n      ei_CO2e_100a_cradle-to-gate_sigma  ei_CO2e_100a_conv_factor  \\\n0                                   NaN                       NaN   \n1                                   NaN                       NaN   \n2                                   NaN                       NaN   \n3                                   NaN                       NaN   \n4                                   NaN                       NaN   \n...                                 ...                       ...   \n2541                                NaN                       NaN   \n2545                                NaN                       NaN   \n2550                                NaN                       NaN   \n2555                                NaN                       NaN   \n3000                           0.075795                  2.673547   \n\n      ei_CO2e_100a_conv_factor_sigma  ...  \\\n0                                NaN  ...   \n1                                NaN  ...   \n2                                NaN  ...   \n3                                NaN  ...   \n4                                NaN  ...   \n...                              ...  ...   \n2541                             NaN  ...   \n2545                             NaN  ...   \n2550                             NaN  ...   \n2555                             NaN  ...   \n3000                        0.267355  ...   \n\n      Raw Material Sulfur hexafluoride, energy allocation factor  \\\n0                                                   0.0            \n1                                                   0.0            \n2                                                   0.0            \n3                                                   0.0            \n4                                                   0.0            \n...                                                 ...            \n2541                                                0.0            \n2545                                                0.0            \n2550                                                0.0            \n2555                                                0.0            \n3000                                                0.0            \n\n      Raw Material Sulfur hexafluoride, energy allocation sigma  \\\n0                                                   0.0           \n1                                                   0.0           \n2                                                   0.0           \n3                                                   0.0           \n4                                                   0.0           \n...                                                 ...           \n2541                                                0.0           \n2545                                                0.0           \n2550                                                0.0           \n2555                                                0.0           \n3000                                                0.0           \n\n      Raw Material Sulfur hexafluoride, economic allocation factor  \\\n0                                          0.000000e+00              \n1                                          1.334469e-08              \n2                                          4.549688e-09              \n3                                          0.000000e+00              \n4                                          0.000000e+00              \n...                                                 ...              \n2541                                       0.000000e+00              \n2545                                       0.000000e+00              \n2550                                       0.000000e+00              \n2555                                       0.000000e+00              \n3000                                       0.000000e+00              \n\n      Raw Material Sulfur hexafluoride, economic allocation sigma  \\\n0                                          0.000000e+00             \n1                                          4.670642e-09             \n2                                          1.592391e-09             \n3                                          0.000000e+00             \n4                                          0.000000e+00             \n...                                                 ...             \n2541                                       0.000000e+00             \n2545                                       0.000000e+00             \n2550                                       0.000000e+00             \n2555                                       0.000000e+00             \n3000                                       0.000000e+00             \n\n      Raw Material Other, mass allocation factor  \\\n0                                   1.116213e-10   \n1                                   3.075138e-11   \n2                                   4.162631e-11   \n3                                   2.055011e-13   \n4                                   2.435475e-13   \n...                                          ...   \n2541                                1.218056e-09   \n2545                               -3.457310e-09   \n2550                               -3.861968e-09   \n2555                                7.210201e-10   \n3000                                5.272152e-11   \n\n      Raw Material Other, mass allocation sigma  \\\n0                                  1.674320e-11   \n1                                  4.612707e-12   \n2                                  6.243946e-12   \n3                                  3.893346e-14   \n4                                  4.583293e-14   \n...                                         ...   \n2541                               1.827084e-10   \n2545                              -5.284413e-10   \n2550                              -5.792952e-10   \n2555                               1.081530e-10   \n3000                               7.931026e-12   \n\n      Raw Material Other, energy allocation factor  \\\n0                                              0.0   \n1                                              0.0   \n2                                              0.0   \n3                                              0.0   \n4                                              0.0   \n...                                            ...   \n2541                                           0.0   \n2545                                           0.0   \n2550                                           0.0   \n2555                                           0.0   \n3000                                           0.0   \n\n      Raw Material Other, energy allocation sigma  \\\n0                                             0.0   \n1                                             0.0   \n2                                             0.0   \n3                                             0.0   \n4                                             0.0   \n...                                           ...   \n2541                                          0.0   \n2545                                          0.0   \n2550                                          0.0   \n2555                                          0.0   \n3000                                          0.0   \n\n      Raw Material Other, economic allocation factor  \\\n0                                       0.000000e+00   \n1                                       3.075138e-11   \n2                                       4.162631e-11   \n3                                       0.000000e+00   \n4                                       0.000000e+00   \n...                                              ...   \n2541                                    0.000000e+00   \n2545                                    0.000000e+00   \n2550                                    0.000000e+00   \n2555                                    0.000000e+00   \n3000                                    0.000000e+00   \n\n      Raw Material Other, economic allocation sigma  \n0                                      0.000000e+00  \n1                                      1.076298e-11  \n2                                      1.456921e-11  \n3                                      0.000000e+00  \n4                                      0.000000e+00  \n...                                             ...  \n2541                                   0.000000e+00  \n2545                                   0.000000e+00  \n2550                                   0.000000e+00  \n2555                                   0.000000e+00  \n3000                                   0.000000e+00  \n\n[2022 rows x 867 columns]",
      "text/html": "<div>\n<style scoped>\n    .dataframe tbody tr th:only-of-type {\n        vertical-align: middle;\n    }\n\n    .dataframe tbody tr th {\n        vertical-align: top;\n    }\n\n    .dataframe thead th {\n        text-align: right;\n    }\n</style>\n<table border=\"1\" class=\"dataframe\">\n  <thead>\n    <tr style=\"text-align: right;\">\n      <th></th>\n      <th>Product</th>\n      <th>ei_match</th>\n      <th>ei_CO2e_20a_cradle-to-gate</th>\n      <th>ei_CO2e_20a_cradle-to-gate_sigma</th>\n      <th>ei_CO2e_20a_conv_factor</th>\n      <th>ei_CO2e_20a_conv_factor_sigma</th>\n      <th>ei_CO2e_100a_cradle-to-gate</th>\n      <th>ei_CO2e_100a_cradle-to-gate_sigma</th>\n      <th>ei_CO2e_100a_conv_factor</th>\n      <th>ei_CO2e_100a_conv_factor_sigma</th>\n      <th>...</th>\n      <th>Raw Material Sulfur hexafluoride, energy allocation factor</th>\n      <th>Raw Material Sulfur hexafluoride, energy allocation sigma</th>\n      <th>Raw Material Sulfur hexafluoride, economic allocation factor</th>\n      <th>Raw Material Sulfur hexafluoride, economic allocation sigma</th>\n      <th>Raw Material Other, mass allocation factor</th>\n      <th>Raw Material Other, mass allocation sigma</th>\n      <th>Raw Material Other, energy allocation factor</th>\n      <th>Raw Material Other, energy allocation sigma</th>\n      <th>Raw Material Other, economic allocation factor</th>\n      <th>Raw Material Other, economic allocation sigma</th>\n    </tr>\n  </thead>\n  <tbody>\n    <tr>\n      <th>0</th>\n      <td>1,12-DODECANEDIAMINE</td>\n      <td>NaN</td>\n      <td>NaN</td>\n      <td>NaN</td>\n      <td>NaN</td>\n      <td>NaN</td>\n      <td>NaN</td>\n      <td>NaN</td>\n      <td>NaN</td>\n      <td>NaN</td>\n      <td>...</td>\n      <td>0.0</td>\n      <td>0.0</td>\n      <td>0.000000e+00</td>\n      <td>0.000000e+00</td>\n      <td>1.116213e-10</td>\n      <td>1.674320e-11</td>\n      <td>0.0</td>\n      <td>0.0</td>\n      <td>0.000000e+00</td>\n      <td>0.000000e+00</td>\n    </tr>\n    <tr>\n      <th>1</th>\n      <td>1,12-DODECANEDIOIC ACID</td>\n      <td>NaN</td>\n      <td>NaN</td>\n      <td>NaN</td>\n      <td>NaN</td>\n      <td>NaN</td>\n      <td>NaN</td>\n      <td>NaN</td>\n      <td>NaN</td>\n      <td>NaN</td>\n      <td>...</td>\n      <td>0.0</td>\n      <td>0.0</td>\n      <td>1.334469e-08</td>\n      <td>4.670642e-09</td>\n      <td>3.075138e-11</td>\n      <td>4.612707e-12</td>\n      <td>0.0</td>\n      <td>0.0</td>\n      <td>3.075138e-11</td>\n      <td>1.076298e-11</td>\n    </tr>\n    <tr>\n      <th>2</th>\n      <td>1,12-DODECANEDIOIC ACID</td>\n      <td>NaN</td>\n      <td>NaN</td>\n      <td>NaN</td>\n      <td>NaN</td>\n      <td>NaN</td>\n      <td>NaN</td>\n      <td>NaN</td>\n      <td>NaN</td>\n      <td>NaN</td>\n      <td>...</td>\n      <td>0.0</td>\n      <td>0.0</td>\n      <td>4.549688e-09</td>\n      <td>1.592391e-09</td>\n      <td>4.162631e-11</td>\n      <td>6.243946e-12</td>\n      <td>0.0</td>\n      <td>0.0</td>\n      <td>4.162631e-11</td>\n      <td>1.456921e-11</td>\n    </tr>\n    <tr>\n      <th>3</th>\n      <td>1,3-BUTADIENE</td>\n      <td>NaN</td>\n      <td>NaN</td>\n      <td>NaN</td>\n      <td>NaN</td>\n      <td>NaN</td>\n      <td>NaN</td>\n      <td>NaN</td>\n      <td>NaN</td>\n      <td>NaN</td>\n      <td>...</td>\n      <td>0.0</td>\n      <td>0.0</td>\n      <td>0.000000e+00</td>\n      <td>0.000000e+00</td>\n      <td>2.055011e-13</td>\n      <td>3.893346e-14</td>\n      <td>0.0</td>\n      <td>0.0</td>\n      <td>0.000000e+00</td>\n      <td>0.000000e+00</td>\n    </tr>\n    <tr>\n      <th>4</th>\n      <td>1,3-BUTADIENE</td>\n      <td>NaN</td>\n      <td>NaN</td>\n      <td>NaN</td>\n      <td>NaN</td>\n      <td>NaN</td>\n      <td>NaN</td>\n      <td>NaN</td>\n      <td>NaN</td>\n      <td>NaN</td>\n      <td>...</td>\n      <td>0.0</td>\n      <td>0.0</td>\n      <td>0.000000e+00</td>\n      <td>0.000000e+00</td>\n      <td>2.435475e-13</td>\n      <td>4.583293e-14</td>\n      <td>0.0</td>\n      <td>0.0</td>\n      <td>0.000000e+00</td>\n      <td>0.000000e+00</td>\n    </tr>\n    <tr>\n      <th>...</th>\n      <td>...</td>\n      <td>...</td>\n      <td>...</td>\n      <td>...</td>\n      <td>...</td>\n      <td>...</td>\n      <td>...</td>\n      <td>...</td>\n      <td>...</td>\n      <td>...</td>\n      <td>...</td>\n      <td>...</td>\n      <td>...</td>\n      <td>...</td>\n      <td>...</td>\n      <td>...</td>\n      <td>...</td>\n      <td>...</td>\n      <td>...</td>\n      <td>...</td>\n      <td>...</td>\n    </tr>\n    <tr>\n      <th>2541</th>\n      <td>ZEOLITE A, DETERGENT GRADE</td>\n      <td>NaN</td>\n      <td>NaN</td>\n      <td>NaN</td>\n      <td>NaN</td>\n      <td>NaN</td>\n      <td>NaN</td>\n      <td>NaN</td>\n      <td>NaN</td>\n      <td>NaN</td>\n      <td>...</td>\n      <td>0.0</td>\n      <td>0.0</td>\n      <td>0.000000e+00</td>\n      <td>0.000000e+00</td>\n      <td>1.218056e-09</td>\n      <td>1.827084e-10</td>\n      <td>0.0</td>\n      <td>0.0</td>\n      <td>0.000000e+00</td>\n      <td>0.000000e+00</td>\n    </tr>\n    <tr>\n      <th>2545</th>\n      <td>ZINC DITHIOPHOSPHATE</td>\n      <td>NaN</td>\n      <td>NaN</td>\n      <td>NaN</td>\n      <td>NaN</td>\n      <td>NaN</td>\n      <td>NaN</td>\n      <td>NaN</td>\n      <td>NaN</td>\n      <td>NaN</td>\n      <td>...</td>\n      <td>0.0</td>\n      <td>0.0</td>\n      <td>0.000000e+00</td>\n      <td>0.000000e+00</td>\n      <td>-3.457310e-09</td>\n      <td>-5.284413e-10</td>\n      <td>0.0</td>\n      <td>0.0</td>\n      <td>0.000000e+00</td>\n      <td>0.000000e+00</td>\n    </tr>\n    <tr>\n      <th>2550</th>\n      <td>ZINC PHOSPHORODITHIOATE</td>\n      <td>NaN</td>\n      <td>NaN</td>\n      <td>NaN</td>\n      <td>NaN</td>\n      <td>NaN</td>\n      <td>NaN</td>\n      <td>NaN</td>\n      <td>NaN</td>\n      <td>NaN</td>\n      <td>...</td>\n      <td>0.0</td>\n      <td>0.0</td>\n      <td>0.000000e+00</td>\n      <td>0.000000e+00</td>\n      <td>-3.861968e-09</td>\n      <td>-5.792952e-10</td>\n      <td>0.0</td>\n      <td>0.0</td>\n      <td>0.000000e+00</td>\n      <td>0.000000e+00</td>\n    </tr>\n    <tr>\n      <th>2555</th>\n      <td>ZIRCONIUM OXIDE</td>\n      <td>NaN</td>\n      <td>NaN</td>\n      <td>NaN</td>\n      <td>NaN</td>\n      <td>NaN</td>\n      <td>NaN</td>\n      <td>NaN</td>\n      <td>NaN</td>\n      <td>NaN</td>\n      <td>...</td>\n      <td>0.0</td>\n      <td>0.0</td>\n      <td>0.000000e+00</td>\n      <td>0.000000e+00</td>\n      <td>7.210201e-10</td>\n      <td>1.081530e-10</td>\n      <td>0.0</td>\n      <td>0.0</td>\n      <td>0.000000e+00</td>\n      <td>0.000000e+00</td>\n    </tr>\n    <tr>\n      <th>3000</th>\n      <td>AMMONIA</td>\n      <td>NaN</td>\n      <td>0.574578</td>\n      <td>0.086187</td>\n      <td>3.040097</td>\n      <td>0.30401</td>\n      <td>0.5053</td>\n      <td>0.075795</td>\n      <td>2.673547</td>\n      <td>0.267355</td>\n      <td>...</td>\n      <td>0.0</td>\n      <td>0.0</td>\n      <td>0.000000e+00</td>\n      <td>0.000000e+00</td>\n      <td>5.272152e-11</td>\n      <td>7.931026e-12</td>\n      <td>0.0</td>\n      <td>0.0</td>\n      <td>0.000000e+00</td>\n      <td>0.000000e+00</td>\n    </tr>\n  </tbody>\n</table>\n<p>2022 rows × 867 columns</p>\n</div>"
     },
     "execution_count": 7,
     "metadata": {},
     "output_type": "execute_result"
    }
   ],
   "source": [
    "conv_factors"
   ],
   "metadata": {
    "collapsed": false,
    "pycharm": {
     "name": "#%%\n"
    }
   }
  },
  {
   "cell_type": "code",
   "execution_count": 8,
   "outputs": [],
   "source": [
    "## Exclude outliers\n",
    "poss_ifa = ifa_production.merge(conv_factors, left_on='Conv_name', right_on='Product', how='left').drop(columns=['Conv_name', 'Product'])\n",
    "cols = ['PRODUCT']\n",
    "ifa_years = [str(i) for i in range(1978,2051)]\n",
    "keep_rows = poss_ifa[cols+['ihs_match', 'ihs_cradle-to-out-gate CO2e_20a, mass allocation factor']].groupby(cols).apply(exclude_outliers)\n",
    "filt_ifa = poss_ifa.iloc[list(keep_rows.index.get_level_values(1))].reset_index(drop=True)\n",
    "ifa_conversion = filt_ifa[['COUNTRY/TERRITORY']+ifa_years+cols+[i+'_sigma' for i in ifa_years]+['ihs_match']]"
   ],
   "metadata": {
    "collapsed": false,
    "pycharm": {
     "name": "#%%\n"
    }
   }
  },
  {
   "cell_type": "code",
   "execution_count": 9,
   "outputs": [],
   "source": [
    "facility_conversion = facility_production.merge(icis_ihs_matches, on=matching_on, how='left')\n",
    "facility_conversion = pd.concat((facility_conversion, ifa_conversion))"
   ],
   "metadata": {
    "collapsed": false,
    "pycharm": {
     "name": "#%%\n"
    }
   }
  },
  {
   "cell_type": "code",
   "execution_count": 10,
   "outputs": [
    {
     "data": {
      "text/plain": "                       PRODUCT                      ROUTE\n3570            ACRYLIC FIBRES                          0\n4472              ALKYLBENZENE                    BENZENE\n4828                   ASPHALT                    ASPHALT\n8780              BIOJET (SAF)                  RENEWABLE\n8871                    BIOLPG                  RENEWABLE\n12203            BUTYRALDEHYDE                OXO PROCESS\n12205            BUTYRALDEHYDE               ACETALDEHYDE\n14401                    CRUDE                      CRUDE\n14414                    CRUDE    CONDENSATE DISTILLATION\n18084         DAA/MIBK/KETONES                          0\n18129             DEASPHALTING               DEASPHALTING\n18131             DEASPHALTING            DEASPHALTING-C3\n18140             DEASPHALTING            DEASPHALTING-C4\n18360                      EDC          ETHYLENE/CHLORINE\n18361                      EDC  ETHYLENE/HYDROGEN CHLORID\n18804                     EPDM         ETHYLENE/PROPYLENE\n55850            GLYCOL ETHERS  ETHYLENE OXIDE / PROPYLEN\n55857            GLYCOL ETHERS            PROPYLENE OXIDE\n55858            GLYCOL ETHERS             ETHYLENE OXIDE\n63730            HYDROCRACKING            HYDROCRACKING-D\n63732            HYDROCRACKING            HYDROCRACKING-M\n63742            HYDROCRACKING            HYDROCRACKING-R\n64479    ISOMERIZATION-NAPHTHA           ISOMERIZATION-LN\n90256                    OTHER                      OTHER\n90258                    OTHER        DISTILLATE DEWAXING\n90280   OTHER RESID CONVERSION  HEAVY RESIDUAL GASIFICATI\n90303   OTHER RESID CONVERSION      ENI SLURRY TECHNOLOGY\n90695               PET RESINS            MECH. RECYCLING\n93715             PLASTICIZERS         PHTHALIC ANHYDRIDE\n93723             PLASTICIZERS       OTHER NON-PHTHALATES\n93746             PLASTICIZERS      DIOCTYL TEREPHTHALATE\n93849             PLASTICIZERS               OTHER ESTERS\n93869             PLASTICIZERS                      DINCH\n94723          POLYCHLOROPRENE                CHLOROPRENE\n94755         POLYESTER FIBRES            MECH. RECYCLING\n95822           POLYESTER FILM            MECH. RECYCLING\n96160        POLYESTER POLYMER            MECH. RECYCLING\n97628             POLYISOPRENE                          0\n143516                     SAN               VIRGIN RESIN\n147267        THERMAL CRACKING           THERMAL CRACKING\n149109              UPE RESINS                          0\n150825                     VCM                        EDC\n150826                     VCM                  ACETYLENE\n151382             VISBREAKING                VISBREAKING",
      "text/html": "<div>\n<style scoped>\n    .dataframe tbody tr th:only-of-type {\n        vertical-align: middle;\n    }\n\n    .dataframe tbody tr th {\n        vertical-align: top;\n    }\n\n    .dataframe thead th {\n        text-align: right;\n    }\n</style>\n<table border=\"1\" class=\"dataframe\">\n  <thead>\n    <tr style=\"text-align: right;\">\n      <th></th>\n      <th>PRODUCT</th>\n      <th>ROUTE</th>\n    </tr>\n  </thead>\n  <tbody>\n    <tr>\n      <th>3570</th>\n      <td>ACRYLIC FIBRES</td>\n      <td>0</td>\n    </tr>\n    <tr>\n      <th>4472</th>\n      <td>ALKYLBENZENE</td>\n      <td>BENZENE</td>\n    </tr>\n    <tr>\n      <th>4828</th>\n      <td>ASPHALT</td>\n      <td>ASPHALT</td>\n    </tr>\n    <tr>\n      <th>8780</th>\n      <td>BIOJET (SAF)</td>\n      <td>RENEWABLE</td>\n    </tr>\n    <tr>\n      <th>8871</th>\n      <td>BIOLPG</td>\n      <td>RENEWABLE</td>\n    </tr>\n    <tr>\n      <th>12203</th>\n      <td>BUTYRALDEHYDE</td>\n      <td>OXO PROCESS</td>\n    </tr>\n    <tr>\n      <th>12205</th>\n      <td>BUTYRALDEHYDE</td>\n      <td>ACETALDEHYDE</td>\n    </tr>\n    <tr>\n      <th>14401</th>\n      <td>CRUDE</td>\n      <td>CRUDE</td>\n    </tr>\n    <tr>\n      <th>14414</th>\n      <td>CRUDE</td>\n      <td>CONDENSATE DISTILLATION</td>\n    </tr>\n    <tr>\n      <th>18084</th>\n      <td>DAA/MIBK/KETONES</td>\n      <td>0</td>\n    </tr>\n    <tr>\n      <th>18129</th>\n      <td>DEASPHALTING</td>\n      <td>DEASPHALTING</td>\n    </tr>\n    <tr>\n      <th>18131</th>\n      <td>DEASPHALTING</td>\n      <td>DEASPHALTING-C3</td>\n    </tr>\n    <tr>\n      <th>18140</th>\n      <td>DEASPHALTING</td>\n      <td>DEASPHALTING-C4</td>\n    </tr>\n    <tr>\n      <th>18360</th>\n      <td>EDC</td>\n      <td>ETHYLENE/CHLORINE</td>\n    </tr>\n    <tr>\n      <th>18361</th>\n      <td>EDC</td>\n      <td>ETHYLENE/HYDROGEN CHLORID</td>\n    </tr>\n    <tr>\n      <th>18804</th>\n      <td>EPDM</td>\n      <td>ETHYLENE/PROPYLENE</td>\n    </tr>\n    <tr>\n      <th>55850</th>\n      <td>GLYCOL ETHERS</td>\n      <td>ETHYLENE OXIDE / PROPYLEN</td>\n    </tr>\n    <tr>\n      <th>55857</th>\n      <td>GLYCOL ETHERS</td>\n      <td>PROPYLENE OXIDE</td>\n    </tr>\n    <tr>\n      <th>55858</th>\n      <td>GLYCOL ETHERS</td>\n      <td>ETHYLENE OXIDE</td>\n    </tr>\n    <tr>\n      <th>63730</th>\n      <td>HYDROCRACKING</td>\n      <td>HYDROCRACKING-D</td>\n    </tr>\n    <tr>\n      <th>63732</th>\n      <td>HYDROCRACKING</td>\n      <td>HYDROCRACKING-M</td>\n    </tr>\n    <tr>\n      <th>63742</th>\n      <td>HYDROCRACKING</td>\n      <td>HYDROCRACKING-R</td>\n    </tr>\n    <tr>\n      <th>64479</th>\n      <td>ISOMERIZATION-NAPHTHA</td>\n      <td>ISOMERIZATION-LN</td>\n    </tr>\n    <tr>\n      <th>90256</th>\n      <td>OTHER</td>\n      <td>OTHER</td>\n    </tr>\n    <tr>\n      <th>90258</th>\n      <td>OTHER</td>\n      <td>DISTILLATE DEWAXING</td>\n    </tr>\n    <tr>\n      <th>90280</th>\n      <td>OTHER RESID CONVERSION</td>\n      <td>HEAVY RESIDUAL GASIFICATI</td>\n    </tr>\n    <tr>\n      <th>90303</th>\n      <td>OTHER RESID CONVERSION</td>\n      <td>ENI SLURRY TECHNOLOGY</td>\n    </tr>\n    <tr>\n      <th>90695</th>\n      <td>PET RESINS</td>\n      <td>MECH. RECYCLING</td>\n    </tr>\n    <tr>\n      <th>93715</th>\n      <td>PLASTICIZERS</td>\n      <td>PHTHALIC ANHYDRIDE</td>\n    </tr>\n    <tr>\n      <th>93723</th>\n      <td>PLASTICIZERS</td>\n      <td>OTHER NON-PHTHALATES</td>\n    </tr>\n    <tr>\n      <th>93746</th>\n      <td>PLASTICIZERS</td>\n      <td>DIOCTYL TEREPHTHALATE</td>\n    </tr>\n    <tr>\n      <th>93849</th>\n      <td>PLASTICIZERS</td>\n      <td>OTHER ESTERS</td>\n    </tr>\n    <tr>\n      <th>93869</th>\n      <td>PLASTICIZERS</td>\n      <td>DINCH</td>\n    </tr>\n    <tr>\n      <th>94723</th>\n      <td>POLYCHLOROPRENE</td>\n      <td>CHLOROPRENE</td>\n    </tr>\n    <tr>\n      <th>94755</th>\n      <td>POLYESTER FIBRES</td>\n      <td>MECH. RECYCLING</td>\n    </tr>\n    <tr>\n      <th>95822</th>\n      <td>POLYESTER FILM</td>\n      <td>MECH. RECYCLING</td>\n    </tr>\n    <tr>\n      <th>96160</th>\n      <td>POLYESTER POLYMER</td>\n      <td>MECH. RECYCLING</td>\n    </tr>\n    <tr>\n      <th>97628</th>\n      <td>POLYISOPRENE</td>\n      <td>0</td>\n    </tr>\n    <tr>\n      <th>143516</th>\n      <td>SAN</td>\n      <td>VIRGIN RESIN</td>\n    </tr>\n    <tr>\n      <th>147267</th>\n      <td>THERMAL CRACKING</td>\n      <td>THERMAL CRACKING</td>\n    </tr>\n    <tr>\n      <th>149109</th>\n      <td>UPE RESINS</td>\n      <td>0</td>\n    </tr>\n    <tr>\n      <th>150825</th>\n      <td>VCM</td>\n      <td>EDC</td>\n    </tr>\n    <tr>\n      <th>150826</th>\n      <td>VCM</td>\n      <td>ACETYLENE</td>\n    </tr>\n    <tr>\n      <th>151382</th>\n      <td>VISBREAKING</td>\n      <td>VISBREAKING</td>\n    </tr>\n  </tbody>\n</table>\n</div>"
     },
     "execution_count": 10,
     "metadata": {},
     "output_type": "execute_result"
    }
   ],
   "source": [
    "# Print out Products with no IHS match\n",
    "facility_conversion[facility_conversion['ihs_match'].isna()][['PRODUCT','ROUTE']].drop_duplicates()"
   ],
   "metadata": {
    "collapsed": false,
    "pycharm": {
     "name": "#%%\n"
    }
   }
  },
  {
   "cell_type": "code",
   "execution_count": 11,
   "outputs": [
    {
     "data": {
      "text/plain": "          PRODUCT COUNTRY/TERRITORY     STATE                      COMPANY  \\\n0  1,4-BUTANEDIOL           BELGIUM      n.a.                         BASF   \n1  1,4-BUTANEDIOL             CHINA   JIANGSU     BLUESTAR  NEW CHEM. MAT.   \n2  1,4-BUTANEDIOL             CHINA   JIANGSU     BLUESTAR  NEW CHEM. MAT.   \n3  1,4-BUTANEDIOL             CHINA  LIAONING  CHANGLIAN CHEMICAL (PANJIN)   \n4  1,4-BUTANEDIOL             CHINA   JIANGSU     CHANGZHOU CHEMICAL PLANT   \n\n        SITE    #             ROUTE         TECHNOLOGY               LICENSOR  \\\n0      FELUY  1.0  MALEIC ANHYDRIDE          HYDRATION  KVAERNER PROCESS TECH   \n1    NANJING  1.0  MALEIC ANHYDRIDE          HYDRATION  KVAERNER PROCESS TECH   \n2    NANJING  2.0  MALEIC ANHYDRIDE          HYDRATION                   n.a.   \n3     PANJIN  1.0   PROPYLENE OXIDE  VIA ALLYL ALCOHOL                   n.a.   \n4  CHANGZHOU  1.0  MALEIC ANHYDRIDE          HYDRATION                   SINO   \n\n   START_YR  ... 2042_sigma 2043_sigma  2044_sigma  2045_sigma  2046_sigma  \\\n0    1997.0  ...   0.000000   0.000000    0.000000    0.000000    0.000000   \n1    2009.0  ...   0.000000   0.000000    0.000000    0.000000    0.000000   \n2    2012.0  ...   0.000000   0.000000    0.000000    0.000000    0.000000   \n3    2014.0  ...   5.226989   5.364788    5.494559    5.622993    5.751427   \n4    1998.0  ...   0.000000   0.000000    0.000000    0.000000    0.000000   \n\n   2047_sigma  2048_sigma  2049_sigma  2050_sigma  \\\n0    0.000000    0.000000    0.000000    0.000000   \n1    0.000000    0.000000    0.000000    0.000000   \n2    0.000000    0.000000    0.000000    0.000000   \n3    5.879861    6.008295    6.136729    6.265162   \n4    0.000000    0.000000    0.000000    0.000000   \n\n                                           ihs_match  \n0  1,4-BUTANEDIOL FROM MALEIC ANHYDRIDE (DIMETHYL...  \n1  1,4-BUTANEDIOL FROM MALEIC ANHYDRIDE (DIMETHYL...  \n2  1,4-BUTANEDIOL FROM MALEIC ANHYDRIDE (DIMETHYL...  \n3  1,4-BUTANEDIOL FROM PROPYLENE OXIDE (ALLYL ALC...  \n4  1,4-BUTANEDIOL FROM MALEIC ANHYDRIDE (DIMETHYL...  \n\n[5 rows x 161 columns]",
      "text/html": "<div>\n<style scoped>\n    .dataframe tbody tr th:only-of-type {\n        vertical-align: middle;\n    }\n\n    .dataframe tbody tr th {\n        vertical-align: top;\n    }\n\n    .dataframe thead th {\n        text-align: right;\n    }\n</style>\n<table border=\"1\" class=\"dataframe\">\n  <thead>\n    <tr style=\"text-align: right;\">\n      <th></th>\n      <th>PRODUCT</th>\n      <th>COUNTRY/TERRITORY</th>\n      <th>STATE</th>\n      <th>COMPANY</th>\n      <th>SITE</th>\n      <th>#</th>\n      <th>ROUTE</th>\n      <th>TECHNOLOGY</th>\n      <th>LICENSOR</th>\n      <th>START_YR</th>\n      <th>...</th>\n      <th>2042_sigma</th>\n      <th>2043_sigma</th>\n      <th>2044_sigma</th>\n      <th>2045_sigma</th>\n      <th>2046_sigma</th>\n      <th>2047_sigma</th>\n      <th>2048_sigma</th>\n      <th>2049_sigma</th>\n      <th>2050_sigma</th>\n      <th>ihs_match</th>\n    </tr>\n  </thead>\n  <tbody>\n    <tr>\n      <th>0</th>\n      <td>1,4-BUTANEDIOL</td>\n      <td>BELGIUM</td>\n      <td>n.a.</td>\n      <td>BASF</td>\n      <td>FELUY</td>\n      <td>1.0</td>\n      <td>MALEIC ANHYDRIDE</td>\n      <td>HYDRATION</td>\n      <td>KVAERNER PROCESS TECH</td>\n      <td>1997.0</td>\n      <td>...</td>\n      <td>0.000000</td>\n      <td>0.000000</td>\n      <td>0.000000</td>\n      <td>0.000000</td>\n      <td>0.000000</td>\n      <td>0.000000</td>\n      <td>0.000000</td>\n      <td>0.000000</td>\n      <td>0.000000</td>\n      <td>1,4-BUTANEDIOL FROM MALEIC ANHYDRIDE (DIMETHYL...</td>\n    </tr>\n    <tr>\n      <th>1</th>\n      <td>1,4-BUTANEDIOL</td>\n      <td>CHINA</td>\n      <td>JIANGSU</td>\n      <td>BLUESTAR  NEW CHEM. MAT.</td>\n      <td>NANJING</td>\n      <td>1.0</td>\n      <td>MALEIC ANHYDRIDE</td>\n      <td>HYDRATION</td>\n      <td>KVAERNER PROCESS TECH</td>\n      <td>2009.0</td>\n      <td>...</td>\n      <td>0.000000</td>\n      <td>0.000000</td>\n      <td>0.000000</td>\n      <td>0.000000</td>\n      <td>0.000000</td>\n      <td>0.000000</td>\n      <td>0.000000</td>\n      <td>0.000000</td>\n      <td>0.000000</td>\n      <td>1,4-BUTANEDIOL FROM MALEIC ANHYDRIDE (DIMETHYL...</td>\n    </tr>\n    <tr>\n      <th>2</th>\n      <td>1,4-BUTANEDIOL</td>\n      <td>CHINA</td>\n      <td>JIANGSU</td>\n      <td>BLUESTAR  NEW CHEM. MAT.</td>\n      <td>NANJING</td>\n      <td>2.0</td>\n      <td>MALEIC ANHYDRIDE</td>\n      <td>HYDRATION</td>\n      <td>n.a.</td>\n      <td>2012.0</td>\n      <td>...</td>\n      <td>0.000000</td>\n      <td>0.000000</td>\n      <td>0.000000</td>\n      <td>0.000000</td>\n      <td>0.000000</td>\n      <td>0.000000</td>\n      <td>0.000000</td>\n      <td>0.000000</td>\n      <td>0.000000</td>\n      <td>1,4-BUTANEDIOL FROM MALEIC ANHYDRIDE (DIMETHYL...</td>\n    </tr>\n    <tr>\n      <th>3</th>\n      <td>1,4-BUTANEDIOL</td>\n      <td>CHINA</td>\n      <td>LIAONING</td>\n      <td>CHANGLIAN CHEMICAL (PANJIN)</td>\n      <td>PANJIN</td>\n      <td>1.0</td>\n      <td>PROPYLENE OXIDE</td>\n      <td>VIA ALLYL ALCOHOL</td>\n      <td>n.a.</td>\n      <td>2014.0</td>\n      <td>...</td>\n      <td>5.226989</td>\n      <td>5.364788</td>\n      <td>5.494559</td>\n      <td>5.622993</td>\n      <td>5.751427</td>\n      <td>5.879861</td>\n      <td>6.008295</td>\n      <td>6.136729</td>\n      <td>6.265162</td>\n      <td>1,4-BUTANEDIOL FROM PROPYLENE OXIDE (ALLYL ALC...</td>\n    </tr>\n    <tr>\n      <th>4</th>\n      <td>1,4-BUTANEDIOL</td>\n      <td>CHINA</td>\n      <td>JIANGSU</td>\n      <td>CHANGZHOU CHEMICAL PLANT</td>\n      <td>CHANGZHOU</td>\n      <td>1.0</td>\n      <td>MALEIC ANHYDRIDE</td>\n      <td>HYDRATION</td>\n      <td>SINO</td>\n      <td>1998.0</td>\n      <td>...</td>\n      <td>0.000000</td>\n      <td>0.000000</td>\n      <td>0.000000</td>\n      <td>0.000000</td>\n      <td>0.000000</td>\n      <td>0.000000</td>\n      <td>0.000000</td>\n      <td>0.000000</td>\n      <td>0.000000</td>\n      <td>1,4-BUTANEDIOL FROM MALEIC ANHYDRIDE (DIMETHYL...</td>\n    </tr>\n  </tbody>\n</table>\n<p>5 rows × 161 columns</p>\n</div>"
     },
     "execution_count": 11,
     "metadata": {},
     "output_type": "execute_result"
    }
   ],
   "source": [
    "### -> Misses products with no IHS match\n",
    "facility_conversion_orig = facility_conversion.dropna(subset=['ihs_match']).merge(conv_factors, on=['ihs_match'], how='left')\n",
    "facility_conversion.head()"
   ],
   "metadata": {
    "collapsed": false,
    "pycharm": {
     "name": "#%%\n"
    }
   }
  },
  {
   "cell_type": "markdown",
   "source": [
    "## Calculate emissions by combining production with conversion factors"
   ],
   "metadata": {
    "collapsed": false,
    "pycharm": {
     "name": "#%% md\n"
    }
   }
  },
  {
   "cell_type": "code",
   "execution_count": 13,
   "outputs": [
    {
     "name": "stderr",
     "output_type": "stream",
     "text": [
      "C:\\Users\\lukec\\AppData\\Local\\Temp/ipykernel_24796/2562082891.py:14: RuntimeWarning: Mean of empty slice\n",
      "  facility_conversion['combined_' + column] = np.nanmean([facility_conversion['ei_' + column + '_conv_factor'], facility_conversion['cm_' + column + '_conv_factor']], axis=0)\n",
      "C:\\Users\\lukec\\AppData\\Local\\Temp/ipykernel_24796/2562082891.py:15: RuntimeWarning: Mean of empty slice\n",
      "  facility_conversion['combined_' + col_sigma] = np.nanmean([facility_conversion['ei_' + column + '_conv_factor_sigma'], facility_conversion['cm_' + column + '_conv_factor_sigma']], axis=0)\n",
      "0it [00:00, ?it/s]\n",
      "  0%|          | 0/3 [00:00<?, ?it/s]\u001B[A\n",
      " 33%|███▎      | 1/3 [00:00<00:00,  2.02it/s]\u001B[A\n",
      " 67%|██████▋   | 2/3 [00:00<00:00,  2.09it/s]\u001B[A\n",
      "100%|██████████| 3/3 [00:01<00:00,  2.02it/s]\u001B[A\n",
      "1it [00:01,  1.49s/it]\n",
      "  0%|          | 0/3 [00:00<?, ?it/s]\u001B[A\n",
      " 33%|███▎      | 1/3 [00:00<00:01,  1.72it/s]\u001B[A\n",
      " 67%|██████▋   | 2/3 [00:01<00:00,  1.66it/s]\u001B[A\n",
      "100%|██████████| 3/3 [00:01<00:00,  1.56it/s]\u001B[A\n",
      "2it [00:03,  1.75s/it]\n",
      "  0%|          | 0/3 [00:00<?, ?it/s]\u001B[A\n",
      " 33%|███▎      | 1/3 [00:00<00:01,  1.08it/s]\u001B[A\n",
      " 67%|██████▋   | 2/3 [00:01<00:00,  1.11it/s]\u001B[A\n",
      "100%|██████████| 3/3 [00:02<00:00,  1.12it/s]\u001B[A\n",
      "3it [00:06,  2.17s/it]\n",
      "  0%|          | 0/3 [00:00<?, ?it/s]\u001B[A\n",
      " 33%|███▎      | 1/3 [00:01<00:02,  1.01s/it]\u001B[A\n",
      " 67%|██████▋   | 2/3 [00:02<00:01,  1.05s/it]\u001B[A\n",
      "100%|██████████| 3/3 [00:03<00:00,  1.11s/it]\u001B[A\n",
      "4it [00:09,  2.63s/it]\n",
      "  0%|          | 0/3 [00:00<?, ?it/s]\u001B[A\n",
      " 33%|███▎      | 1/3 [00:01<00:02,  1.45s/it]\u001B[A\n",
      " 67%|██████▋   | 2/3 [00:02<00:01,  1.43s/it]\u001B[A\n",
      "100%|██████████| 3/3 [00:04<00:00,  1.39s/it]\u001B[A\n",
      "5it [00:13,  3.18s/it]\n",
      "  0%|          | 0/3 [00:00<?, ?it/s]\u001B[A\n",
      " 33%|███▎      | 1/3 [00:02<00:04,  2.30s/it]\u001B[A\n",
      " 67%|██████▋   | 2/3 [00:03<00:01,  1.85s/it]\u001B[A\n",
      "100%|██████████| 3/3 [00:05<00:00,  1.81s/it]\u001B[A\n",
      "6it [00:19,  3.95s/it]\n",
      "  0%|          | 0/3 [00:00<?, ?it/s]\u001B[A\n",
      " 33%|███▎      | 1/3 [00:01<00:03,  1.98s/it]\u001B[A\n",
      " 67%|██████▋   | 2/3 [00:04<00:02,  2.40s/it]\u001B[A\n",
      "100%|██████████| 3/3 [00:06<00:00,  2.28s/it]\u001B[A\n",
      "7it [00:25,  4.90s/it]\n",
      "  0%|          | 0/3 [00:00<?, ?it/s]\u001B[A\n",
      " 33%|███▎      | 1/3 [00:01<00:03,  1.90s/it]\u001B[A\n",
      " 67%|██████▋   | 2/3 [00:04<00:02,  2.12s/it]\u001B[A\n",
      "100%|██████████| 3/3 [00:06<00:00,  2.25s/it]\u001B[A\n",
      "8it [00:32,  5.49s/it]\n",
      "  0%|          | 0/3 [00:00<?, ?it/s]\u001B[A\n",
      " 33%|███▎      | 1/3 [00:02<00:05,  2.77s/it]\u001B[A\n",
      " 67%|██████▋   | 2/3 [00:05<00:02,  2.55s/it]\u001B[A\n",
      "100%|██████████| 3/3 [00:11<00:00,  3.84s/it]\u001B[A\n",
      "9it [00:44,  7.37s/it]\n",
      "  0%|          | 0/3 [00:00<?, ?it/s]\u001B[A\n",
      " 33%|███▎      | 1/3 [00:04<00:08,  4.09s/it]\u001B[A\n",
      " 67%|██████▋   | 2/3 [00:07<00:03,  3.60s/it]\u001B[A\n",
      "100%|██████████| 3/3 [00:10<00:00,  3.48s/it]\u001B[A\n",
      "10it [00:54,  8.32s/it]\n",
      "  0%|          | 0/3 [00:00<?, ?it/s]\u001B[A\n",
      " 33%|███▎      | 1/3 [00:03<00:07,  3.86s/it]\u001B[A\n",
      " 67%|██████▋   | 2/3 [00:08<00:04,  4.40s/it]\u001B[A\n",
      "100%|██████████| 3/3 [00:14<00:00,  4.78s/it]\u001B[A\n",
      "11it [01:08,  6.27s/it]\n",
      "0it [00:00, ?it/s]\n",
      "  0%|          | 0/3 [00:00<?, ?it/s]\u001B[A\n",
      " 33%|███▎      | 1/3 [00:00<00:00,  2.01it/s]\u001B[A\n",
      " 67%|██████▋   | 2/3 [00:00<00:00,  2.03it/s]\u001B[A\n",
      "100%|██████████| 3/3 [00:01<00:00,  2.01it/s]\u001B[A\n",
      "1it [00:01,  1.50s/it]\n",
      "  0%|          | 0/3 [00:00<?, ?it/s]\u001B[A\n",
      " 33%|███▎      | 1/3 [00:00<00:01,  1.80it/s]\u001B[A\n",
      " 67%|██████▋   | 2/3 [00:01<00:00,  1.66it/s]\u001B[A\n",
      "100%|██████████| 3/3 [00:01<00:00,  1.60it/s]\u001B[A\n",
      "2it [00:03,  1.72s/it]\n",
      "  0%|          | 0/3 [00:00<?, ?it/s]\u001B[A\n",
      " 33%|███▎      | 1/3 [00:00<00:01,  1.38it/s]\u001B[A\n",
      " 67%|██████▋   | 2/3 [00:01<00:00,  1.31it/s]\u001B[A\n",
      "100%|██████████| 3/3 [00:02<00:00,  1.27it/s]\u001B[A\n",
      "3it [00:05,  2.01s/it]\n",
      "  0%|          | 0/3 [00:00<?, ?it/s]\u001B[A\n",
      " 33%|███▎      | 1/3 [00:00<00:01,  1.02it/s]\u001B[A\n",
      " 67%|██████▋   | 2/3 [00:02<00:01,  1.04s/it]\u001B[A\n",
      "100%|██████████| 3/3 [00:03<00:00,  1.06s/it]\u001B[A\n",
      "4it [00:08,  2.48s/it]\n",
      "  0%|          | 0/3 [00:00<?, ?it/s]\u001B[A\n",
      " 33%|███▎      | 1/3 [00:01<00:02,  1.23s/it]\u001B[A\n",
      " 67%|██████▋   | 2/3 [00:02<00:01,  1.20s/it]\u001B[A\n",
      "100%|██████████| 3/3 [00:03<00:00,  1.24s/it]\u001B[A\n",
      "5it [00:12,  2.93s/it]\n",
      "  0%|          | 0/3 [00:00<?, ?it/s]\u001B[A\n",
      " 33%|███▎      | 1/3 [00:01<00:02,  1.23s/it]\u001B[A\n",
      " 67%|██████▋   | 2/3 [00:02<00:01,  1.32s/it]\u001B[A\n",
      "100%|██████████| 3/3 [00:03<00:00,  1.32s/it]\u001B[A\n",
      "6it [00:16,  3.29s/it]\n",
      "  0%|          | 0/3 [00:00<?, ?it/s]\u001B[A\n",
      " 33%|███▎      | 1/3 [00:01<00:03,  1.66s/it]\u001B[A\n",
      " 67%|██████▋   | 2/3 [00:03<00:01,  1.59s/it]\u001B[A\n",
      "100%|██████████| 3/3 [00:04<00:00,  1.60s/it]\u001B[A\n",
      "7it [00:21,  3.78s/it]\n",
      "  0%|          | 0/3 [00:00<?, ?it/s]\u001B[A\n",
      " 33%|███▎      | 1/3 [00:01<00:03,  1.87s/it]\u001B[A\n",
      " 67%|██████▋   | 2/3 [00:03<00:01,  1.84s/it]\u001B[A\n",
      "100%|██████████| 3/3 [00:05<00:00,  1.93s/it]\u001B[A\n",
      "8it [00:27,  4.42s/it]\n",
      "  0%|          | 0/3 [00:00<?, ?it/s]\u001B[A\n",
      " 33%|███▎      | 1/3 [00:02<00:04,  2.33s/it]\u001B[A\n",
      " 67%|██████▋   | 2/3 [00:04<00:02,  2.24s/it]\u001B[A\n",
      "100%|██████████| 3/3 [00:06<00:00,  2.29s/it]\u001B[A\n",
      "9it [00:34,  5.19s/it]\n",
      "  0%|          | 0/3 [00:00<?, ?it/s]\u001B[A\n",
      " 33%|███▎      | 1/3 [00:03<00:06,  3.20s/it]\u001B[A\n",
      " 67%|██████▋   | 2/3 [00:07<00:04,  4.04s/it]\u001B[A\n",
      "100%|██████████| 3/3 [00:13<00:00,  4.42s/it]\u001B[A\n",
      "10it [00:47,  7.68s/it]\n",
      "  0%|          | 0/3 [00:00<?, ?it/s]\u001B[A\n",
      " 33%|███▎      | 1/3 [00:04<00:09,  4.64s/it]\u001B[A\n",
      " 67%|██████▋   | 2/3 [00:08<00:04,  4.39s/it]\u001B[A\n",
      "100%|██████████| 3/3 [00:13<00:00,  4.47s/it]\u001B[A\n",
      "11it [01:00,  5.53s/it]\n",
      "0it [00:00, ?it/s]\n",
      "  0%|          | 0/3 [00:00<?, ?it/s]\u001B[A\n",
      " 33%|███▎      | 1/3 [00:00<00:00,  2.71it/s]\u001B[A\n",
      " 67%|██████▋   | 2/3 [00:01<00:00,  1.69it/s]\u001B[A\n",
      "100%|██████████| 3/3 [00:01<00:00,  1.83it/s]\u001B[A\n",
      "1it [00:01,  1.64s/it]\n",
      "  0%|          | 0/3 [00:00<?, ?it/s]\u001B[A\n",
      " 33%|███▎      | 1/3 [00:00<00:01,  1.75it/s]\u001B[A\n",
      " 67%|██████▋   | 2/3 [00:01<00:00,  1.47it/s]\u001B[A\n",
      "100%|██████████| 3/3 [00:02<00:00,  1.47it/s]\u001B[A\n",
      "2it [00:03,  1.88s/it]\n",
      "  0%|          | 0/3 [00:00<?, ?it/s]\u001B[A\n",
      " 33%|███▎      | 1/3 [00:01<00:03,  1.58s/it]\u001B[A\n",
      " 67%|██████▋   | 2/3 [00:03<00:01,  1.71s/it]\u001B[A\n",
      "100%|██████████| 3/3 [00:04<00:00,  1.52s/it]\u001B[A\n",
      "3it [00:08,  3.11s/it]\n",
      "  0%|          | 0/3 [00:00<?, ?it/s]\u001B[A\n",
      " 33%|███▎      | 1/3 [00:01<00:02,  1.13s/it]\u001B[A\n",
      " 67%|██████▋   | 2/3 [00:02<00:01,  1.17s/it]\u001B[A\n",
      "100%|██████████| 3/3 [00:03<00:00,  1.24s/it]\u001B[A\n",
      "4it [00:11,  3.35s/it]\n",
      "  0%|          | 0/3 [00:00<?, ?it/s]\u001B[A\n",
      " 33%|███▎      | 1/3 [00:01<00:02,  1.26s/it]\u001B[A\n",
      " 67%|██████▋   | 2/3 [00:02<00:01,  1.25s/it]\u001B[A\n",
      "100%|██████████| 3/3 [00:03<00:00,  1.24s/it]\u001B[A\n",
      "5it [00:15,  3.49s/it]\n",
      "  0%|          | 0/3 [00:00<?, ?it/s]\u001B[A\n",
      " 33%|███▎      | 1/3 [00:01<00:02,  1.30s/it]\u001B[A\n",
      " 67%|██████▋   | 2/3 [00:02<00:01,  1.36s/it]\u001B[A\n",
      "100%|██████████| 3/3 [00:04<00:00,  1.41s/it]\u001B[A\n",
      "6it [00:19,  3.74s/it]\n",
      "  0%|          | 0/3 [00:00<?, ?it/s]\u001B[A\n",
      " 33%|███▎      | 1/3 [00:01<00:03,  1.64s/it]\u001B[A\n",
      " 67%|██████▋   | 2/3 [00:03<00:01,  1.66s/it]\u001B[A\n",
      "100%|██████████| 3/3 [00:04<00:00,  1.65s/it]\u001B[A\n",
      "7it [00:24,  4.13s/it]\n",
      "  0%|          | 0/3 [00:00<?, ?it/s]\u001B[A\n",
      " 33%|███▎      | 1/3 [00:01<00:03,  1.84s/it]\u001B[A\n",
      " 67%|██████▋   | 2/3 [00:03<00:01,  1.88s/it]\u001B[A\n",
      "100%|██████████| 3/3 [00:05<00:00,  1.90s/it]\u001B[A\n",
      "8it [00:30,  4.64s/it]\n",
      "  0%|          | 0/3 [00:00<?, ?it/s]\u001B[A\n",
      " 33%|███▎      | 1/3 [00:02<00:04,  2.30s/it]\u001B[A\n",
      " 67%|██████▋   | 2/3 [00:04<00:02,  2.20s/it]\u001B[A\n",
      "100%|██████████| 3/3 [00:07<00:00,  2.40s/it]\u001B[A\n",
      "9it [00:37,  5.44s/it]\n",
      "  0%|          | 0/3 [00:00<?, ?it/s]\u001B[A\n",
      " 33%|███▎      | 1/3 [00:02<00:05,  2.78s/it]\u001B[A\n",
      " 67%|██████▋   | 2/3 [00:09<00:04,  4.82s/it]\u001B[A\n",
      "100%|██████████| 3/3 [00:14<00:00,  4.96s/it]\u001B[A\n",
      "10it [00:52,  8.36s/it]\n",
      "  0%|          | 0/3 [00:00<?, ?it/s]\u001B[A\n",
      " 33%|███▎      | 1/3 [00:05<00:10,  5.19s/it]\u001B[A\n",
      " 67%|██████▋   | 2/3 [00:10<00:05,  5.05s/it]\u001B[A\n",
      "100%|██████████| 3/3 [00:15<00:00,  5.22s/it]\u001B[A\n",
      "11it [01:08,  6.22s/it]\n",
      "0it [00:00, ?it/s]\n",
      "  0%|          | 0/2 [00:00<?, ?it/s]\u001B[A\n",
      " 50%|█████     | 1/2 [00:00<00:00,  2.67it/s]\u001B[A\n",
      "100%|██████████| 2/2 [00:00<00:00,  2.06it/s]\u001B[A\n",
      "1it [00:00,  1.03it/s]\n",
      "  0%|          | 0/2 [00:00<?, ?it/s]\u001B[A\n",
      " 50%|█████     | 1/2 [00:00<00:00,  2.01it/s]\u001B[A\n",
      "100%|██████████| 2/2 [00:01<00:00,  1.90it/s]\u001B[A\n",
      "2it [00:02,  1.02s/it]\n",
      "  0%|          | 0/2 [00:00<?, ?it/s]\u001B[A\n",
      " 50%|█████     | 1/2 [00:00<00:00,  1.62it/s]\u001B[A\n",
      "100%|██████████| 2/2 [00:01<00:00,  1.54it/s]\u001B[A\n",
      "3it [00:03,  1.15s/it]\n",
      "  0%|          | 0/2 [00:00<?, ?it/s]\u001B[A\n",
      " 50%|█████     | 1/2 [00:00<00:00,  1.35it/s]\u001B[A\n",
      "100%|██████████| 2/2 [00:01<00:00,  1.29it/s]\u001B[A\n",
      "4it [00:04,  1.31s/it]\n",
      "  0%|          | 0/2 [00:00<?, ?it/s]\u001B[A\n",
      " 50%|█████     | 1/2 [00:00<00:00,  1.24it/s]\u001B[A\n",
      "100%|██████████| 2/2 [00:01<00:00,  1.19it/s]\u001B[A\n",
      "5it [00:06,  1.44s/it]\n",
      "  0%|          | 0/2 [00:00<?, ?it/s]\u001B[A\n",
      " 50%|█████     | 1/2 [00:00<00:00,  1.06it/s]\u001B[A\n",
      "100%|██████████| 2/2 [00:02<00:00,  1.13s/it]\u001B[A\n",
      "6it [00:08,  1.72s/it]\n",
      "  0%|          | 0/2 [00:00<?, ?it/s]\u001B[A\n",
      " 50%|█████     | 1/2 [00:01<00:01,  1.24s/it]\u001B[A\n",
      "100%|██████████| 2/2 [00:02<00:00,  1.17s/it]\u001B[A\n",
      "7it [00:11,  1.92s/it]\n",
      "  0%|          | 0/2 [00:00<?, ?it/s]\u001B[A\n",
      " 50%|█████     | 1/2 [00:01<00:01,  1.19s/it]\u001B[A\n",
      "100%|██████████| 2/2 [00:02<00:00,  1.24s/it]\u001B[A\n",
      "8it [00:13,  2.10s/it]\n",
      "  0%|          | 0/2 [00:00<?, ?it/s]\u001B[A\n",
      " 50%|█████     | 1/2 [00:01<00:01,  1.36s/it]\u001B[A\n",
      "100%|██████████| 2/2 [00:02<00:00,  1.33s/it]\u001B[A\n",
      "9it [00:16,  2.28s/it]\n",
      "  0%|          | 0/2 [00:00<?, ?it/s]\u001B[A\n",
      " 50%|█████     | 1/2 [00:01<00:01,  1.55s/it]\u001B[A\n",
      "100%|██████████| 2/2 [00:03<00:00,  1.55s/it]\u001B[A\n",
      "10it [00:19,  2.53s/it]\n",
      "  0%|          | 0/2 [00:00<?, ?it/s]\u001B[A\n",
      " 50%|█████     | 1/2 [00:01<00:01,  1.49s/it]\u001B[A\n",
      "100%|██████████| 2/2 [00:03<00:00,  1.65s/it]\u001B[A\n",
      "11it [00:22,  2.06s/it]\n",
      "0it [00:00, ?it/s]\n",
      "  0%|          | 0/2 [00:00<?, ?it/s]\u001B[A\n",
      " 50%|█████     | 1/2 [00:00<00:00,  3.05it/s]\u001B[A\n",
      "100%|██████████| 2/2 [00:00<00:00,  2.35it/s]\u001B[A\n",
      "1it [00:00,  1.17it/s]\n",
      "  0%|          | 0/2 [00:00<?, ?it/s]\u001B[A\n",
      " 50%|█████     | 1/2 [00:00<00:00,  1.89it/s]\u001B[A\n",
      "100%|██████████| 2/2 [00:01<00:00,  1.73it/s]\u001B[A\n",
      "2it [00:02,  1.03s/it]\n",
      "  0%|          | 0/2 [00:00<?, ?it/s]\u001B[A\n",
      " 50%|█████     | 1/2 [00:00<00:00,  1.55it/s]\u001B[A\n",
      "100%|██████████| 2/2 [00:01<00:00,  1.43it/s]\u001B[A\n",
      "3it [00:03,  1.20s/it]\n",
      "  0%|          | 0/2 [00:00<?, ?it/s]\u001B[A\n",
      " 50%|█████     | 1/2 [00:00<00:00,  1.40it/s]\u001B[A\n",
      "100%|██████████| 2/2 [00:01<00:00,  1.31it/s]\u001B[A\n",
      "4it [00:04,  1.33s/it]\n",
      "  0%|          | 0/2 [00:00<?, ?it/s]\u001B[A\n",
      " 50%|█████     | 1/2 [00:00<00:00,  1.14it/s]\u001B[A\n",
      "100%|██████████| 2/2 [00:01<00:00,  1.08it/s]\u001B[A\n",
      "5it [00:06,  1.52s/it]\n",
      "  0%|          | 0/2 [00:00<?, ?it/s]\u001B[A\n",
      " 50%|█████     | 1/2 [00:01<00:01,  1.02s/it]\u001B[A\n",
      "100%|██████████| 2/2 [00:02<00:00,  1.03s/it]\u001B[A\n",
      "6it [00:08,  1.71s/it]\n",
      "  0%|          | 0/2 [00:00<?, ?it/s]\u001B[A\n",
      " 50%|█████     | 1/2 [00:01<00:01,  1.03s/it]\u001B[A\n",
      "100%|██████████| 2/2 [00:02<00:00,  1.06s/it]\u001B[A\n",
      "7it [00:11,  1.85s/it]\n",
      "  0%|          | 0/2 [00:00<?, ?it/s]\u001B[A\n",
      " 50%|█████     | 1/2 [00:01<00:01,  1.20s/it]\u001B[A\n",
      "100%|██████████| 2/2 [00:02<00:00,  1.25s/it]\u001B[A\n",
      "8it [00:13,  2.05s/it]\n",
      "  0%|          | 0/2 [00:00<?, ?it/s]\u001B[A\n",
      " 50%|█████     | 1/2 [00:01<00:01,  1.52s/it]\u001B[A\n",
      "100%|██████████| 2/2 [00:03<00:00,  1.59s/it]\u001B[A\n",
      "9it [00:16,  2.41s/it]\n",
      "  0%|          | 0/2 [00:00<?, ?it/s]\u001B[A\n",
      " 50%|█████     | 1/2 [00:01<00:01,  1.86s/it]\u001B[A\n",
      "100%|██████████| 2/2 [00:03<00:00,  1.78s/it]\u001B[A\n",
      "10it [00:20,  2.76s/it]\n",
      "  0%|          | 0/2 [00:00<?, ?it/s]\u001B[A\n",
      " 50%|█████     | 1/2 [00:01<00:01,  1.78s/it]\u001B[A\n",
      "100%|██████████| 2/2 [00:04<00:00,  2.27s/it]\u001B[A\n",
      "11it [00:24,  2.25s/it]\n"
     ]
    }
   ],
   "source": [
    "# Take average of CM and EI conversion factors\n",
    "\n",
    "emission_val_cols_all = [['CO2e_20a', 'CO2e_100a', 'Carbon dioxide'], ['Carbon monoxide', 'Chloroform', 'Dinitrogen monoxide'], ['Ethane', 'Methane', 'Nitric oxide'], ['Nitrogen fluoride', 'Perfluoropentane'], ['Sulfur hexafluoride', 'Other']]\n",
    "\n",
    "for i, emission_val_cols in enumerate(emission_val_cols_all):\n",
    "    emission_val_cols_sigma = [col + '_sigma' for col in emission_val_cols]\n",
    "    facility_conversion = facility_conversion_orig.copy()\n",
    "\n",
    "    #for i, emission_val_cols in enumerate(emission_val_cols_all):\n",
    "    emission_val_cols_sigma = [col + '_sigma' for col in emission_val_cols]\n",
    "    facility_conversion = facility_conversion_orig.copy()\n",
    "\n",
    "    for column, col_sigma in zip(emission_val_cols, emission_val_cols_sigma):\n",
    "        facility_conversion['combined_' + column] = np.nanmean([facility_conversion['ei_' + column + '_conv_factor'], facility_conversion['cm_' + column + '_conv_factor']], axis=0)\n",
    "        facility_conversion['combined_' + col_sigma] = np.nanmean([facility_conversion['ei_' + column + '_conv_factor_sigma'], facility_conversion['cm_' + column + '_conv_factor_sigma']], axis=0)\n",
    "\n",
    "    facility_conversion = facility_conversion[facility_conversion.columns[['ei' not in col and 'cm' not in col for col in facility_conversion.columns]]]\n",
    "\n",
    "    facility_conversion.columns = [i.replace(', mass allocation ','_').replace('_factor','') for i in facility_conversion.columns]\n",
    "\n",
    "    facility_conversion.rename(columns={'ihs_match':'PROCESS'}, inplace=True)\n",
    "\n",
    "    facility_conversion.columns = [i.replace(',  allocation ','_').replace('_factor','') for i in facility_conversion.columns]\n",
    "\n",
    "    # Calculate facility emissions for\n",
    "    dbs = ['combined_', 'ihs_cradle-to-out-gate ', 'Feedstock ', 'Organic chemicals ', 'Primary chemicals ', 'Other intermediates ', 'Indirect Utilities ', 'Direct Utilities ', 'Direct Process ', 'Electricity ', 'Raw Material ']\n",
    "    names = ['EI & CM', 'IHS CtOG', 'Feedstock', 'Organic chemicals', 'Primary chemicals', 'Other intermediates', 'Indirect Utilities', 'Direct Utilities', 'Direct Process', 'Electricity', 'Raw Material']\n",
    "\n",
    "    # Create base dataframe to use\n",
    "    years = [str(i) for i in range(1978, 2051)]\n",
    "    years_sigma = [year+'_sigma' for year in years]\n",
    "    base_columns = ['PRODUCT', 'COUNTRY/TERRITORY', 'STATE', 'COMPANY', 'SITE', '#',\n",
    "           'ROUTE', 'TECHNOLOGY', 'LICENSOR', 'START_YR', 'COMPLEX', 'LATITUDE', 'LONGITUDE', 'PROCESS'] + years + years_sigma\n",
    "    base_df = facility_conversion[base_columns]\n",
    "\n",
    "    facility_emissions = pd.DataFrame()\n",
    "    for db, name in tqdm(zip(dbs, names)):\n",
    "        for gas in tqdm(emission_val_cols):\n",
    "            df = base_df.copy()\n",
    "            df[years] = df[years].multiply(facility_conversion[db+gas], axis='index')\n",
    "            ## Incorrect error propagation here\n",
    "            df[years_sigma] = df[years_sigma].multiply(facility_conversion[db+gas+'_sigma'], axis='index')\n",
    "            df['Gas'] = gas\n",
    "            df['Type'] = name\n",
    "            facility_emissions = pd.concat((facility_emissions, df), axis = 0)\n",
    "\n",
    "    facility_emissions.to_parquet(output_path+'icisFacilityEmissions_allIhsProcesses_w_uncertainties_dedoubled'+str(i+1)+'.parquet')"
   ],
   "metadata": {
    "collapsed": false,
    "pycharm": {
     "name": "#%%\n"
    }
   }
  },
  {
   "cell_type": "code",
   "execution_count": 37,
   "outputs": [],
   "source": [
    "# facility_emissions = pd.read_parquet(output_path+'icisFacilityEmissions_allIhsProcesses_w_uncertainties_fert2050'+'0'+'.parquet')\n",
    "# years = [str(i) for i in range(1978, 2051)]\n",
    "# years_sigma = [year+'_sigma' for year in years]\n",
    "#\n",
    "# facility_emissions[facility_emissions.columns[:13]] = facility_emissions[facility_emissions.columns[:13]].fillna('n.a.')\n",
    "# aggregated_emissions = facility_emissions.groupby(list(facility_emissions.columns[:13])+['Gas','Type']).mean().reset_index()\n",
    "#\n",
    "# stdevs = facility_emissions[list(facility_emissions.columns[:13])+['Gas','Type']+years].groupby(list(facility_emissions.columns[:13])+['Gas','Type']).agg(np.std)\n",
    "#\n",
    "# # Keep largest uncertainty between technologies and others\n",
    "# aggregated_emissions[years_sigma] = np.maximum(stdevs.fillna(0).values, aggregated_emissions.fillna(0)[years_sigma].values)"
   ],
   "metadata": {
    "collapsed": false,
    "pycharm": {
     "name": "#%%\n"
    }
   }
  },
  {
   "cell_type": "code",
   "execution_count": 2,
   "outputs": [
    {
     "name": "stderr",
     "output_type": "stream",
     "text": [
      "  0%|          | 0/5 [00:00<?, ?it/s]"
     ]
    },
    {
     "name": "stdout",
     "output_type": "stream",
     "text": [
      "0\n",
      "1\n",
      "5\n"
     ]
    },
    {
     "name": "stderr",
     "output_type": "stream",
     "text": [
      " 20%|██        | 1/5 [02:13<08:53, 133.27s/it]"
     ]
    },
    {
     "name": "stdout",
     "output_type": "stream",
     "text": [
      "0\n",
      "1\n",
      "5\n"
     ]
    },
    {
     "name": "stderr",
     "output_type": "stream",
     "text": [
      " 40%|████      | 2/5 [04:06<06:05, 121.68s/it]"
     ]
    },
    {
     "name": "stdout",
     "output_type": "stream",
     "text": [
      "0\n",
      "1\n",
      "5\n"
     ]
    },
    {
     "name": "stderr",
     "output_type": "stream",
     "text": [
      " 60%|██████    | 3/5 [06:07<04:02, 121.08s/it]"
     ]
    },
    {
     "name": "stdout",
     "output_type": "stream",
     "text": [
      "0\n",
      "1\n",
      "5\n"
     ]
    },
    {
     "name": "stderr",
     "output_type": "stream",
     "text": [
      " 80%|████████  | 4/5 [07:14<01:39, 99.80s/it] "
     ]
    },
    {
     "name": "stdout",
     "output_type": "stream",
     "text": [
      "0\n",
      "1\n",
      "5\n"
     ]
    },
    {
     "name": "stderr",
     "output_type": "stream",
     "text": [
      "100%|██████████| 5/5 [08:23<00:00, 100.72s/it]\n"
     ]
    }
   ],
   "source": [
    "endings = [str(i) for i in range(1,6)]\n",
    "years = [str(i) for i in range(1978, 2051)]\n",
    "years_sigma = [year+'_sigma' for year in years]\n",
    "\n",
    "mean_aggregated = pd.DataFrame()\n",
    "\n",
    "for end in tqdm(endings):\n",
    "    facility_emissions = pd.read_parquet(output_path+'icisFacilityEmissions_allIhsProcesses_w_uncertainties_dedoubled'+end+'.parquet')\n",
    "    print('0')\n",
    "\n",
    "    facility_emissions[facility_emissions.columns[:13]] = facility_emissions[facility_emissions.columns[:13]].fillna('n.a.')\n",
    "    # Take mean of possible emissions given different possible technologies for each facility\n",
    "    aggregated_emissions = facility_emissions.groupby(list(facility_emissions.columns[:13])+['Gas','Type']).mean()\n",
    "    print('1')\n",
    "\n",
    "    ## Get technology uncertainty by taking stdev\n",
    "    stdevs = facility_emissions[list(facility_emissions.columns[:13])+['Gas','Type']+years].groupby(list(facility_emissions.columns[:13])+['Gas','Type']).agg(np.std)\n",
    "    print('5')\n",
    "\n",
    "    # Keep largest uncertainty between technologies and others\n",
    "    aggregated_emissions[years_sigma] = np.maximum(stdevs.fillna(0).values, aggregated_emissions.fillna(0)[years_sigma].values)\n",
    "\n",
    "    mean_aggregated = pd.concat((mean_aggregated, aggregated_emissions))"
   ],
   "metadata": {
    "collapsed": false,
    "pycharm": {
     "name": "#%%\n"
    }
   }
  },
  {
   "cell_type": "code",
   "execution_count": 7,
   "outputs": [],
   "source": [
    "mean_aggregated[mean_aggregated.columns[:15]] = mean_aggregated[mean_aggregated.columns[:15]].astype(np.float64)"
   ],
   "metadata": {
    "collapsed": false,
    "pycharm": {
     "name": "#%%\n"
    }
   }
  },
  {
   "cell_type": "code",
   "execution_count": 9,
   "outputs": [
    {
     "data": {
      "text/plain": "          PRODUCT COUNTRY/TERRITORY STATE COMPANY   SITE    #  \\\n0  1,4-BUTANEDIOL           BELGIUM  n.a.    BASF  FELUY  1.0   \n1  1,4-BUTANEDIOL           BELGIUM  n.a.    BASF  FELUY  1.0   \n2  1,4-BUTANEDIOL           BELGIUM  n.a.    BASF  FELUY  1.0   \n3  1,4-BUTANEDIOL           BELGIUM  n.a.    BASF  FELUY  1.0   \n4  1,4-BUTANEDIOL           BELGIUM  n.a.    BASF  FELUY  1.0   \n\n              ROUTE TECHNOLOGY               LICENSOR START_YR  ...  \\\n0  MALEIC ANHYDRIDE  HYDRATION  KVAERNER PROCESS TECH   1997.0  ...   \n1  MALEIC ANHYDRIDE  HYDRATION  KVAERNER PROCESS TECH   1997.0  ...   \n2  MALEIC ANHYDRIDE  HYDRATION  KVAERNER PROCESS TECH   1997.0  ...   \n3  MALEIC ANHYDRIDE  HYDRATION  KVAERNER PROCESS TECH   1997.0  ...   \n4  MALEIC ANHYDRIDE  HYDRATION  KVAERNER PROCESS TECH   1997.0  ...   \n\n  2041_sigma 2042_sigma 2043_sigma 2044_sigma 2045_sigma  2046_sigma  \\\n0        0.0        0.0        0.0        0.0        0.0         0.0   \n1        0.0        0.0        0.0        0.0        0.0         0.0   \n2        0.0        0.0        0.0        0.0        0.0         0.0   \n3        0.0        0.0        0.0        0.0        0.0         0.0   \n4        0.0        0.0        0.0        0.0        0.0         0.0   \n\n   2047_sigma  2048_sigma  2049_sigma  2050_sigma  \n0         0.0         0.0         0.0         0.0  \n1         0.0         0.0         0.0         0.0  \n2         0.0         0.0         0.0         0.0  \n3         0.0         0.0         0.0         0.0  \n4         0.0         0.0         0.0         0.0  \n\n[5 rows x 161 columns]",
      "text/html": "<div>\n<style scoped>\n    .dataframe tbody tr th:only-of-type {\n        vertical-align: middle;\n    }\n\n    .dataframe tbody tr th {\n        vertical-align: top;\n    }\n\n    .dataframe thead th {\n        text-align: right;\n    }\n</style>\n<table border=\"1\" class=\"dataframe\">\n  <thead>\n    <tr style=\"text-align: right;\">\n      <th></th>\n      <th>PRODUCT</th>\n      <th>COUNTRY/TERRITORY</th>\n      <th>STATE</th>\n      <th>COMPANY</th>\n      <th>SITE</th>\n      <th>#</th>\n      <th>ROUTE</th>\n      <th>TECHNOLOGY</th>\n      <th>LICENSOR</th>\n      <th>START_YR</th>\n      <th>...</th>\n      <th>2041_sigma</th>\n      <th>2042_sigma</th>\n      <th>2043_sigma</th>\n      <th>2044_sigma</th>\n      <th>2045_sigma</th>\n      <th>2046_sigma</th>\n      <th>2047_sigma</th>\n      <th>2048_sigma</th>\n      <th>2049_sigma</th>\n      <th>2050_sigma</th>\n    </tr>\n  </thead>\n  <tbody>\n    <tr>\n      <th>0</th>\n      <td>1,4-BUTANEDIOL</td>\n      <td>BELGIUM</td>\n      <td>n.a.</td>\n      <td>BASF</td>\n      <td>FELUY</td>\n      <td>1.0</td>\n      <td>MALEIC ANHYDRIDE</td>\n      <td>HYDRATION</td>\n      <td>KVAERNER PROCESS TECH</td>\n      <td>1997.0</td>\n      <td>...</td>\n      <td>0.0</td>\n      <td>0.0</td>\n      <td>0.0</td>\n      <td>0.0</td>\n      <td>0.0</td>\n      <td>0.0</td>\n      <td>0.0</td>\n      <td>0.0</td>\n      <td>0.0</td>\n      <td>0.0</td>\n    </tr>\n    <tr>\n      <th>1</th>\n      <td>1,4-BUTANEDIOL</td>\n      <td>BELGIUM</td>\n      <td>n.a.</td>\n      <td>BASF</td>\n      <td>FELUY</td>\n      <td>1.0</td>\n      <td>MALEIC ANHYDRIDE</td>\n      <td>HYDRATION</td>\n      <td>KVAERNER PROCESS TECH</td>\n      <td>1997.0</td>\n      <td>...</td>\n      <td>0.0</td>\n      <td>0.0</td>\n      <td>0.0</td>\n      <td>0.0</td>\n      <td>0.0</td>\n      <td>0.0</td>\n      <td>0.0</td>\n      <td>0.0</td>\n      <td>0.0</td>\n      <td>0.0</td>\n    </tr>\n    <tr>\n      <th>2</th>\n      <td>1,4-BUTANEDIOL</td>\n      <td>BELGIUM</td>\n      <td>n.a.</td>\n      <td>BASF</td>\n      <td>FELUY</td>\n      <td>1.0</td>\n      <td>MALEIC ANHYDRIDE</td>\n      <td>HYDRATION</td>\n      <td>KVAERNER PROCESS TECH</td>\n      <td>1997.0</td>\n      <td>...</td>\n      <td>0.0</td>\n      <td>0.0</td>\n      <td>0.0</td>\n      <td>0.0</td>\n      <td>0.0</td>\n      <td>0.0</td>\n      <td>0.0</td>\n      <td>0.0</td>\n      <td>0.0</td>\n      <td>0.0</td>\n    </tr>\n    <tr>\n      <th>3</th>\n      <td>1,4-BUTANEDIOL</td>\n      <td>BELGIUM</td>\n      <td>n.a.</td>\n      <td>BASF</td>\n      <td>FELUY</td>\n      <td>1.0</td>\n      <td>MALEIC ANHYDRIDE</td>\n      <td>HYDRATION</td>\n      <td>KVAERNER PROCESS TECH</td>\n      <td>1997.0</td>\n      <td>...</td>\n      <td>0.0</td>\n      <td>0.0</td>\n      <td>0.0</td>\n      <td>0.0</td>\n      <td>0.0</td>\n      <td>0.0</td>\n      <td>0.0</td>\n      <td>0.0</td>\n      <td>0.0</td>\n      <td>0.0</td>\n    </tr>\n    <tr>\n      <th>4</th>\n      <td>1,4-BUTANEDIOL</td>\n      <td>BELGIUM</td>\n      <td>n.a.</td>\n      <td>BASF</td>\n      <td>FELUY</td>\n      <td>1.0</td>\n      <td>MALEIC ANHYDRIDE</td>\n      <td>HYDRATION</td>\n      <td>KVAERNER PROCESS TECH</td>\n      <td>1997.0</td>\n      <td>...</td>\n      <td>0.0</td>\n      <td>0.0</td>\n      <td>0.0</td>\n      <td>0.0</td>\n      <td>0.0</td>\n      <td>0.0</td>\n      <td>0.0</td>\n      <td>0.0</td>\n      <td>0.0</td>\n      <td>0.0</td>\n    </tr>\n  </tbody>\n</table>\n<p>5 rows × 161 columns</p>\n</div>"
     },
     "execution_count": 9,
     "metadata": {},
     "output_type": "execute_result"
    }
   ],
   "source": [
    "mean_aggregated.head()"
   ],
   "metadata": {
    "collapsed": false,
    "pycharm": {
     "name": "#%%\n"
    }
   }
  },
  {
   "cell_type": "code",
   "execution_count": 10,
   "outputs": [],
   "source": [
    "# mean_aggregated = mean_aggregated.reset_index()\n",
    "# mean_aggregated.drop(columns=['index'], inplace=True)\n",
    "mean_aggregated[mean_aggregated.columns[:15]] = mean_aggregated[mean_aggregated.columns[:15]].astype(str)\n",
    "\n",
    "mean_aggregated.to_parquet(output_path+'icisFacilityEmissions_ihsMean_w_uncertainties_allgases_dedoubled.parquet')"
   ],
   "metadata": {
    "collapsed": false,
    "pycharm": {
     "name": "#%%\n"
    }
   }
  },
  {
   "cell_type": "code",
   "execution_count": 11,
   "outputs": [],
   "source": [
    "del facility_emissions\n",
    "del mean_aggregated"
   ],
   "metadata": {
    "collapsed": false,
    "pycharm": {
     "name": "#%%\n"
    }
   }
  },
  {
   "cell_type": "markdown",
   "source": [
    "## Weighted average for Ethylene production"
   ],
   "metadata": {
    "collapsed": false,
    "pycharm": {
     "name": "#%% md\n"
    }
   }
  },
  {
   "cell_type": "code",
   "execution_count": 12,
   "outputs": [],
   "source": [
    "# Read in individual facilities\n",
    "facility_production = pd.read_csv(production_file, index_col=0)\n",
    "eth_prod = facility_production[facility_production['PRODUCT']=='ETHYLENE'].reset_index(drop=True)\n",
    "conv_factors = pd.read_csv(conversion_factor_file)\n",
    "eth_conv = conv_factors[conv_factors['Product']=='ETHYLENE'].reset_index(drop=True)\n",
    "\n",
    "# Ethylene feedstocks\n",
    "feedstocks = pd.read_csv(input_path+'extracted/icisEthyleneFeedstocks_1978-2050.csv', index_col=0, header=[0,1])\n",
    "feedstock_types = pd.read_csv(input_path+'extra_inputs/feedstock_type.csv')"
   ],
   "metadata": {
    "collapsed": false,
    "pycharm": {
     "name": "#%%\n"
    }
   }
  },
  {
   "cell_type": "code",
   "execution_count": 13,
   "outputs": [
    {
     "name": "stderr",
     "output_type": "stream",
     "text": [
      "C:\\Users\\lukec\\AppData\\Local\\Programs\\Python\\Python310\\lib\\site-packages\\pandas\\core\\frame.py:9190: FutureWarning: merging between different levels is deprecated and will be removed in a future version. (2 levels on the left,1 on the right)\n",
      "  return merge(\n"
     ]
    }
   ],
   "source": [
    "# Get emissions for each feedstock\n",
    "years = list(map(str, list(range(1978, 2051))))\n",
    "\n",
    "eth_prod = facility_production[facility_production['PRODUCT']=='ETHYLENE']\n",
    "feedstock_matches = feedstocks.merge(eth_prod, how='left', left_on=list(feedstocks.columns[:6]),\n",
    "                                     right_on=['COUNTRY/TERRITORY','STATE','COMPANY','SITE', '#', 'START_YR'])\n",
    "\n",
    "capacity_cols = [i for i in feedstock_matches.columns if 'CAPACITY' in str(i)]\n",
    "\n",
    "for col, year in zip(capacity_cols, years):\n",
    "    feedstock_matches[col] = feedstock_matches[year]\n",
    "\n",
    "feedstock_matches.drop(columns=list(facility_production.columns), inplace=True)\n",
    "feedstock_matches.columns = pd.MultiIndex.from_tuples((feedstock_matches.columns))"
   ],
   "metadata": {
    "collapsed": false,
    "pycharm": {
     "name": "#%%\n"
    }
   }
  },
  {
   "cell_type": "code",
   "execution_count": 14,
   "outputs": [],
   "source": [
    "del feedstocks"
   ],
   "metadata": {
    "collapsed": false,
    "pycharm": {
     "name": "#%%\n"
    }
   }
  },
  {
   "cell_type": "code",
   "execution_count": 15,
   "outputs": [
    {
     "name": "stderr",
     "output_type": "stream",
     "text": [
      "C:\\Users\\lukec\\AppData\\Local\\Temp/ipykernel_16920/3574444915.py:4: SettingWithCopyWarning: \n",
      "A value is trying to be set on a copy of a slice from a DataFrame.\n",
      "Try using .loc[row_indexer,col_indexer] = value instead\n",
      "\n",
      "See the caveats in the documentation: https://pandas.pydata.org/pandas-docs/stable/user_guide/indexing.html#returning-a-view-versus-a-copy\n",
      "  df['CAPACITY'] = df['CAPACITY'].apply(lambda x: re.sub(\"[^0-9.]\", \"0\", str(x))).astype(float)\n",
      "C:\\Users\\lukec\\AppData\\Local\\Programs\\Python\\Python310\\lib\\site-packages\\pandas\\core\\frame.py:3641: SettingWithCopyWarning: \n",
      "A value is trying to be set on a copy of a slice from a DataFrame.\n",
      "Try using .loc[row_indexer,col_indexer] = value instead\n",
      "\n",
      "See the caveats in the documentation: https://pandas.pydata.org/pandas-docs/stable/user_guide/indexing.html#returning-a-view-versus-a-copy\n",
      "  self[k1] = value[k2]\n"
     ]
    }
   ],
   "source": [
    "feedstock_vals = feedstock_matches.copy()\n",
    "for year in years:\n",
    "    df = feedstock_vals[year]\n",
    "    df['CAPACITY'] = df['CAPACITY'].apply(lambda x: re.sub(\"[^0-9.]\", \"0\", str(x))).astype(float)\n",
    "    df[df.columns[1:]] = df[df.columns[1:]].multiply(df['CAPACITY']/100, axis='index')\n",
    "    feedstock_vals[year] = df"
   ],
   "metadata": {
    "collapsed": false,
    "pycharm": {
     "name": "#%%\n"
    }
   }
  },
  {
   "cell_type": "code",
   "execution_count": 16,
   "outputs": [],
   "source": [
    "def exclude_outliers(group, col='ihs_cradle-to-out-gate CO2e_20a, mass allocation factor'):\n",
    "    #print('l'+str(len(group)))\n",
    "    if len(group) > 3:  # only exclude outliers if the group has more than 3 rows\n",
    "        mean = np.mean(group[col])\n",
    "        std = np.std(group[col])\n",
    "        max_distance = std  # maximum distance from the mean to be considered an outlier\n",
    "        distances = np.abs(group[col] - mean)  # calculate distances of each value to the mean\n",
    "        filtered_group = group[distances <= max_distance]  # keep only values within the maximum distance\n",
    "        #print('f'+str(len(filtered_group)))\n",
    "        if len(filtered_group) < 3:  # if less than 3 rows remain, take the 3 closest to the mean\n",
    "            group['dist'] = np.abs(group[col] - mean)\n",
    "            closest_rows = group.nsmallest(3, 'dist', keep='all')\n",
    "            print(closest_rows)\n",
    "            return closest_rows.drop(columns=['dist'])\n",
    "        else:\n",
    "            return filtered_group\n",
    "    else:\n",
    "        return group"
   ],
   "metadata": {
    "collapsed": false,
    "pycharm": {
     "name": "#%%\n"
    }
   }
  },
  {
   "cell_type": "code",
   "execution_count": 17,
   "outputs": [],
   "source": [
    "feedstock_emissions = eth_conv.merge(feedstock_types, on='ihs_match', how='left')\n",
    "\n",
    "# Take mean of possible emissions given different possible technologuies for each facility\n",
    "aggregated_emissions = feedstock_emissions.groupby(['Feedstock']).mean()\n",
    "\n",
    "#col = 'ihs_cradle-to-out-gate CO2e_100a,  allocation factor'\n",
    "keep_match_locs = feedstock_emissions.groupby('Feedstock').apply(exclude_outliers).drop(columns=['Feedstock']).reset_index()['level_1']\n",
    "keep_matches = eth_conv.loc[keep_match_locs]\n",
    "keep_rows = feedstock_emissions['ihs_match'].isin(keep_matches['ihs_match'])\n",
    "feedstock_emissions = feedstock_emissions[keep_rows]\n",
    "\n",
    "filt_agg = feedstock_emissions.groupby(['Feedstock']).mean()\n",
    "\n",
    "## Get technology uncertainty by taking stdev\n",
    "stdevs = feedstock_emissions[['Feedstock']+[i for i in feedstock_emissions.columns if 'ihs' in i and 'sigma' not in i]].groupby(['Feedstock']).agg(np.std)\n",
    "#\n",
    "# # Keep largest uncertainty between technologies and others\n",
    "years_sigma = [i for i in feedstock_emissions.columns if 'ihs' in i and 'sigma' in i]\n",
    "filt_agg[years_sigma] = np.abs((stdevs.fillna(0).values-filt_agg.fillna(0)[years_sigma].values)/2)+np.minimum(stdevs.fillna(0).values, filt_agg.fillna(0)[years_sigma].values)#np.maximum(stdevs.fillna(0).values, filt_agg.fillna(0)[years_sigma].values)"
   ],
   "metadata": {
    "collapsed": false,
    "pycharm": {
     "name": "#%%\n"
    }
   }
  },
  {
   "cell_type": "code",
   "execution_count": 19,
   "outputs": [],
   "source": [
    "# filt_agg.to_csv('C:/Users\\lukec\\PycharmProjects\\petrochemical-data\\data\\processed/ethylene_conversion_factors.csv')"
   ],
   "metadata": {
    "collapsed": false,
    "pycharm": {
     "name": "#%%\n"
    }
   }
  },
  {
   "cell_type": "code",
   "execution_count": 18,
   "outputs": [],
   "source": [
    "filt_agg = pd.read_csv('C:/Users\\lukec\\PycharmProjects\\petrochemical-data\\data\\processed/ethylene_conversion_factors.csv', index_col=0)"
   ],
   "metadata": {
    "collapsed": false,
    "pycharm": {
     "name": "#%%\n"
    }
   }
  },
  {
   "cell_type": "code",
   "execution_count": 19,
   "outputs": [
    {
     "name": "stderr",
     "output_type": "stream",
     "text": [
      "  0%|          | 0/208 [00:00<?, ?it/s]C:\\Users\\lukec\\AppData\\Local\\Temp/ipykernel_16920/1541695061.py:13: SettingWithCopyWarning: \n",
      "A value is trying to be set on a copy of a slice from a DataFrame.\n",
      "Try using .loc[row_indexer,col_indexer] = value instead\n",
      "\n",
      "See the caveats in the documentation: https://pandas.pydata.org/pandas-docs/stable/user_guide/indexing.html#returning-a-view-versus-a-copy\n",
      "  df[fs] = df[fs]*fs_ems.loc[fs]\n",
      "100%|██████████| 208/208 [01:12<00:00,  2.86it/s]\n"
     ]
    },
    {
     "data": {
      "text/plain": "  COUNTRY/TERRITORY STATE         COMPANY             SITE    #  START_YR  \\\n0         ARGENTINA  n.a.    DOW CHEMICAL     BAHIA BLANCA  2.0    2001.0   \n1         ARGENTINA  n.a.  PAMPA ENERGIA   P.TO SAN MARTIN  1.0       0.0   \n2         ARGENTINA  n.a.  PAMPA ENERGIA    SAN LORENZO/AR  2.0    1978.0   \n3         AUSTRALIA  n.a.           QENOS           ALTONA  1.0    1971.0   \n4         AUSTRALIA  n.a.           QENOS           ALTONA  2.0    1961.0   \n\n  START_MO        1978        1979        1980  ...        2042        2043  \\\n0       na         NaN         NaN         NaN  ...  720.883957  720.883957   \n1       na    0.000000    0.000000    0.000000  ...    0.000000    0.000000   \n2       na    0.000000    0.000000    0.000000  ...         NaN         NaN   \n3       na   91.545799   95.135831   98.725862  ...         NaN         NaN   \n4       na  406.906499  422.863617  438.820735  ...         NaN         NaN   \n\n         2044        2045        2046        2047        2048        2049  \\\n0  720.883957  720.883957  720.883957  720.883957  720.883957  720.883957   \n1    0.000000    0.000000    0.000000    0.000000    0.000000    0.000000   \n2         NaN         NaN         NaN         NaN         NaN         NaN   \n3         NaN         NaN         NaN         NaN         NaN         NaN   \n4         NaN         NaN         NaN         NaN         NaN         NaN   \n\n         2050                                         conversion  \n0  720.883957  ihs_cradle-to-out-gate CO2e_20a,  allocation f...  \n1    0.000000  ihs_cradle-to-out-gate CO2e_20a,  allocation f...  \n2         NaN  ihs_cradle-to-out-gate CO2e_20a,  allocation f...  \n3         NaN  ihs_cradle-to-out-gate CO2e_20a,  allocation f...  \n4         NaN  ihs_cradle-to-out-gate CO2e_20a,  allocation f...  \n\n[5 rows x 81 columns]",
      "text/html": "<div>\n<style scoped>\n    .dataframe tbody tr th:only-of-type {\n        vertical-align: middle;\n    }\n\n    .dataframe tbody tr th {\n        vertical-align: top;\n    }\n\n    .dataframe thead th {\n        text-align: right;\n    }\n</style>\n<table border=\"1\" class=\"dataframe\">\n  <thead>\n    <tr style=\"text-align: right;\">\n      <th></th>\n      <th>COUNTRY/TERRITORY</th>\n      <th>STATE</th>\n      <th>COMPANY</th>\n      <th>SITE</th>\n      <th>#</th>\n      <th>START_YR</th>\n      <th>START_MO</th>\n      <th>1978</th>\n      <th>1979</th>\n      <th>1980</th>\n      <th>...</th>\n      <th>2042</th>\n      <th>2043</th>\n      <th>2044</th>\n      <th>2045</th>\n      <th>2046</th>\n      <th>2047</th>\n      <th>2048</th>\n      <th>2049</th>\n      <th>2050</th>\n      <th>conversion</th>\n    </tr>\n  </thead>\n  <tbody>\n    <tr>\n      <th>0</th>\n      <td>ARGENTINA</td>\n      <td>n.a.</td>\n      <td>DOW CHEMICAL</td>\n      <td>BAHIA BLANCA</td>\n      <td>2.0</td>\n      <td>2001.0</td>\n      <td>na</td>\n      <td>NaN</td>\n      <td>NaN</td>\n      <td>NaN</td>\n      <td>...</td>\n      <td>720.883957</td>\n      <td>720.883957</td>\n      <td>720.883957</td>\n      <td>720.883957</td>\n      <td>720.883957</td>\n      <td>720.883957</td>\n      <td>720.883957</td>\n      <td>720.883957</td>\n      <td>720.883957</td>\n      <td>ihs_cradle-to-out-gate CO2e_20a,  allocation f...</td>\n    </tr>\n    <tr>\n      <th>1</th>\n      <td>ARGENTINA</td>\n      <td>n.a.</td>\n      <td>PAMPA ENERGIA</td>\n      <td>P.TO SAN MARTIN</td>\n      <td>1.0</td>\n      <td>0.0</td>\n      <td>na</td>\n      <td>0.000000</td>\n      <td>0.000000</td>\n      <td>0.000000</td>\n      <td>...</td>\n      <td>0.000000</td>\n      <td>0.000000</td>\n      <td>0.000000</td>\n      <td>0.000000</td>\n      <td>0.000000</td>\n      <td>0.000000</td>\n      <td>0.000000</td>\n      <td>0.000000</td>\n      <td>0.000000</td>\n      <td>ihs_cradle-to-out-gate CO2e_20a,  allocation f...</td>\n    </tr>\n    <tr>\n      <th>2</th>\n      <td>ARGENTINA</td>\n      <td>n.a.</td>\n      <td>PAMPA ENERGIA</td>\n      <td>SAN LORENZO/AR</td>\n      <td>2.0</td>\n      <td>1978.0</td>\n      <td>na</td>\n      <td>0.000000</td>\n      <td>0.000000</td>\n      <td>0.000000</td>\n      <td>...</td>\n      <td>NaN</td>\n      <td>NaN</td>\n      <td>NaN</td>\n      <td>NaN</td>\n      <td>NaN</td>\n      <td>NaN</td>\n      <td>NaN</td>\n      <td>NaN</td>\n      <td>NaN</td>\n      <td>ihs_cradle-to-out-gate CO2e_20a,  allocation f...</td>\n    </tr>\n    <tr>\n      <th>3</th>\n      <td>AUSTRALIA</td>\n      <td>n.a.</td>\n      <td>QENOS</td>\n      <td>ALTONA</td>\n      <td>1.0</td>\n      <td>1971.0</td>\n      <td>na</td>\n      <td>91.545799</td>\n      <td>95.135831</td>\n      <td>98.725862</td>\n      <td>...</td>\n      <td>NaN</td>\n      <td>NaN</td>\n      <td>NaN</td>\n      <td>NaN</td>\n      <td>NaN</td>\n      <td>NaN</td>\n      <td>NaN</td>\n      <td>NaN</td>\n      <td>NaN</td>\n      <td>ihs_cradle-to-out-gate CO2e_20a,  allocation f...</td>\n    </tr>\n    <tr>\n      <th>4</th>\n      <td>AUSTRALIA</td>\n      <td>n.a.</td>\n      <td>QENOS</td>\n      <td>ALTONA</td>\n      <td>2.0</td>\n      <td>1961.0</td>\n      <td>na</td>\n      <td>406.906499</td>\n      <td>422.863617</td>\n      <td>438.820735</td>\n      <td>...</td>\n      <td>NaN</td>\n      <td>NaN</td>\n      <td>NaN</td>\n      <td>NaN</td>\n      <td>NaN</td>\n      <td>NaN</td>\n      <td>NaN</td>\n      <td>NaN</td>\n      <td>NaN</td>\n      <td>ihs_cradle-to-out-gate CO2e_20a,  allocation f...</td>\n    </tr>\n  </tbody>\n</table>\n<p>5 rows × 81 columns</p>\n</div>"
     },
     "execution_count": 19,
     "metadata": {},
     "output_type": "execute_result"
    }
   ],
   "source": [
    "from tqdm import tqdm\n",
    "# Apply emissions to each facility\n",
    "blank = feedstock_vals[feedstock_vals.columns[:7]]\n",
    "blank.columns = list(blank.columns.droplevel(1))\n",
    "conversions = filt_agg.columns[['allocation' in name for name in filt_agg.columns]]\n",
    "\n",
    "for conversion in tqdm(conversions):\n",
    "    fs_ems = filt_agg[conversion]\n",
    "    each_conv = pd.DataFrame()\n",
    "    for year in years:\n",
    "        df = feedstock_vals[year]\n",
    "        for fs in df.columns[1:]:\n",
    "            df[fs] = df[fs]*fs_ems.loc[fs]\n",
    "        yearly = blank.copy()\n",
    "        yearly['Year'] = year\n",
    "        yearly[conversion] = np.sum(df[df.columns[1:]].values, axis=1)\n",
    "        each_conv = pd.concat((each_conv,yearly), axis=0)\n",
    "    conv_emissions = pd.concat((blank, each_conv.pivot(columns=['Year'], values=conversion)), axis=1)\n",
    "    conv_emissions['conversion'] = conversion\n",
    "    if conversion != conversions[0]:\n",
    "        ethylene_ems = pd.concat((ethylene_ems, conv_emissions), axis=0)#.merge(each_conv, on=list(each_conv.columns[:8]), how='left')\n",
    "    else: ethylene_ems = conv_emissions.copy()\n",
    "\n",
    "ethylene_ems.head()"
   ],
   "metadata": {
    "collapsed": false,
    "pycharm": {
     "name": "#%%\n"
    }
   }
  },
  {
   "cell_type": "code",
   "execution_count": 20,
   "outputs": [
    {
     "name": "stderr",
     "output_type": "stream",
     "text": [
      "C:\\Users\\lukec\\AppData\\Local\\Temp/ipykernel_16920/1310990655.py:20: SettingWithCopyWarning: \n",
      "A value is trying to be set on a copy of a slice from a DataFrame.\n",
      "Try using .loc[row_indexer,col_indexer] = value instead\n",
      "\n",
      "See the caveats in the documentation: https://pandas.pydata.org/pandas-docs/stable/user_guide/indexing.html#returning-a-view-versus-a-copy\n",
      "  df['Gas'] = gas\n",
      "C:\\Users\\lukec\\AppData\\Local\\Temp/ipykernel_16920/1310990655.py:21: SettingWithCopyWarning: \n",
      "A value is trying to be set on a copy of a slice from a DataFrame.\n",
      "Try using .loc[row_indexer,col_indexer] = value instead\n",
      "\n",
      "See the caveats in the documentation: https://pandas.pydata.org/pandas-docs/stable/user_guide/indexing.html#returning-a-view-versus-a-copy\n",
      "  df['Type'] = name\n",
      "C:\\Users\\lukec\\AppData\\Local\\Temp/ipykernel_16920/1310990655.py:25: SettingWithCopyWarning: \n",
      "A value is trying to be set on a copy of a slice from a DataFrame.\n",
      "Try using .loc[row_indexer,col_indexer] = value instead\n",
      "\n",
      "See the caveats in the documentation: https://pandas.pydata.org/pandas-docs/stable/user_guide/indexing.html#returning-a-view-versus-a-copy\n",
      "  df_sigma['Gas'] = gas\n",
      "C:\\Users\\lukec\\AppData\\Local\\Temp/ipykernel_16920/1310990655.py:26: SettingWithCopyWarning: \n",
      "A value is trying to be set on a copy of a slice from a DataFrame.\n",
      "Try using .loc[row_indexer,col_indexer] = value instead\n",
      "\n",
      "See the caveats in the documentation: https://pandas.pydata.org/pandas-docs/stable/user_guide/indexing.html#returning-a-view-versus-a-copy\n",
      "  df_sigma['Type'] = name\n"
     ]
    }
   ],
   "source": [
    "# Convert output to facility_emissions format\n",
    "ethylene_conv = ethylene_ems.copy()\n",
    "ethylene_conv['conversion'] = [i.replace(',  allocation ','_').replace('_factor','') for i in ethylene_conv['conversion']]\n",
    "#ethylene_conv.columns = [i.replace(',  allocation ','_').replace('_factor','') for i in ethylene_conv.columns]\n",
    "\n",
    "dbs = ['ihs_cradle-to-out-gate ', 'Feedstock ', 'Organic chemicals ', 'Primary chemicals ', 'Other intermediates ', 'Direct Utilities ', 'Indirect Utilities ', 'Direct Process ', 'Electricity ', 'Raw Material ']\n",
    "names = ['IHS CtOG', 'Feedstock', 'Organic chemicals', 'Primary chemicals', 'Other intermediates', 'Direct Utilities', 'Indirect Utilities', 'Direct Process', 'Electricity', 'Raw Material']\n",
    "# dbs = ['ihs_cradle-to-out-gate ', 'Raw Material ', 'Indirect Utilities ', 'Direct Utilities ', 'Direct Process ', 'Electricity ']\n",
    "# names = ['IHS CtOG', 'Raw Material', 'Indirect Utilities', 'Direct Utilities', 'Direct Process', 'Electricity']\n",
    "emission_val_cols = ['CO2e_20a', 'CO2e_100a', 'Carbon dioxide', 'Carbon monoxide', 'Chloroform', 'Dinitrogen monoxide', 'Ethane', 'Methane', 'Nitric oxide', 'Nitrogen fluoride', 'Perfluoropentane', 'Sulfur hexafluoride', 'Other']\n",
    "\n",
    "base_cols = list(ethylene_conv.columns[:7])\n",
    "\n",
    "ethylene_vals = pd.DataFrame()\n",
    "ethylene_sigmas = pd.DataFrame()\n",
    "#\n",
    "for db, name in zip(dbs, names):\n",
    "    for gas in emission_val_cols:\n",
    "        df = ethylene_conv[ethylene_conv['conversion']==db+gas]\n",
    "        df['Gas'] = gas\n",
    "        df['Type'] = name\n",
    "        ethylene_vals = pd.concat((ethylene_vals, df), axis = 0)\n",
    "\n",
    "        df_sigma = ethylene_conv[ethylene_conv['conversion']==db+gas+'_sigma']\n",
    "        df_sigma['Gas'] = gas\n",
    "        df_sigma['Type'] = name\n",
    "        ethylene_sigmas = pd.concat((ethylene_sigmas, df_sigma), axis = 0)\n",
    "\n",
    "ethylene_weighted = ethylene_vals.merge(ethylene_sigmas, on=base_cols+['Gas', 'Type'], how='left', suffixes=('','_sigma')).reset_index()\n",
    "#\n",
    "# #ethylene_weighted.columns.name = None\n",
    "ethylene_weighted = ethylene_weighted.fillna(0).drop(columns=['conversion', 'conversion_sigma', 'index'])\n",
    "\n",
    "ethylene_weighted[['COUNTRY/TERRITORY', 'STATE', 'COMPANY', 'SITE', '#', 'START_YR', 'Type', 'Gas']] = ethylene_weighted[['COUNTRY/TERRITORY', 'STATE', 'COMPANY', 'SITE', '#', 'START_YR', 'Type', 'Gas']].astype(str)"
   ],
   "metadata": {
    "collapsed": false,
    "pycharm": {
     "name": "#%%\n"
    }
   }
  },
  {
   "cell_type": "code",
   "execution_count": 21,
   "outputs": [],
   "source": [
    "# Update ethylene values in facility emissions database\n",
    "facility_emissions = pd.read_parquet(output_path+'icisFacilityEmissions_ihsMean_w_uncertainties_allgases_dedoubled.parquet')\n",
    "\n",
    "eth_ems = facility_emissions[facility_emissions['PRODUCT']=='ETHYLENE']\n",
    "\n",
    "emissions_merged = eth_ems.merge(ethylene_weighted, on=['COUNTRY/TERRITORY', 'STATE', 'COMPANY', 'SITE', '#', 'START_YR', 'Type', 'Gas'], how='left', suffixes=('_old',''))\n",
    "\n",
    "years = [str(i) for i in range(1978, 2051)]\n",
    "years_sigma = [year+'_sigma' for year in years]\n",
    "\n",
    "for year, uncert in zip(years, years_sigma):\n",
    "    emissions_merged[year] = emissions_merged[year].fillna(emissions_merged[year+'_old'])\n",
    "    emissions_merged[uncert] = emissions_merged[uncert].fillna(emissions_merged[uncert+'_old'])\n",
    "\n",
    "eth_emissions_update = emissions_merged.drop(columns=list(emissions_merged.columns[['_old' in i for i in emissions_merged.columns]]) + ['START_MO'])"
   ],
   "metadata": {
    "collapsed": false,
    "pycharm": {
     "name": "#%%\n"
    }
   }
  },
  {
   "cell_type": "code",
   "execution_count": 27,
   "outputs": [],
   "source": [
    "del facility_emissions"
   ],
   "metadata": {
    "collapsed": false,
    "pycharm": {
     "name": "#%%\n"
    }
   }
  },
  {
   "cell_type": "code",
   "execution_count": 23,
   "outputs": [],
   "source": [
    "full_update = pd.concat((facility_emissions[facility_emissions['PRODUCT']!='ETHYLENE'], eth_emissions_update), axis=0)"
   ],
   "metadata": {
    "collapsed": false,
    "pycharm": {
     "name": "#%%\n"
    }
   }
  },
  {
   "cell_type": "code",
   "execution_count": 24,
   "outputs": [],
   "source": [
    "del ethylene_ems"
   ],
   "metadata": {
    "collapsed": false,
    "pycharm": {
     "name": "#%%\n"
    }
   }
  },
  {
   "cell_type": "code",
   "execution_count": 25,
   "outputs": [],
   "source": [
    "full_update[years_sigma] = full_update[years_sigma].astype(float)"
   ],
   "metadata": {
    "collapsed": false,
    "pycharm": {
     "name": "#%%\n"
    }
   }
  },
  {
   "cell_type": "code",
   "execution_count": 28,
   "outputs": [],
   "source": [
    "full_update.sort_values(list(full_update.columns[:15])).to_parquet(output_path+'icisFacilityEmissions_ihsWeighted_w_uncertainties_allgases_dedoubled.parquet')"
   ],
   "metadata": {
    "collapsed": false,
    "pycharm": {
     "name": "#%%\n"
    }
   }
  },
  {
   "cell_type": "code",
   "execution_count": 35,
   "outputs": [],
   "source": [
    "def filter_df(df, cols, filters):\n",
    "    for col, filt in zip(cols, filters):\n",
    "        df = df[[i in filt for i in df[col]]]\n",
    "    return df\n",
    "\n",
    "filtered = filter_df(full_update, ['Gas'], [['CO2e_100a']])"
   ],
   "metadata": {
    "collapsed": false,
    "pycharm": {
     "name": "#%%\n"
    }
   }
  },
  {
   "cell_type": "code",
   "execution_count": 37,
   "outputs": [],
   "source": [
    "filtered = filter_df(filtered, ['Type'], [['Direct Process', 'Direct Utilities', 'Indirect Utilities', 'Feedstock', 'Organic chemicals', 'Primary chemicals', 'Other intermediates']])"
   ],
   "metadata": {
    "collapsed": false,
    "pycharm": {
     "name": "#%%\n"
    }
   }
  },
  {
   "cell_type": "code",
   "execution_count": 40,
   "outputs": [
    {
     "data": {
      "text/plain": "4072440.6086431607"
     },
     "execution_count": 40,
     "metadata": {},
     "output_type": "execute_result"
    }
   ],
   "source": [
    "filtered['2020'].sum()"
   ],
   "metadata": {
    "collapsed": false,
    "pycharm": {
     "name": "#%%\n"
    }
   }
  },
  {
   "cell_type": "code",
   "execution_count": 43,
   "outputs": [
    {
     "data": {
      "text/plain": "276876.9117265616"
     },
     "execution_count": 43,
     "metadata": {},
     "output_type": "execute_result"
    }
   ],
   "source": [
    "filter_df(filtered, ['PRODUCT'], [['AMMONIA']])['2020'].sum()"
   ],
   "metadata": {
    "collapsed": false,
    "pycharm": {
     "name": "#%%\n"
    }
   }
  },
  {
   "cell_type": "code",
   "execution_count": 36,
   "outputs": [],
   "source": [
    "## Utility functions\n",
    "def uncertainty_propagation(calc:str, x:float, dx:float, y:float=1, dy:float=0, z:float=1, propagation_type:str='simple') -> float:\n",
    "    if calc == 'mult':\n",
    "        xdiv = np.divide(dx, x, out=np.zeros_like(dx), where=x!=0)\n",
    "        ydiv = np.divide(dy, y, out=np.zeros_like(dy), where=y!=0)\n",
    "        if propagation_type == 'simple':\n",
    "            return (xdiv + ydiv)*z\n",
    "        elif propagation_type == 'stdev':\n",
    "            return np.sqrt(pow(xdiv,2) + pow(ydiv,2))*z\n",
    "        else: Exception('Specified propagation_type not recognised.')\n",
    "\n",
    "    elif calc == 'add':\n",
    "        if propagation_type == 'simple':\n",
    "            return abs(dx)+abs(dy)\n",
    "        elif propagation_type == 'stdev':\n",
    "            return np.sqrt(pow(dx,2) + pow(dy,2))\n",
    "        else: Exception('Specified propagation_type not recognised.')\n",
    "    else: Exception('Please specify calc of propagation')#%%"
   ],
   "metadata": {
    "collapsed": false,
    "pycharm": {
     "name": "#%%\n"
    }
   }
  },
  {
   "cell_type": "markdown",
   "source": [
    "# All possible facility emissions given different processes for making same product"
   ],
   "metadata": {
    "collapsed": false,
    "pycharm": {
     "name": "#%% md\n"
    }
   }
  },
  {
   "cell_type": "code",
   "execution_count": 5,
   "outputs": [],
   "source": [
    "facility_match = facility_conversion[list(facility_conversion.columns[:list(facility_conversion.columns).index('PROCESS')+2])]"
   ],
   "metadata": {
    "collapsed": false,
    "pycharm": {
     "name": "#%%\n"
    }
   }
  },
  {
   "cell_type": "code",
   "execution_count": 6,
   "outputs": [],
   "source": [
    "# sort_col = 'ihs_cradle-to-out-gate CO2e_20a,  allocation factor'\n",
    "# min_conv_factors = conv_factors.sort_values(['Product', sort_col]).groupby('Product').head(1).reset_index(drop=True)"
   ],
   "metadata": {
    "collapsed": false,
    "pycharm": {
     "name": "#%%\n"
    }
   }
  },
  {
   "cell_type": "code",
   "execution_count": 9,
   "outputs": [],
   "source": [
    "facility_min_type = facility_match.drop(columns='PROCESS').merge(conv_factors, on='Product', how='left').drop_duplicates()"
   ],
   "metadata": {
    "collapsed": false,
    "pycharm": {
     "name": "#%%\n"
    }
   }
  },
  {
   "cell_type": "code",
   "execution_count": 10,
   "outputs": [
    {
     "name": "stderr",
     "output_type": "stream",
     "text": [
      "C:\\Users\\lukec\\AppData\\Local\\Temp/ipykernel_10312/2432337054.py:5: RuntimeWarning: Mean of empty slice\n",
      "  facility_min_type['combined_' + column] = np.nanmean([facility_min_type['ei_' + column + '_cradle-to-gate'], facility_min_type['cm_' + column + '_cradle-to-gate']], axis=0)\n",
      "C:\\Users\\lukec\\AppData\\Local\\Temp/ipykernel_10312/2432337054.py:6: RuntimeWarning: Mean of empty slice\n",
      "  facility_min_type['combined_' + col_sigma] = np.nanmean([facility_min_type['ei_' + column + '_cradle-to-gate_sigma'], facility_min_type['cm_' + column + '_cradle-to-gate_sigma']], axis=0)\n"
     ]
    }
   ],
   "source": [
    "emission_val_cols = ['CO2e_20a', 'CO2e_100a']#, 'Carbon dioxide', 'Carbon monoxide', 'Chloroform', 'Dinitrogen monoxide', 'Ethane', 'Methane', 'Nitric oxide', 'Nitrogen fluoride', 'Perfluoropentane', 'Sulfur hexafluoride', 'Other']\n",
    "emission_val_cols_sigma = [col + '_sigma' for col in emission_val_cols]\n",
    "\n",
    "for column, col_sigma in zip(emission_val_cols, emission_val_cols_sigma):\n",
    "    facility_min_type['combined_' + column] = np.nanmean([facility_min_type['ei_' + column + '_cradle-to-gate'], facility_min_type['cm_' + column + '_cradle-to-gate']], axis=0)\n",
    "    facility_min_type['combined_' + col_sigma] = np.nanmean([facility_min_type['ei_' + column + '_cradle-to-gate_sigma'], facility_min_type['cm_' + column + '_cradle-to-gate_sigma']], axis=0)\n",
    "\n",
    "facility_min_type = facility_min_type[facility_min_type.columns[['ei' not in col and 'cm' not in col for col in facility_min_type.columns]]]\n",
    "\n",
    "facility_min_type.columns = [i.replace(',  allocation factor','').replace(',  allocation sigma','_sigma') for i in facility_min_type.columns]\n",
    "\n",
    "facility_min_type.rename(columns={'ihs_match':'PROCESS'}, inplace=True)"
   ],
   "metadata": {
    "collapsed": false,
    "pycharm": {
     "name": "#%%\n"
    }
   }
  },
  {
   "cell_type": "code",
   "execution_count": 11,
   "outputs": [
    {
     "name": "stderr",
     "output_type": "stream",
     "text": [
      "0it [00:00, ?it/s]\n",
      "  0%|          | 0/2 [00:00<?, ?it/s]\u001B[A\n",
      " 50%|█████     | 1/2 [00:01<00:01,  1.03s/it]\u001B[A\n",
      "100%|██████████| 2/2 [00:01<00:00,  1.04it/s]\u001B[A\n",
      "1it [00:01,  1.93s/it]\n",
      "  0%|          | 0/2 [00:00<?, ?it/s]\u001B[A\n",
      " 50%|█████     | 1/2 [00:00<00:00,  1.02it/s]\u001B[A\n",
      "100%|██████████| 2/2 [00:02<00:00,  1.05s/it]\u001B[A\n",
      "2it [00:04,  2.03s/it]\n",
      "  0%|          | 0/2 [00:00<?, ?it/s]\u001B[A\n",
      " 50%|█████     | 1/2 [00:01<00:01,  1.52s/it]\u001B[A\n",
      "100%|██████████| 2/2 [00:03<00:00,  1.62s/it]\u001B[A\n",
      "3it [00:07,  2.58s/it]\n",
      "  0%|          | 0/2 [00:00<?, ?it/s]\u001B[A\n",
      " 50%|█████     | 1/2 [00:01<00:01,  1.68s/it]\u001B[A\n",
      "100%|██████████| 2/2 [00:03<00:00,  1.63s/it]\u001B[A\n",
      "4it [00:10,  2.85s/it]\n",
      "  0%|          | 0/2 [00:00<?, ?it/s]\u001B[A\n",
      " 50%|█████     | 1/2 [00:01<00:01,  1.76s/it]\u001B[A\n",
      "100%|██████████| 2/2 [00:03<00:00,  1.82s/it]\u001B[A\n",
      "5it [00:14,  3.13s/it]\n",
      "  0%|          | 0/2 [00:00<?, ?it/s]\u001B[A\n",
      " 50%|█████     | 1/2 [00:03<00:03,  3.26s/it]\u001B[A\n",
      "100%|██████████| 2/2 [00:06<00:00,  3.08s/it]\u001B[A\n",
      "6it [00:20,  3.39s/it]\n"
     ]
    }
   ],
   "source": [
    "# Calculate facility emissions for\n",
    "dbs = ['combined_', 'Raw Material ', 'Indirect Utilities ', 'Direct Utilities ', 'Direct Process ', 'Electricity ']\n",
    "names = ['EI & CM', 'Raw Material', 'Indirect Utilities', 'Direct Utilities', 'Direct Process', 'Electricity']\n",
    "\n",
    "# Create base dataframe to use\n",
    "years = [str(i) for i in range(1978, 2051)]\n",
    "years_sigma = [year+'_sigma' for year in years]\n",
    "base_columns = ['PRODUCT', 'COUNTRY/TERRITORY', 'STATE', 'COMPANY', 'SITE', '#',\n",
    "       'ROUTE', 'TECHNOLOGY', 'LICENSOR', 'START_YR', 'COMPLEX', 'LATITUDE', 'LONGITUDE', 'PROCESS'] + years + years_sigma\n",
    "base_df = facility_min_type[base_columns]\n",
    "\n",
    "facility_mins = pd.DataFrame()\n",
    "for db, name in tqdm(zip(dbs, names)):\n",
    "    for gas in tqdm(emission_val_cols):\n",
    "        df = base_df.copy()\n",
    "        df[years] = df[years].multiply(facility_min_type[db+gas], axis='index')\n",
    "        ## Incorrect error propagation here\n",
    "        df[years_sigma] = df[years_sigma].multiply(facility_min_type[db+gas+'_sigma'], axis='index')\n",
    "        df['Gas'] = gas\n",
    "        df['Type'] = name\n",
    "        facility_mins = pd.concat((facility_mins, df), axis = 0)"
   ],
   "metadata": {
    "collapsed": false,
    "pycharm": {
     "name": "#%%\n"
    }
   }
  },
  {
   "cell_type": "code",
   "execution_count": 12,
   "outputs": [],
   "source": [
    "# Save as parquet file for large size\n",
    "facility_mins.to_parquet(output_path+'icisFacilityEmissions_ihsAllPossible_w_uncertainties.parquet')"
   ],
   "metadata": {
    "collapsed": false,
    "pycharm": {
     "name": "#%%\n"
    }
   }
  },
  {
   "cell_type": "code",
   "execution_count": null,
   "outputs": [],
   "source": [],
   "metadata": {
    "collapsed": false,
    "pycharm": {
     "name": "#%%\n"
    }
   }
  }
 ],
 "metadata": {
  "kernelspec": {
   "display_name": "Python 3",
   "language": "python",
   "name": "python3"
  },
  "language_info": {
   "codemirror_mode": {
    "name": "ipython",
    "version": 2
   },
   "file_extension": ".py",
   "mimetype": "text/x-python",
   "name": "python",
   "nbconvert_exporter": "python",
   "pygments_lexer": "ipython2",
   "version": "2.7.6"
  }
 },
 "nbformat": 4,
 "nbformat_minor": 0
}
