{
 "cells": [
  {
   "cell_type": "code",
   "outputs": [],
   "source": [
    "import pandas as pd"
   ],
   "metadata": {
    "collapsed": false,
    "ExecuteTime": {
     "end_time": "2024-01-19T10:11:40.420440Z",
     "start_time": "2024-01-19T10:11:40.417180Z"
    }
   },
   "id": "efe9ad7838465b23",
   "execution_count": 55
  },
  {
   "cell_type": "code",
   "outputs": [],
   "source": [
    "conv_factors = pd.read_csv('/Users/lukecullen/Library/CloudStorage/OneDrive-UniversityofCambridge/PhD/C-THRU/zenodo_data/processConversionFactors_allgases_allalloc_dedoubled.csv')\n",
    "conv_factors.drop(columns=[i for i in conv_factors.columns if 'Electricity' in i], inplace=True)\n",
    "conv_factors.rename(columns={'ihs_match':'Process'}, inplace=True)\n",
    "conv_factors.fillna(0, inplace=True)"
   ],
   "metadata": {
    "collapsed": false,
    "ExecuteTime": {
     "end_time": "2024-01-19T10:11:41.549091Z",
     "start_time": "2024-01-19T10:11:41.458231Z"
    }
   },
   "id": "f346a6c05920759c",
   "execution_count": 56
  },
  {
   "cell_type": "code",
   "outputs": [
    {
     "name": "stderr",
     "output_type": "stream",
     "text": [
      "/var/folders/xm/c2mlyq6s23nb_g6_v4fylb7h0000gn/T/ipykernel_4075/1075175095.py:15: SettingWithCopyWarning: \n",
      "A value is trying to be set on a copy of a slice from a DataFrame.\n",
      "Try using .loc[row_indexer,col_indexer] = value instead\n",
      "\n",
      "See the caveats in the documentation: https://pandas.pydata.org/pandas-docs/stable/user_guide/indexing.html#returning-a-view-versus-a-copy\n",
      "  df['Intermediates'] = df['Organic chemicals'].values# + df['Other intermediates'].values\n",
      "/var/folders/xm/c2mlyq6s23nb_g6_v4fylb7h0000gn/T/ipykernel_4075/1075175095.py:16: SettingWithCopyWarning: \n",
      "A value is trying to be set on a copy of a slice from a DataFrame.\n",
      "Try using .loc[row_indexer,col_indexer] = value instead\n",
      "\n",
      "See the caveats in the documentation: https://pandas.pydata.org/pandas-docs/stable/user_guide/indexing.html#returning-a-view-versus-a-copy\n",
      "  df['Intermediates uncertainty'] = df['Organic chemicals uncertainty'].values# + df['Other intermediates uncertainty'].values\n",
      "/var/folders/xm/c2mlyq6s23nb_g6_v4fylb7h0000gn/T/ipykernel_4075/1075175095.py:17: SettingWithCopyWarning: \n",
      "A value is trying to be set on a copy of a slice from a DataFrame\n",
      "\n",
      "See the caveats in the documentation: https://pandas.pydata.org/pandas-docs/stable/user_guide/indexing.html#returning-a-view-versus-a-copy\n",
      "  df.drop(columns=['Organic chemicals', 'Organic chemicals uncertainty'], inplace=True)\n",
      "/var/folders/xm/c2mlyq6s23nb_g6_v4fylb7h0000gn/T/ipykernel_4075/1075175095.py:15: SettingWithCopyWarning: \n",
      "A value is trying to be set on a copy of a slice from a DataFrame.\n",
      "Try using .loc[row_indexer,col_indexer] = value instead\n",
      "\n",
      "See the caveats in the documentation: https://pandas.pydata.org/pandas-docs/stable/user_guide/indexing.html#returning-a-view-versus-a-copy\n",
      "  df['Intermediates'] = df['Organic chemicals'].values# + df['Other intermediates'].values\n",
      "/var/folders/xm/c2mlyq6s23nb_g6_v4fylb7h0000gn/T/ipykernel_4075/1075175095.py:16: SettingWithCopyWarning: \n",
      "A value is trying to be set on a copy of a slice from a DataFrame.\n",
      "Try using .loc[row_indexer,col_indexer] = value instead\n",
      "\n",
      "See the caveats in the documentation: https://pandas.pydata.org/pandas-docs/stable/user_guide/indexing.html#returning-a-view-versus-a-copy\n",
      "  df['Intermediates uncertainty'] = df['Organic chemicals uncertainty'].values# + df['Other intermediates uncertainty'].values\n",
      "/var/folders/xm/c2mlyq6s23nb_g6_v4fylb7h0000gn/T/ipykernel_4075/1075175095.py:17: SettingWithCopyWarning: \n",
      "A value is trying to be set on a copy of a slice from a DataFrame\n",
      "\n",
      "See the caveats in the documentation: https://pandas.pydata.org/pandas-docs/stable/user_guide/indexing.html#returning-a-view-versus-a-copy\n",
      "  df.drop(columns=['Organic chemicals', 'Organic chemicals uncertainty'], inplace=True)\n",
      "/var/folders/xm/c2mlyq6s23nb_g6_v4fylb7h0000gn/T/ipykernel_4075/1075175095.py:15: SettingWithCopyWarning: \n",
      "A value is trying to be set on a copy of a slice from a DataFrame.\n",
      "Try using .loc[row_indexer,col_indexer] = value instead\n",
      "\n",
      "See the caveats in the documentation: https://pandas.pydata.org/pandas-docs/stable/user_guide/indexing.html#returning-a-view-versus-a-copy\n",
      "  df['Intermediates'] = df['Organic chemicals'].values# + df['Other intermediates'].values\n",
      "/var/folders/xm/c2mlyq6s23nb_g6_v4fylb7h0000gn/T/ipykernel_4075/1075175095.py:16: SettingWithCopyWarning: \n",
      "A value is trying to be set on a copy of a slice from a DataFrame.\n",
      "Try using .loc[row_indexer,col_indexer] = value instead\n",
      "\n",
      "See the caveats in the documentation: https://pandas.pydata.org/pandas-docs/stable/user_guide/indexing.html#returning-a-view-versus-a-copy\n",
      "  df['Intermediates uncertainty'] = df['Organic chemicals uncertainty'].values# + df['Other intermediates uncertainty'].values\n",
      "/var/folders/xm/c2mlyq6s23nb_g6_v4fylb7h0000gn/T/ipykernel_4075/1075175095.py:17: SettingWithCopyWarning: \n",
      "A value is trying to be set on a copy of a slice from a DataFrame\n",
      "\n",
      "See the caveats in the documentation: https://pandas.pydata.org/pandas-docs/stable/user_guide/indexing.html#returning-a-view-versus-a-copy\n",
      "  df.drop(columns=['Organic chemicals', 'Organic chemicals uncertainty'], inplace=True)\n",
      "/var/folders/xm/c2mlyq6s23nb_g6_v4fylb7h0000gn/T/ipykernel_4075/1075175095.py:15: SettingWithCopyWarning: \n",
      "A value is trying to be set on a copy of a slice from a DataFrame.\n",
      "Try using .loc[row_indexer,col_indexer] = value instead\n",
      "\n",
      "See the caveats in the documentation: https://pandas.pydata.org/pandas-docs/stable/user_guide/indexing.html#returning-a-view-versus-a-copy\n",
      "  df['Intermediates'] = df['Organic chemicals'].values# + df['Other intermediates'].values\n",
      "/var/folders/xm/c2mlyq6s23nb_g6_v4fylb7h0000gn/T/ipykernel_4075/1075175095.py:16: SettingWithCopyWarning: \n",
      "A value is trying to be set on a copy of a slice from a DataFrame.\n",
      "Try using .loc[row_indexer,col_indexer] = value instead\n",
      "\n",
      "See the caveats in the documentation: https://pandas.pydata.org/pandas-docs/stable/user_guide/indexing.html#returning-a-view-versus-a-copy\n",
      "  df['Intermediates uncertainty'] = df['Organic chemicals uncertainty'].values# + df['Other intermediates uncertainty'].values\n",
      "/var/folders/xm/c2mlyq6s23nb_g6_v4fylb7h0000gn/T/ipykernel_4075/1075175095.py:17: SettingWithCopyWarning: \n",
      "A value is trying to be set on a copy of a slice from a DataFrame\n",
      "\n",
      "See the caveats in the documentation: https://pandas.pydata.org/pandas-docs/stable/user_guide/indexing.html#returning-a-view-versus-a-copy\n",
      "  df.drop(columns=['Organic chemicals', 'Organic chemicals uncertainty'], inplace=True)\n",
      "/var/folders/xm/c2mlyq6s23nb_g6_v4fylb7h0000gn/T/ipykernel_4075/1075175095.py:15: SettingWithCopyWarning: \n",
      "A value is trying to be set on a copy of a slice from a DataFrame.\n",
      "Try using .loc[row_indexer,col_indexer] = value instead\n",
      "\n",
      "See the caveats in the documentation: https://pandas.pydata.org/pandas-docs/stable/user_guide/indexing.html#returning-a-view-versus-a-copy\n",
      "  df['Intermediates'] = df['Organic chemicals'].values# + df['Other intermediates'].values\n",
      "/var/folders/xm/c2mlyq6s23nb_g6_v4fylb7h0000gn/T/ipykernel_4075/1075175095.py:16: SettingWithCopyWarning: \n",
      "A value is trying to be set on a copy of a slice from a DataFrame.\n",
      "Try using .loc[row_indexer,col_indexer] = value instead\n",
      "\n",
      "See the caveats in the documentation: https://pandas.pydata.org/pandas-docs/stable/user_guide/indexing.html#returning-a-view-versus-a-copy\n",
      "  df['Intermediates uncertainty'] = df['Organic chemicals uncertainty'].values# + df['Other intermediates uncertainty'].values\n",
      "/var/folders/xm/c2mlyq6s23nb_g6_v4fylb7h0000gn/T/ipykernel_4075/1075175095.py:17: SettingWithCopyWarning: \n",
      "A value is trying to be set on a copy of a slice from a DataFrame\n",
      "\n",
      "See the caveats in the documentation: https://pandas.pydata.org/pandas-docs/stable/user_guide/indexing.html#returning-a-view-versus-a-copy\n",
      "  df.drop(columns=['Organic chemicals', 'Organic chemicals uncertainty'], inplace=True)\n",
      "/var/folders/xm/c2mlyq6s23nb_g6_v4fylb7h0000gn/T/ipykernel_4075/1075175095.py:15: SettingWithCopyWarning: \n",
      "A value is trying to be set on a copy of a slice from a DataFrame.\n",
      "Try using .loc[row_indexer,col_indexer] = value instead\n",
      "\n",
      "See the caveats in the documentation: https://pandas.pydata.org/pandas-docs/stable/user_guide/indexing.html#returning-a-view-versus-a-copy\n",
      "  df['Intermediates'] = df['Organic chemicals'].values# + df['Other intermediates'].values\n",
      "/var/folders/xm/c2mlyq6s23nb_g6_v4fylb7h0000gn/T/ipykernel_4075/1075175095.py:16: SettingWithCopyWarning: \n",
      "A value is trying to be set on a copy of a slice from a DataFrame.\n",
      "Try using .loc[row_indexer,col_indexer] = value instead\n",
      "\n",
      "See the caveats in the documentation: https://pandas.pydata.org/pandas-docs/stable/user_guide/indexing.html#returning-a-view-versus-a-copy\n",
      "  df['Intermediates uncertainty'] = df['Organic chemicals uncertainty'].values# + df['Other intermediates uncertainty'].values\n",
      "/var/folders/xm/c2mlyq6s23nb_g6_v4fylb7h0000gn/T/ipykernel_4075/1075175095.py:17: SettingWithCopyWarning: \n",
      "A value is trying to be set on a copy of a slice from a DataFrame\n",
      "\n",
      "See the caveats in the documentation: https://pandas.pydata.org/pandas-docs/stable/user_guide/indexing.html#returning-a-view-versus-a-copy\n",
      "  df.drop(columns=['Organic chemicals', 'Organic chemicals uncertainty'], inplace=True)\n",
      "/var/folders/xm/c2mlyq6s23nb_g6_v4fylb7h0000gn/T/ipykernel_4075/1075175095.py:15: SettingWithCopyWarning: \n",
      "A value is trying to be set on a copy of a slice from a DataFrame.\n",
      "Try using .loc[row_indexer,col_indexer] = value instead\n",
      "\n",
      "See the caveats in the documentation: https://pandas.pydata.org/pandas-docs/stable/user_guide/indexing.html#returning-a-view-versus-a-copy\n",
      "  df['Intermediates'] = df['Organic chemicals'].values# + df['Other intermediates'].values\n",
      "/var/folders/xm/c2mlyq6s23nb_g6_v4fylb7h0000gn/T/ipykernel_4075/1075175095.py:16: SettingWithCopyWarning: \n",
      "A value is trying to be set on a copy of a slice from a DataFrame.\n",
      "Try using .loc[row_indexer,col_indexer] = value instead\n",
      "\n",
      "See the caveats in the documentation: https://pandas.pydata.org/pandas-docs/stable/user_guide/indexing.html#returning-a-view-versus-a-copy\n",
      "  df['Intermediates uncertainty'] = df['Organic chemicals uncertainty'].values# + df['Other intermediates uncertainty'].values\n",
      "/var/folders/xm/c2mlyq6s23nb_g6_v4fylb7h0000gn/T/ipykernel_4075/1075175095.py:17: SettingWithCopyWarning: \n",
      "A value is trying to be set on a copy of a slice from a DataFrame\n",
      "\n",
      "See the caveats in the documentation: https://pandas.pydata.org/pandas-docs/stable/user_guide/indexing.html#returning-a-view-versus-a-copy\n",
      "  df.drop(columns=['Organic chemicals', 'Organic chemicals uncertainty'], inplace=True)\n",
      "/var/folders/xm/c2mlyq6s23nb_g6_v4fylb7h0000gn/T/ipykernel_4075/1075175095.py:15: SettingWithCopyWarning: \n",
      "A value is trying to be set on a copy of a slice from a DataFrame.\n",
      "Try using .loc[row_indexer,col_indexer] = value instead\n",
      "\n",
      "See the caveats in the documentation: https://pandas.pydata.org/pandas-docs/stable/user_guide/indexing.html#returning-a-view-versus-a-copy\n",
      "  df['Intermediates'] = df['Organic chemicals'].values# + df['Other intermediates'].values\n",
      "/var/folders/xm/c2mlyq6s23nb_g6_v4fylb7h0000gn/T/ipykernel_4075/1075175095.py:16: SettingWithCopyWarning: \n",
      "A value is trying to be set on a copy of a slice from a DataFrame.\n",
      "Try using .loc[row_indexer,col_indexer] = value instead\n",
      "\n",
      "See the caveats in the documentation: https://pandas.pydata.org/pandas-docs/stable/user_guide/indexing.html#returning-a-view-versus-a-copy\n",
      "  df['Intermediates uncertainty'] = df['Organic chemicals uncertainty'].values# + df['Other intermediates uncertainty'].values\n",
      "/var/folders/xm/c2mlyq6s23nb_g6_v4fylb7h0000gn/T/ipykernel_4075/1075175095.py:17: SettingWithCopyWarning: \n",
      "A value is trying to be set on a copy of a slice from a DataFrame\n",
      "\n",
      "See the caveats in the documentation: https://pandas.pydata.org/pandas-docs/stable/user_guide/indexing.html#returning-a-view-versus-a-copy\n",
      "  df.drop(columns=['Organic chemicals', 'Organic chemicals uncertainty'], inplace=True)\n",
      "/var/folders/xm/c2mlyq6s23nb_g6_v4fylb7h0000gn/T/ipykernel_4075/1075175095.py:15: SettingWithCopyWarning: \n",
      "A value is trying to be set on a copy of a slice from a DataFrame.\n",
      "Try using .loc[row_indexer,col_indexer] = value instead\n",
      "\n",
      "See the caveats in the documentation: https://pandas.pydata.org/pandas-docs/stable/user_guide/indexing.html#returning-a-view-versus-a-copy\n",
      "  df['Intermediates'] = df['Organic chemicals'].values# + df['Other intermediates'].values\n",
      "/var/folders/xm/c2mlyq6s23nb_g6_v4fylb7h0000gn/T/ipykernel_4075/1075175095.py:16: SettingWithCopyWarning: \n",
      "A value is trying to be set on a copy of a slice from a DataFrame.\n",
      "Try using .loc[row_indexer,col_indexer] = value instead\n",
      "\n",
      "See the caveats in the documentation: https://pandas.pydata.org/pandas-docs/stable/user_guide/indexing.html#returning-a-view-versus-a-copy\n",
      "  df['Intermediates uncertainty'] = df['Organic chemicals uncertainty'].values# + df['Other intermediates uncertainty'].values\n",
      "/var/folders/xm/c2mlyq6s23nb_g6_v4fylb7h0000gn/T/ipykernel_4075/1075175095.py:17: SettingWithCopyWarning: \n",
      "A value is trying to be set on a copy of a slice from a DataFrame\n",
      "\n",
      "See the caveats in the documentation: https://pandas.pydata.org/pandas-docs/stable/user_guide/indexing.html#returning-a-view-versus-a-copy\n",
      "  df.drop(columns=['Organic chemicals', 'Organic chemicals uncertainty'], inplace=True)\n",
      "/var/folders/xm/c2mlyq6s23nb_g6_v4fylb7h0000gn/T/ipykernel_4075/1075175095.py:15: SettingWithCopyWarning: \n",
      "A value is trying to be set on a copy of a slice from a DataFrame.\n",
      "Try using .loc[row_indexer,col_indexer] = value instead\n",
      "\n",
      "See the caveats in the documentation: https://pandas.pydata.org/pandas-docs/stable/user_guide/indexing.html#returning-a-view-versus-a-copy\n",
      "  df['Intermediates'] = df['Organic chemicals'].values# + df['Other intermediates'].values\n",
      "/var/folders/xm/c2mlyq6s23nb_g6_v4fylb7h0000gn/T/ipykernel_4075/1075175095.py:16: SettingWithCopyWarning: \n",
      "A value is trying to be set on a copy of a slice from a DataFrame.\n",
      "Try using .loc[row_indexer,col_indexer] = value instead\n",
      "\n",
      "See the caveats in the documentation: https://pandas.pydata.org/pandas-docs/stable/user_guide/indexing.html#returning-a-view-versus-a-copy\n",
      "  df['Intermediates uncertainty'] = df['Organic chemicals uncertainty'].values# + df['Other intermediates uncertainty'].values\n",
      "/var/folders/xm/c2mlyq6s23nb_g6_v4fylb7h0000gn/T/ipykernel_4075/1075175095.py:17: SettingWithCopyWarning: \n",
      "A value is trying to be set on a copy of a slice from a DataFrame\n",
      "\n",
      "See the caveats in the documentation: https://pandas.pydata.org/pandas-docs/stable/user_guide/indexing.html#returning-a-view-versus-a-copy\n",
      "  df.drop(columns=['Organic chemicals', 'Organic chemicals uncertainty'], inplace=True)\n",
      "/var/folders/xm/c2mlyq6s23nb_g6_v4fylb7h0000gn/T/ipykernel_4075/1075175095.py:15: SettingWithCopyWarning: \n",
      "A value is trying to be set on a copy of a slice from a DataFrame.\n",
      "Try using .loc[row_indexer,col_indexer] = value instead\n",
      "\n",
      "See the caveats in the documentation: https://pandas.pydata.org/pandas-docs/stable/user_guide/indexing.html#returning-a-view-versus-a-copy\n",
      "  df['Intermediates'] = df['Organic chemicals'].values# + df['Other intermediates'].values\n",
      "/var/folders/xm/c2mlyq6s23nb_g6_v4fylb7h0000gn/T/ipykernel_4075/1075175095.py:16: SettingWithCopyWarning: \n",
      "A value is trying to be set on a copy of a slice from a DataFrame.\n",
      "Try using .loc[row_indexer,col_indexer] = value instead\n",
      "\n",
      "See the caveats in the documentation: https://pandas.pydata.org/pandas-docs/stable/user_guide/indexing.html#returning-a-view-versus-a-copy\n",
      "  df['Intermediates uncertainty'] = df['Organic chemicals uncertainty'].values# + df['Other intermediates uncertainty'].values\n",
      "/var/folders/xm/c2mlyq6s23nb_g6_v4fylb7h0000gn/T/ipykernel_4075/1075175095.py:17: SettingWithCopyWarning: \n",
      "A value is trying to be set on a copy of a slice from a DataFrame\n",
      "\n",
      "See the caveats in the documentation: https://pandas.pydata.org/pandas-docs/stable/user_guide/indexing.html#returning-a-view-versus-a-copy\n",
      "  df.drop(columns=['Organic chemicals', 'Organic chemicals uncertainty'], inplace=True)\n",
      "/var/folders/xm/c2mlyq6s23nb_g6_v4fylb7h0000gn/T/ipykernel_4075/1075175095.py:15: SettingWithCopyWarning: \n",
      "A value is trying to be set on a copy of a slice from a DataFrame.\n",
      "Try using .loc[row_indexer,col_indexer] = value instead\n",
      "\n",
      "See the caveats in the documentation: https://pandas.pydata.org/pandas-docs/stable/user_guide/indexing.html#returning-a-view-versus-a-copy\n",
      "  df['Intermediates'] = df['Organic chemicals'].values# + df['Other intermediates'].values\n",
      "/var/folders/xm/c2mlyq6s23nb_g6_v4fylb7h0000gn/T/ipykernel_4075/1075175095.py:16: SettingWithCopyWarning: \n",
      "A value is trying to be set on a copy of a slice from a DataFrame.\n",
      "Try using .loc[row_indexer,col_indexer] = value instead\n",
      "\n",
      "See the caveats in the documentation: https://pandas.pydata.org/pandas-docs/stable/user_guide/indexing.html#returning-a-view-versus-a-copy\n",
      "  df['Intermediates uncertainty'] = df['Organic chemicals uncertainty'].values# + df['Other intermediates uncertainty'].values\n",
      "/var/folders/xm/c2mlyq6s23nb_g6_v4fylb7h0000gn/T/ipykernel_4075/1075175095.py:17: SettingWithCopyWarning: \n",
      "A value is trying to be set on a copy of a slice from a DataFrame\n",
      "\n",
      "See the caveats in the documentation: https://pandas.pydata.org/pandas-docs/stable/user_guide/indexing.html#returning-a-view-versus-a-copy\n",
      "  df.drop(columns=['Organic chemicals', 'Organic chemicals uncertainty'], inplace=True)\n",
      "/var/folders/xm/c2mlyq6s23nb_g6_v4fylb7h0000gn/T/ipykernel_4075/1075175095.py:15: SettingWithCopyWarning: \n",
      "A value is trying to be set on a copy of a slice from a DataFrame.\n",
      "Try using .loc[row_indexer,col_indexer] = value instead\n",
      "\n",
      "See the caveats in the documentation: https://pandas.pydata.org/pandas-docs/stable/user_guide/indexing.html#returning-a-view-versus-a-copy\n",
      "  df['Intermediates'] = df['Organic chemicals'].values# + df['Other intermediates'].values\n",
      "/var/folders/xm/c2mlyq6s23nb_g6_v4fylb7h0000gn/T/ipykernel_4075/1075175095.py:16: SettingWithCopyWarning: \n",
      "A value is trying to be set on a copy of a slice from a DataFrame.\n",
      "Try using .loc[row_indexer,col_indexer] = value instead\n",
      "\n",
      "See the caveats in the documentation: https://pandas.pydata.org/pandas-docs/stable/user_guide/indexing.html#returning-a-view-versus-a-copy\n",
      "  df['Intermediates uncertainty'] = df['Organic chemicals uncertainty'].values# + df['Other intermediates uncertainty'].values\n",
      "/var/folders/xm/c2mlyq6s23nb_g6_v4fylb7h0000gn/T/ipykernel_4075/1075175095.py:17: SettingWithCopyWarning: \n",
      "A value is trying to be set on a copy of a slice from a DataFrame\n",
      "\n",
      "See the caveats in the documentation: https://pandas.pydata.org/pandas-docs/stable/user_guide/indexing.html#returning-a-view-versus-a-copy\n",
      "  df.drop(columns=['Organic chemicals', 'Organic chemicals uncertainty'], inplace=True)\n"
     ]
    }
   ],
   "source": [
    "gases = ['CO2e_100a', 'CO2e_20a', 'Carbon dioxide', 'Carbon monoxide', 'Chloroform', 'Dinitrogen monoxide', 'Ethane', 'Methane', 'Nitric oxide', 'Nitrogen fluoride', 'Perfluoropentane', 'Sulfur hexafluoride', 'Other']\n",
    "names = ['CO2e_100a', 'CO2e_20a', 'CO2', 'CO', 'CHCl3', 'NOx', 'C2H6', 'CH4', 'N2O', 'NF3', 'C5F12', 'SF6', 'Other']\n",
    "\n",
    "for allocation in ['energy']:\n",
    "    for gas, name in zip(gases, names):\n",
    "\n",
    "        df = conv_factors[['Product', 'Process']+[i for i in conv_factors.columns if (allocation in i) and (gas in i)]]\n",
    "        \n",
    "        initial = [', '+allocation+' allocation', ' factor', ' sigma', ' '+gas, 'ihs_cradle-to-out-gate']\n",
    "        replacement = ['', '', ' uncertainty','','Total']\n",
    "        \n",
    "        for i in range(len(initial)):\n",
    "            df.columns = df.columns.str.replace(initial[i], replacement[i])\n",
    "        \n",
    "        df['Intermediates'] = df['Organic chemicals'].values# + df['Other intermediates'].values\n",
    "        df['Intermediates uncertainty'] = df['Organic chemicals uncertainty'].values# + df['Other intermediates uncertainty'].values\n",
    "        df.drop(columns=['Organic chemicals', 'Organic chemicals uncertainty'], inplace=True)\n",
    "        # df['Intermediates'] = df['Organic chemicals'].values + df['Other intermediates'].values\n",
    "        # df['Intermediates uncertainty'] = df['Organic chemicals uncertainty'].values + df['Other intermediates uncertainty'].values\n",
    "        # df.drop(columns=['Organic chemicals', 'Other intermediates', 'Organic chemicals uncertainty', 'Other intermediates uncertainty'], inplace=True)\n",
    "        \n",
    "        df.to_csv('/Users/lukecullen/Library/CloudStorage/OneDrive-UniversityofCambridge/PhD/C-THRU/zenodo_data/processEFs_'+name+'_'+allocation+'Allocation.csv', index=False)"
   ],
   "metadata": {
    "collapsed": false,
    "ExecuteTime": {
     "end_time": "2024-01-19T10:16:57.204077Z",
     "start_time": "2024-01-19T10:16:57.065099Z"
    }
   },
   "id": "50bed3df35c0bca7",
   "execution_count": 66
  },
  {
   "cell_type": "code",
   "outputs": [],
   "source": [
    "## Per country\n",
    "country = pd.read_csv('/Users/lukecullen/Library/CloudStorage/OneDrive-UniversityofCambridge/PhD/C-THRU/zenodo_data/requested_outputs/ef_breakdown_by_type_CO2e_20a.csv').fillna(0)\n",
    "country.columns = country.columns.str.replace('_sigma', ' uncertainty')"
   ],
   "metadata": {
    "collapsed": false,
    "ExecuteTime": {
     "end_time": "2024-01-19T10:50:13.225392Z",
     "start_time": "2024-01-19T10:50:13.093786Z"
    }
   },
   "id": "80a1339f4beed1d3",
   "execution_count": 114
  },
  {
   "cell_type": "code",
   "outputs": [],
   "source": [
    "# Add together Organic chemicals and Other intermediates rows for each ['Product', 'COUNTRY/TERRITORY'] pairing into a row called Intermediates\n",
    "ints = country[[i in ['Organic chemicals', 'Other intermediates'] for i in country['Type']]].groupby(['PRODUCT', 'COUNTRY/TERRITORY']).sum().reset_index()\n",
    "ints['Type'] = 'Intermediates'\n",
    "country_new = pd.concat((country[[i not in ['Organic chemicals', 'Other intermediates'] for i in country['Type']]], ints))\n",
    "totals = country_new.groupby(['PRODUCT', 'COUNTRY/TERRITORY']).sum().reset_index()\n",
    "totals['Type'] = 'Total'\n",
    "country_new = pd.concat((country_new, totals))\n",
    "country_new.sort_values(by=['PRODUCT', 'COUNTRY/TERRITORY', 'Type'], inplace=True)"
   ],
   "metadata": {
    "collapsed": false,
    "ExecuteTime": {
     "end_time": "2024-01-19T10:50:13.706163Z",
     "start_time": "2024-01-19T10:50:13.674883Z"
    }
   },
   "id": "1e62c9b62ce4901c",
   "execution_count": 115
  },
  {
   "cell_type": "code",
   "outputs": [],
   "source": [
    "country_new.to_csv('/Users/lukecullen/Library/CloudStorage/OneDrive-UniversityofCambridge/PhD/C-THRU/zenodo_data/countryEF_CO2e_20a.csv', index=False)"
   ],
   "metadata": {
    "collapsed": false,
    "ExecuteTime": {
     "end_time": "2024-01-19T10:50:15.336586Z",
     "start_time": "2024-01-19T10:50:14.212522Z"
    }
   },
   "id": "36c7c04d2bac03a9",
   "execution_count": 116
  },
  {
   "cell_type": "code",
   "outputs": [
    {
     "data": {
      "text/plain": "                PRODUCT COUNTRY/TERRITORY                Type          1978  \\\n0        1,4-BUTANEDIOL           BELGIUM      Direct Process  0.000000e+00   \n1        1,4-BUTANEDIOL           BELGIUM    Direct Utilities  0.000000e+00   \n2        1,4-BUTANEDIOL           BELGIUM           Feedstock  0.000000e+00   \n3        1,4-BUTANEDIOL           BELGIUM  Indirect Utilities  0.000000e+00   \n0        1,4-BUTANEDIOL           BELGIUM       Intermediates  0.000000e+00   \n...                 ...               ...                 ...           ...   \n24747  VINYL ACETATE M.     UNITED STATES           Feedstock  3.996712e-13   \n24748  VINYL ACETATE M.     UNITED STATES  Indirect Utilities  2.996793e-11   \n3535   VINYL ACETATE M.     UNITED STATES       Intermediates  8.486444e-11   \n24751  VINYL ACETATE M.     UNITED STATES   Primary chemicals  6.556218e-14   \n3535   VINYL ACETATE M.     UNITED STATES               Total  1.152976e-10   \n\n               1979          1980          1981          1982          1983  \\\n0      0.000000e+00  0.000000e+00  0.000000e+00  0.000000e+00  0.000000e+00   \n1      0.000000e+00  0.000000e+00  0.000000e+00  0.000000e+00  0.000000e+00   \n2      0.000000e+00  0.000000e+00  0.000000e+00  0.000000e+00  0.000000e+00   \n3      0.000000e+00  0.000000e+00  0.000000e+00  0.000000e+00  0.000000e+00   \n0      0.000000e+00  0.000000e+00  0.000000e+00  0.000000e+00  0.000000e+00   \n...             ...           ...           ...           ...           ...   \n24747  3.021904e-13  2.890955e-13  2.890955e-13  1.487627e-13  0.000000e+00   \n24748  2.993765e-11  2.993358e-11  2.993358e-11  2.988999e-11  2.984378e-11   \n3535   8.492305e-11  8.493092e-11  8.493092e-11  8.501530e-11  8.510475e-11   \n24751  6.692139e-14  6.710398e-14  6.710398e-14  6.906070e-14  7.113496e-14   \n3535   1.152298e-10  1.152207e-10  1.152207e-10  1.151231e-10  1.150197e-10   \n\n               1984  ...  2041 uncertainty  2042 uncertainty  \\\n0      0.000000e+00  ...      0.000000e+00      0.000000e+00   \n1      0.000000e+00  ...      0.000000e+00      0.000000e+00   \n2      0.000000e+00  ...      0.000000e+00      0.000000e+00   \n3      0.000000e+00  ...      0.000000e+00      0.000000e+00   \n0      0.000000e+00  ...      0.000000e+00      0.000000e+00   \n...             ...  ...               ...               ...   \n24747  0.000000e+00  ...      0.000000e+00      0.000000e+00   \n24748  2.984378e-11  ...      4.476567e-13      4.476567e-13   \n3535   8.510475e-11  ...      1.276571e-12      1.276571e-12   \n24751  7.113496e-14  ...      1.067024e-15      1.067024e-15   \n3535   1.150197e-10  ...      1.725295e-12      1.725295e-12   \n\n       2043 uncertainty  2044 uncertainty  2045 uncertainty  2046 uncertainty  \\\n0          0.000000e+00      0.000000e+00      0.000000e+00      0.000000e+00   \n1          0.000000e+00      0.000000e+00      0.000000e+00      0.000000e+00   \n2          0.000000e+00      0.000000e+00      0.000000e+00      0.000000e+00   \n3          0.000000e+00      0.000000e+00      0.000000e+00      0.000000e+00   \n0          0.000000e+00      0.000000e+00      0.000000e+00      0.000000e+00   \n...                 ...               ...               ...               ...   \n24747      0.000000e+00      0.000000e+00      0.000000e+00      0.000000e+00   \n24748      4.476567e-13      4.476567e-13      4.476567e-13      4.476567e-13   \n3535       1.276571e-12      1.276571e-12      1.276571e-12      1.276571e-12   \n24751      1.067024e-15      1.067024e-15      1.067024e-15      1.067024e-15   \n3535       1.725295e-12      1.725295e-12      1.725295e-12      1.725295e-12   \n\n       2047 uncertainty  2048 uncertainty  2049 uncertainty  2050 uncertainty  \n0          0.000000e+00      0.000000e+00      0.000000e+00      0.000000e+00  \n1          0.000000e+00      0.000000e+00      0.000000e+00      0.000000e+00  \n2          0.000000e+00      0.000000e+00      0.000000e+00      0.000000e+00  \n3          0.000000e+00      0.000000e+00      0.000000e+00      0.000000e+00  \n0          0.000000e+00      0.000000e+00      0.000000e+00      0.000000e+00  \n...                 ...               ...               ...               ...  \n24747      0.000000e+00      0.000000e+00      0.000000e+00      0.000000e+00  \n24748      4.476567e-13      4.476567e-13      4.476567e-13      4.476567e-13  \n3535       1.276571e-12      1.276571e-12      1.276571e-12      1.276571e-12  \n24751      1.067024e-15      1.067024e-15      1.067024e-15      1.067024e-15  \n3535       1.725295e-12      1.725295e-12      1.725295e-12      1.725295e-12  \n\n[24752 rows x 149 columns]",
      "text/html": "<div>\n<style scoped>\n    .dataframe tbody tr th:only-of-type {\n        vertical-align: middle;\n    }\n\n    .dataframe tbody tr th {\n        vertical-align: top;\n    }\n\n    .dataframe thead th {\n        text-align: right;\n    }\n</style>\n<table border=\"1\" class=\"dataframe\">\n  <thead>\n    <tr style=\"text-align: right;\">\n      <th></th>\n      <th>PRODUCT</th>\n      <th>COUNTRY/TERRITORY</th>\n      <th>Type</th>\n      <th>1978</th>\n      <th>1979</th>\n      <th>1980</th>\n      <th>1981</th>\n      <th>1982</th>\n      <th>1983</th>\n      <th>1984</th>\n      <th>...</th>\n      <th>2041 uncertainty</th>\n      <th>2042 uncertainty</th>\n      <th>2043 uncertainty</th>\n      <th>2044 uncertainty</th>\n      <th>2045 uncertainty</th>\n      <th>2046 uncertainty</th>\n      <th>2047 uncertainty</th>\n      <th>2048 uncertainty</th>\n      <th>2049 uncertainty</th>\n      <th>2050 uncertainty</th>\n    </tr>\n  </thead>\n  <tbody>\n    <tr>\n      <th>0</th>\n      <td>1,4-BUTANEDIOL</td>\n      <td>BELGIUM</td>\n      <td>Direct Process</td>\n      <td>0.000000e+00</td>\n      <td>0.000000e+00</td>\n      <td>0.000000e+00</td>\n      <td>0.000000e+00</td>\n      <td>0.000000e+00</td>\n      <td>0.000000e+00</td>\n      <td>0.000000e+00</td>\n      <td>...</td>\n      <td>0.000000e+00</td>\n      <td>0.000000e+00</td>\n      <td>0.000000e+00</td>\n      <td>0.000000e+00</td>\n      <td>0.000000e+00</td>\n      <td>0.000000e+00</td>\n      <td>0.000000e+00</td>\n      <td>0.000000e+00</td>\n      <td>0.000000e+00</td>\n      <td>0.000000e+00</td>\n    </tr>\n    <tr>\n      <th>1</th>\n      <td>1,4-BUTANEDIOL</td>\n      <td>BELGIUM</td>\n      <td>Direct Utilities</td>\n      <td>0.000000e+00</td>\n      <td>0.000000e+00</td>\n      <td>0.000000e+00</td>\n      <td>0.000000e+00</td>\n      <td>0.000000e+00</td>\n      <td>0.000000e+00</td>\n      <td>0.000000e+00</td>\n      <td>...</td>\n      <td>0.000000e+00</td>\n      <td>0.000000e+00</td>\n      <td>0.000000e+00</td>\n      <td>0.000000e+00</td>\n      <td>0.000000e+00</td>\n      <td>0.000000e+00</td>\n      <td>0.000000e+00</td>\n      <td>0.000000e+00</td>\n      <td>0.000000e+00</td>\n      <td>0.000000e+00</td>\n    </tr>\n    <tr>\n      <th>2</th>\n      <td>1,4-BUTANEDIOL</td>\n      <td>BELGIUM</td>\n      <td>Feedstock</td>\n      <td>0.000000e+00</td>\n      <td>0.000000e+00</td>\n      <td>0.000000e+00</td>\n      <td>0.000000e+00</td>\n      <td>0.000000e+00</td>\n      <td>0.000000e+00</td>\n      <td>0.000000e+00</td>\n      <td>...</td>\n      <td>0.000000e+00</td>\n      <td>0.000000e+00</td>\n      <td>0.000000e+00</td>\n      <td>0.000000e+00</td>\n      <td>0.000000e+00</td>\n      <td>0.000000e+00</td>\n      <td>0.000000e+00</td>\n      <td>0.000000e+00</td>\n      <td>0.000000e+00</td>\n      <td>0.000000e+00</td>\n    </tr>\n    <tr>\n      <th>3</th>\n      <td>1,4-BUTANEDIOL</td>\n      <td>BELGIUM</td>\n      <td>Indirect Utilities</td>\n      <td>0.000000e+00</td>\n      <td>0.000000e+00</td>\n      <td>0.000000e+00</td>\n      <td>0.000000e+00</td>\n      <td>0.000000e+00</td>\n      <td>0.000000e+00</td>\n      <td>0.000000e+00</td>\n      <td>...</td>\n      <td>0.000000e+00</td>\n      <td>0.000000e+00</td>\n      <td>0.000000e+00</td>\n      <td>0.000000e+00</td>\n      <td>0.000000e+00</td>\n      <td>0.000000e+00</td>\n      <td>0.000000e+00</td>\n      <td>0.000000e+00</td>\n      <td>0.000000e+00</td>\n      <td>0.000000e+00</td>\n    </tr>\n    <tr>\n      <th>0</th>\n      <td>1,4-BUTANEDIOL</td>\n      <td>BELGIUM</td>\n      <td>Intermediates</td>\n      <td>0.000000e+00</td>\n      <td>0.000000e+00</td>\n      <td>0.000000e+00</td>\n      <td>0.000000e+00</td>\n      <td>0.000000e+00</td>\n      <td>0.000000e+00</td>\n      <td>0.000000e+00</td>\n      <td>...</td>\n      <td>0.000000e+00</td>\n      <td>0.000000e+00</td>\n      <td>0.000000e+00</td>\n      <td>0.000000e+00</td>\n      <td>0.000000e+00</td>\n      <td>0.000000e+00</td>\n      <td>0.000000e+00</td>\n      <td>0.000000e+00</td>\n      <td>0.000000e+00</td>\n      <td>0.000000e+00</td>\n    </tr>\n    <tr>\n      <th>...</th>\n      <td>...</td>\n      <td>...</td>\n      <td>...</td>\n      <td>...</td>\n      <td>...</td>\n      <td>...</td>\n      <td>...</td>\n      <td>...</td>\n      <td>...</td>\n      <td>...</td>\n      <td>...</td>\n      <td>...</td>\n      <td>...</td>\n      <td>...</td>\n      <td>...</td>\n      <td>...</td>\n      <td>...</td>\n      <td>...</td>\n      <td>...</td>\n      <td>...</td>\n      <td>...</td>\n    </tr>\n    <tr>\n      <th>24747</th>\n      <td>VINYL ACETATE M.</td>\n      <td>UNITED STATES</td>\n      <td>Feedstock</td>\n      <td>3.996712e-13</td>\n      <td>3.021904e-13</td>\n      <td>2.890955e-13</td>\n      <td>2.890955e-13</td>\n      <td>1.487627e-13</td>\n      <td>0.000000e+00</td>\n      <td>0.000000e+00</td>\n      <td>...</td>\n      <td>0.000000e+00</td>\n      <td>0.000000e+00</td>\n      <td>0.000000e+00</td>\n      <td>0.000000e+00</td>\n      <td>0.000000e+00</td>\n      <td>0.000000e+00</td>\n      <td>0.000000e+00</td>\n      <td>0.000000e+00</td>\n      <td>0.000000e+00</td>\n      <td>0.000000e+00</td>\n    </tr>\n    <tr>\n      <th>24748</th>\n      <td>VINYL ACETATE M.</td>\n      <td>UNITED STATES</td>\n      <td>Indirect Utilities</td>\n      <td>2.996793e-11</td>\n      <td>2.993765e-11</td>\n      <td>2.993358e-11</td>\n      <td>2.993358e-11</td>\n      <td>2.988999e-11</td>\n      <td>2.984378e-11</td>\n      <td>2.984378e-11</td>\n      <td>...</td>\n      <td>4.476567e-13</td>\n      <td>4.476567e-13</td>\n      <td>4.476567e-13</td>\n      <td>4.476567e-13</td>\n      <td>4.476567e-13</td>\n      <td>4.476567e-13</td>\n      <td>4.476567e-13</td>\n      <td>4.476567e-13</td>\n      <td>4.476567e-13</td>\n      <td>4.476567e-13</td>\n    </tr>\n    <tr>\n      <th>3535</th>\n      <td>VINYL ACETATE M.</td>\n      <td>UNITED STATES</td>\n      <td>Intermediates</td>\n      <td>8.486444e-11</td>\n      <td>8.492305e-11</td>\n      <td>8.493092e-11</td>\n      <td>8.493092e-11</td>\n      <td>8.501530e-11</td>\n      <td>8.510475e-11</td>\n      <td>8.510475e-11</td>\n      <td>...</td>\n      <td>1.276571e-12</td>\n      <td>1.276571e-12</td>\n      <td>1.276571e-12</td>\n      <td>1.276571e-12</td>\n      <td>1.276571e-12</td>\n      <td>1.276571e-12</td>\n      <td>1.276571e-12</td>\n      <td>1.276571e-12</td>\n      <td>1.276571e-12</td>\n      <td>1.276571e-12</td>\n    </tr>\n    <tr>\n      <th>24751</th>\n      <td>VINYL ACETATE M.</td>\n      <td>UNITED STATES</td>\n      <td>Primary chemicals</td>\n      <td>6.556218e-14</td>\n      <td>6.692139e-14</td>\n      <td>6.710398e-14</td>\n      <td>6.710398e-14</td>\n      <td>6.906070e-14</td>\n      <td>7.113496e-14</td>\n      <td>7.113496e-14</td>\n      <td>...</td>\n      <td>1.067024e-15</td>\n      <td>1.067024e-15</td>\n      <td>1.067024e-15</td>\n      <td>1.067024e-15</td>\n      <td>1.067024e-15</td>\n      <td>1.067024e-15</td>\n      <td>1.067024e-15</td>\n      <td>1.067024e-15</td>\n      <td>1.067024e-15</td>\n      <td>1.067024e-15</td>\n    </tr>\n    <tr>\n      <th>3535</th>\n      <td>VINYL ACETATE M.</td>\n      <td>UNITED STATES</td>\n      <td>Total</td>\n      <td>1.152976e-10</td>\n      <td>1.152298e-10</td>\n      <td>1.152207e-10</td>\n      <td>1.152207e-10</td>\n      <td>1.151231e-10</td>\n      <td>1.150197e-10</td>\n      <td>1.150197e-10</td>\n      <td>...</td>\n      <td>1.725295e-12</td>\n      <td>1.725295e-12</td>\n      <td>1.725295e-12</td>\n      <td>1.725295e-12</td>\n      <td>1.725295e-12</td>\n      <td>1.725295e-12</td>\n      <td>1.725295e-12</td>\n      <td>1.725295e-12</td>\n      <td>1.725295e-12</td>\n      <td>1.725295e-12</td>\n    </tr>\n  </tbody>\n</table>\n<p>24752 rows × 149 columns</p>\n</div>"
     },
     "execution_count": 109,
     "metadata": {},
     "output_type": "execute_result"
    }
   ],
   "source": [
    "country_new"
   ],
   "metadata": {
    "collapsed": false,
    "ExecuteTime": {
     "end_time": "2024-01-19T10:49:20.257335Z",
     "start_time": "2024-01-19T10:49:20.239275Z"
    }
   },
   "id": "d1b9446f734edc60",
   "execution_count": 109
  },
  {
   "cell_type": "code",
   "outputs": [],
   "source": [],
   "metadata": {
    "collapsed": false
   },
   "id": "4ba9dfdef5803afc"
  }
 ],
 "metadata": {
  "kernelspec": {
   "display_name": "Python 3",
   "language": "python",
   "name": "python3"
  },
  "language_info": {
   "codemirror_mode": {
    "name": "ipython",
    "version": 2
   },
   "file_extension": ".py",
   "mimetype": "text/x-python",
   "name": "python",
   "nbconvert_exporter": "python",
   "pygments_lexer": "ipython2",
   "version": "2.7.6"
  }
 },
 "nbformat": 4,
 "nbformat_minor": 5
}
