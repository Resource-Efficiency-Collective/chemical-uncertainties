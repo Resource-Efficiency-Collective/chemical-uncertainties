{
 "cells": [
  {
   "cell_type": "markdown",
   "source": [
    "# Group conversion factors for all outputs into relevant gases"
   ],
   "metadata": {
    "collapsed": false,
    "pycharm": {
     "name": "#%% md\n"
    }
   }
  },
  {
   "cell_type": "code",
   "execution_count": 4,
   "outputs": [],
   "source": [
    "# Import packages\n",
    "\n",
    "import numpy as np\n",
    "import pandas as pd"
   ],
   "metadata": {
    "collapsed": false,
    "pycharm": {
     "name": "#%%\n"
    }
   }
  },
  {
   "cell_type": "code",
   "execution_count": 5,
   "outputs": [],
   "source": [
    "# Define paths\n",
    "input_path = '../data/'\n",
    "ecoInvent_files = [input_path+'extracted/conversionFactors_from_ecoinvent_IPCC2013_w_uncertainties.csv']\n",
    "carbonMinds_files = [input_path+'extracted/conversionFactors_from_CarbonMinds_IPCC2013_w_uncertainties.csv']\n",
    "\n",
    "output_path = '../data/processed/'"
   ],
   "metadata": {
    "collapsed": false,
    "pycharm": {
     "name": "#%%\n"
    }
   }
  },
  {
   "cell_type": "code",
   "execution_count": 16,
   "outputs": [
    {
     "data": {
      "text/plain": "                                              Source  \\\n0                    1,4-butanediol; consumption mix   \n1                     1,4-butanediol; production mix   \n2  1,4-butanediol; technology mix; Reppe process ...   \n3                    2-ethylhexanol; consumption mix   \n4                     2-ethylhexanol; production mix   \n\n                                      generalComment location   CO2e_20a  \\\n0  The dataset represents a cradle-to-gate invent...      GLO  11.122994   \n1  The dataset represents a cradle-to-gate invent...      GLO  11.292846   \n2  The dataset represents a cradle-to-gate invent...      GLO   8.655912   \n3  The dataset represents a cradle-to-gate invent...      GLO   3.412158   \n4  The dataset represents a cradle-to-gate invent...      GLO   3.579166   \n\n   CO2e_100a  Carbon dioxide  Carbon monoxide    Chloroform  \\\n0   8.864773        7.406913         0.150288  2.105922e-08   \n1   8.978761        7.482141         0.156374  2.145322e-08   \n2   7.323702        6.567323         0.002942  1.638106e-08   \n3   2.920078        2.637113         0.001266  4.789950e-09   \n4   3.035431        2.723344         0.001262  5.051024e-09   \n\n   Dinitrogen monoxide        Ethane  ...  Carbon monoxide_sigma  \\\n0             0.000131  1.417193e-07  ...               0.015029   \n1             0.000133  1.404861e-07  ...               0.015637   \n2             0.000088  2.222268e-07  ...               0.000294   \n3             0.000047  3.670963e-08  ...               0.000127   \n4             0.000051  3.170732e-08  ...               0.000126   \n\n   Chloroform_sigma  Dinitrogen monoxide_sigma  Ethane_sigma  Methane_sigma  \\\n0      2.105922e-09                   0.000013  1.417193e-08       0.002702   \n1      2.145322e-09                   0.000013  1.404861e-08       0.002747   \n2      1.638106e-09                   0.000009  2.222268e-08       0.002401   \n3      4.789950e-10                   0.000005  3.670963e-09       0.000885   \n4      5.051024e-10                   0.000005  3.170732e-09       0.000979   \n\n   Nitric oxide_sigma  Nitrogen fluoride_sigma  Perfluoropentane_sigma  \\\n0                 0.0             2.516730e-14                     0.0   \n1                 0.0             2.560910e-14                     0.0   \n2                 0.0             2.148632e-14                     0.0   \n3                 0.0             5.387338e-15                     0.0   \n4                 0.0             4.739055e-15                     0.0   \n\n   Sulfur hexafluoride_sigma  Other_sigma  \n0               4.135234e-08          0.0  \n1               4.202612e-08          0.0  \n2               3.307359e-08          0.0  \n3               9.261296e-09          0.0  \n4               9.493586e-09          0.0  \n\n[5 rows x 29 columns]",
      "text/html": "<div>\n<style scoped>\n    .dataframe tbody tr th:only-of-type {\n        vertical-align: middle;\n    }\n\n    .dataframe tbody tr th {\n        vertical-align: top;\n    }\n\n    .dataframe thead th {\n        text-align: right;\n    }\n</style>\n<table border=\"1\" class=\"dataframe\">\n  <thead>\n    <tr style=\"text-align: right;\">\n      <th></th>\n      <th>Source</th>\n      <th>generalComment</th>\n      <th>location</th>\n      <th>CO2e_20a</th>\n      <th>CO2e_100a</th>\n      <th>Carbon dioxide</th>\n      <th>Carbon monoxide</th>\n      <th>Chloroform</th>\n      <th>Dinitrogen monoxide</th>\n      <th>Ethane</th>\n      <th>...</th>\n      <th>Carbon monoxide_sigma</th>\n      <th>Chloroform_sigma</th>\n      <th>Dinitrogen monoxide_sigma</th>\n      <th>Ethane_sigma</th>\n      <th>Methane_sigma</th>\n      <th>Nitric oxide_sigma</th>\n      <th>Nitrogen fluoride_sigma</th>\n      <th>Perfluoropentane_sigma</th>\n      <th>Sulfur hexafluoride_sigma</th>\n      <th>Other_sigma</th>\n    </tr>\n  </thead>\n  <tbody>\n    <tr>\n      <th>0</th>\n      <td>1,4-butanediol; consumption mix</td>\n      <td>The dataset represents a cradle-to-gate invent...</td>\n      <td>GLO</td>\n      <td>11.122994</td>\n      <td>8.864773</td>\n      <td>7.406913</td>\n      <td>0.150288</td>\n      <td>2.105922e-08</td>\n      <td>0.000131</td>\n      <td>1.417193e-07</td>\n      <td>...</td>\n      <td>0.015029</td>\n      <td>2.105922e-09</td>\n      <td>0.000013</td>\n      <td>1.417193e-08</td>\n      <td>0.002702</td>\n      <td>0.0</td>\n      <td>2.516730e-14</td>\n      <td>0.0</td>\n      <td>4.135234e-08</td>\n      <td>0.0</td>\n    </tr>\n    <tr>\n      <th>1</th>\n      <td>1,4-butanediol; production mix</td>\n      <td>The dataset represents a cradle-to-gate invent...</td>\n      <td>GLO</td>\n      <td>11.292846</td>\n      <td>8.978761</td>\n      <td>7.482141</td>\n      <td>0.156374</td>\n      <td>2.145322e-08</td>\n      <td>0.000133</td>\n      <td>1.404861e-07</td>\n      <td>...</td>\n      <td>0.015637</td>\n      <td>2.145322e-09</td>\n      <td>0.000013</td>\n      <td>1.404861e-08</td>\n      <td>0.002747</td>\n      <td>0.0</td>\n      <td>2.560910e-14</td>\n      <td>0.0</td>\n      <td>4.202612e-08</td>\n      <td>0.0</td>\n    </tr>\n    <tr>\n      <th>2</th>\n      <td>1,4-butanediol; technology mix; Reppe process ...</td>\n      <td>The dataset represents a cradle-to-gate invent...</td>\n      <td>GLO</td>\n      <td>8.655912</td>\n      <td>7.323702</td>\n      <td>6.567323</td>\n      <td>0.002942</td>\n      <td>1.638106e-08</td>\n      <td>0.000088</td>\n      <td>2.222268e-07</td>\n      <td>...</td>\n      <td>0.000294</td>\n      <td>1.638106e-09</td>\n      <td>0.000009</td>\n      <td>2.222268e-08</td>\n      <td>0.002401</td>\n      <td>0.0</td>\n      <td>2.148632e-14</td>\n      <td>0.0</td>\n      <td>3.307359e-08</td>\n      <td>0.0</td>\n    </tr>\n    <tr>\n      <th>3</th>\n      <td>2-ethylhexanol; consumption mix</td>\n      <td>The dataset represents a cradle-to-gate invent...</td>\n      <td>GLO</td>\n      <td>3.412158</td>\n      <td>2.920078</td>\n      <td>2.637113</td>\n      <td>0.001266</td>\n      <td>4.789950e-09</td>\n      <td>0.000047</td>\n      <td>3.670963e-08</td>\n      <td>...</td>\n      <td>0.000127</td>\n      <td>4.789950e-10</td>\n      <td>0.000005</td>\n      <td>3.670963e-09</td>\n      <td>0.000885</td>\n      <td>0.0</td>\n      <td>5.387338e-15</td>\n      <td>0.0</td>\n      <td>9.261296e-09</td>\n      <td>0.0</td>\n    </tr>\n    <tr>\n      <th>4</th>\n      <td>2-ethylhexanol; production mix</td>\n      <td>The dataset represents a cradle-to-gate invent...</td>\n      <td>GLO</td>\n      <td>3.579166</td>\n      <td>3.035431</td>\n      <td>2.723344</td>\n      <td>0.001262</td>\n      <td>5.051024e-09</td>\n      <td>0.000051</td>\n      <td>3.170732e-08</td>\n      <td>...</td>\n      <td>0.000126</td>\n      <td>5.051024e-10</td>\n      <td>0.000005</td>\n      <td>3.170732e-09</td>\n      <td>0.000979</td>\n      <td>0.0</td>\n      <td>4.739055e-15</td>\n      <td>0.0</td>\n      <td>9.493586e-09</td>\n      <td>0.0</td>\n    </tr>\n  </tbody>\n</table>\n<p>5 rows × 29 columns</p>\n</div>"
     },
     "execution_count": 16,
     "metadata": {},
     "output_type": "execute_result"
    }
   ],
   "source": [
    "# EcoInvent + CarbonMinds -> Emissions\n",
    "def import_emissions(files, source_name, region_names=False):\n",
    "    emissions = pd.DataFrame()\n",
    "    for file in files:\n",
    "        emissions = pd.concat([emissions, pd.read_csv(file)])\n",
    "\n",
    "    emissions = emissions.drop(columns=['Unnamed: 0']).rename(columns={'name': 'Source', 'CO2e': 'Cradle-to-gate'})\n",
    "    emissions['Provenance'] = source_name\n",
    "\n",
    "    if region_names is not False:\n",
    "        # Get relevant values for region\n",
    "        located = pd.DataFrame()\n",
    "        for code in region_names:\n",
    "            located = pd.concat([located, emissions[emissions['location']==code]])\n",
    "        return located.groupby(['Source']).first().reset_index()\n",
    "\n",
    "    else: return emissions\n",
    "\n",
    "regions = ['GLO', 'GB', 'RER', 'RoW']\n",
    "ei_emissions = import_emissions(ecoInvent_files, 'EcoInvent 3.8', regions)\n",
    "cm_emissions = import_emissions(carbonMinds_files, 'Carbon Minds', regions)\n",
    "\n",
    "# Groupings\n",
    "emission_types = ['CO2e_20a', 'CO2e_100a', 'Carbon dioxide', 'Carbon monoxide', 'Chloroform', 'Dinitrogen monoxide', 'Ethane', 'Methane', 'Nitric oxide', 'Nitrogen fluoride', 'Perfluoropentane', 'Sulfur hexafluoride', 'Other']\n",
    "emission_groups = [['CO2e_20a'], ['CO2e_100a'], ['Carbon dioxide, fossil', 'Carbon dioxide, from soil or biomass stock', 'Carbon dioxide, land transformation', 'Carbon dioxide, to soil or biomass stock'], ['Carbon monoxide, biogenic', 'Carbon monoxide, fossil', 'Carbon monoxide, from soil or biomass stock', 'Carbon monoxide, non-fossil'], ['Chloroform'], ['Dinitrogen monoxide'], ['Ethane, 1,1,1,2-tetrafluoro-, HFC-134a', 'Ethane, 1,1,1-trichloro-, HCFC-140', 'Ethane, 1,1,1-trifluoro-, HFC-143a', 'Ethane, 1,1,2-trichloro-1,2,2-trifluoro-, CFC-113', 'Ethane, 1,1-dichloro-1-fluoro-, HCFC-141b', 'Ethane, 1,1-difluoro-, HFC-152a', 'Ethane, 1,2-dichloro-', 'Ethane, 1,2-dichloro-1,1,2,2-tetrafluoro-, CFC-114', 'Ethane, 1-chloro-1,1-difluoro-, HCFC-142b', 'Ethane, 2,2-dichloro-1,1,1-trifluoro-, HCFC-123',  'Ethane, 2-chloro-1,1,1,2-tetrafluoro-, HCFC-124', 'Ethane, chloropentafluoro-, CFC-115', 'Ethane, hexafluoro-, HFC-116', 'Ethane, pentafluoro-, HFC-125'], ['Methane', 'Methane, biogenic', 'Methane, bromo-, Halon 1001', 'Methane, bromochlorodifluoro-, Halon 1211', 'Methane, bromotrifluoro-, Halon 1301','Methane, chlorodifluoro-, HCFC-22', 'Methane, chlorotrifluoro-, CFC-13', 'Methane, dichloro-, HCC-30', 'Methane, dichlorodifluoro-, CFC-12', 'Methane, dichlorofluoro-, HCFC-21', 'Methane, difluoro-, HFC-32', 'Methane, fossil', 'Methane, from soil or biomass stock', 'Methane, monochloro-, R-40', 'Methane, non-fossil', 'Methane, tetrachloro-, CFC-10', 'Methane, tetrachloro-, R-10', 'Methane, tetrafluoro-, R-14', 'Methane, trichlorofluoro-, CFC-11', 'Methane, trifluoro-, HFC-23'], ['Nitric oxide'], ['Nitrogen fluoride'], ['Perfluoropentane'], ['Sulfur hexafluoride'], ['VOC, volatile organic compounds, unspecified origin']]\n",
    "\n",
    "for type, cols in zip(emission_types, emission_groups):\n",
    "    ei_emissions[type] = np.sum(ei_emissions[cols], axis=1)\n",
    "    ei_emissions[type+'_sigma'] = np.sum(ei_emissions[[col+'_sigma' for col in cols]], axis=1)\n",
    "    cm_emissions[type] = np.sum(cm_emissions[cols], axis=1)\n",
    "    cm_emissions[type+'_sigma'] = np.sum(cm_emissions[[col+'_sigma' for col in cols]], axis=1)\n",
    "ei_emissions = ei_emissions[list(ei_emissions.columns[:3])+emission_types+[i+'_sigma' for i in emission_types]]\n",
    "cm_emissions = cm_emissions[list(cm_emissions.columns[:3])+emission_types+[i+'_sigma' for i in emission_types]]\n",
    "\n",
    "cm_emissions.head()"
   ],
   "metadata": {
    "collapsed": false,
    "pycharm": {
     "name": "#%%\n"
    }
   }
  },
  {
   "cell_type": "code",
   "execution_count": 18,
   "outputs": [],
   "source": [
    "# Output to file\n",
    "ei_emissions.to_csv(output_path+'conversionFactors_ecoinvent_grouped.csv')\n",
    "cm_emissions.to_csv(output_path+'conversionFactors_carbonMinds_grouped.csv')"
   ],
   "metadata": {
    "collapsed": false,
    "pycharm": {
     "name": "#%%\n"
    }
   }
  },
  {
   "cell_type": "code",
   "execution_count": null,
   "outputs": [],
   "source": [],
   "metadata": {
    "collapsed": false,
    "pycharm": {
     "name": "#%%\n"
    }
   }
  }
 ],
 "metadata": {
  "kernelspec": {
   "display_name": "Python 3",
   "language": "python",
   "name": "python3"
  },
  "language_info": {
   "codemirror_mode": {
    "name": "ipython",
    "version": 2
   },
   "file_extension": ".py",
   "mimetype": "text/x-python",
   "name": "python",
   "nbconvert_exporter": "python",
   "pygments_lexer": "ipython2",
   "version": "2.7.6"
  }
 },
 "nbformat": 4,
 "nbformat_minor": 0
}