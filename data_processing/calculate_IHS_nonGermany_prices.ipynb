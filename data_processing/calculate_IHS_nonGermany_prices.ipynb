{
 "cells": [
  {
   "cell_type": "markdown",
   "metadata": {
    "collapsed": true,
    "pycharm": {
     "name": "#%% md\n"
    }
   },
   "source": [
    "# Calculate economic values for IHS data given Germany materials and historical prices"
   ]
  },
  {
   "cell_type": "code",
   "execution_count": 215,
   "outputs": [],
   "source": [
    "# Import packages\n",
    "import math\n",
    "import numpy as np\n",
    "import pandas as pd"
   ],
   "metadata": {
    "collapsed": false,
    "pycharm": {
     "name": "#%%\n"
    }
   }
  },
  {
   "cell_type": "code",
   "execution_count": 224,
   "outputs": [],
   "source": [
    "prices_path = \"C:/Users\\lukec\\OneDrive - University of Cambridge\\PhD\\Data\\IHS\\Methodology\\PEP Yearbook Price History.xlsm\"\n",
    "\n",
    "ihs_data_path = \"C:/Users\\lukec\\OneDrive - University of Cambridge\\PhD\\C-THRU\\data_distribution\\Methanol/\"\n",
    "\n",
    "manual_conversion_location = \"C:/Users\\lukec\\OneDrive - University of Cambridge\\PhD\\Data\\IHS\\Methodology\\manual_location_conversions.csv\"\n",
    "\n",
    "output_mats = ihs_data_path+'methanol_production_material_costs.csv'\n",
    "output_prods = ihs_data_path+'methanol_production_plant_costs.csv'\n",
    "\n",
    "utility_quarter = 'Q4 2021'\n",
    "germany_loc_factor = 0.98\n",
    "regions = ['USGC', 'China']"
   ],
   "metadata": {
    "collapsed": false,
    "pycharm": {
     "name": "#%%\n"
    }
   }
  },
  {
   "cell_type": "code",
   "execution_count": 220,
   "outputs": [],
   "source": [
    "prices_file = pd.ExcelFile(prices_path)\n",
    "german_prices = prices_file.parse('Germany metric')[['Unnamed: 0', utility_quarter]]\n",
    "\n",
    "mat_columns = ['Code', 'Data Version', 'Source', 'Target', 'Research Year',\n",
    "       'Geography', 'Plant capacity', 'Capacity unit', 'Product', 'Value',\n",
    "       'Value unit', 'Uncertainty', 'Provenance', 'Source type', 'Unit Cost',\n",
    "       'Cost Unit', 'Source cost']\n",
    "germany_materials = pd.read_csv(ihs_data_path+'materials.csv', index_col=0)[mat_columns]\n",
    "germany_materials.head()\n",
    "\n",
    "germany_prods = pd.read_csv(ihs_data_path+'products.csv', index_col=0)\n",
    "\n",
    "manual_conversion = pd.read_csv(manual_conversion_location)"
   ],
   "metadata": {
    "collapsed": false,
    "pycharm": {
     "name": "#%%\n"
    }
   }
  },
  {
   "cell_type": "markdown",
   "source": [
    "## Need to convert to output when not all items are in conversion table yet"
   ],
   "metadata": {
    "collapsed": false,
    "pycharm": {
     "name": "#%% md\n"
    }
   }
  },
  {
   "cell_type": "code",
   "execution_count": 221,
   "outputs": [],
   "source": [
    "final_mats, final_prods = germany_materials, germany_prods\n",
    "\n",
    "for geog in regions:\n",
    "\n",
    "       geog_conversions = prices_file.parse(geog+' metric')[['Unnamed: 0', utility_quarter]].rename(columns={'Q4 2021':geog})\n",
    "       manual_geog = manual_conversion[['Unnamed: 0', geog]]\n",
    "       geog_conversion_table = pd.concat((geog_conversions, manual_geog))\n",
    "\n",
    "       ## -> Insert catch here if there are sources missing a conversion factor\n",
    "\n",
    "       new_geog_mats = germany_materials.copy()\n",
    "       new_geog_mats['Geography'] = geog\n",
    "       new_geog_mats['Unit Cost'] = new_geog_mats['Source'].replace(dict(zip(geog_conversion_table['Unnamed: 0'], geog_conversion_table[geog]))).replace({'LF': np.NAN})\n",
    "       geog_loc_factor = float(geog_conversion_table[geog_conversion_table['Unnamed: 0'] == 'Location factor'][geog].values)/germany_loc_factor\n",
    "\n",
    "       tonne_conversions = [1 if i in ['KG', np.NAN] else 1/1000 for i in new_geog_mats['Cost Unit']]\n",
    "       new_geog_mats['Source cost'] = [i*j if not math.isnan(j) else germany_materials.iloc[num]['Source cost']*geog_loc_factor for num, (i, j) in enumerate(zip(new_geog_mats['Unit Cost'].astype(float), new_geog_mats['Value'].astype(float)))]*np.array(tonne_conversions)\n",
    "\n",
    "       final_mats = pd.concat((final_mats, new_geog_mats))\n",
    "\n",
    "       new_geog_prods = germany_prods.copy()\n",
    "       new_geog_prods['Geography'] = geog\n",
    "       new_geog_prods['Variable Cost'] = new_geog_mats.groupby('Target').sum()['Source cost'].values\n",
    "\n",
    "       factor_columns = ['Investment (MM US$)', 'Fixed Costs', 'Overhead + Tax, Ins.', 'Depreciation', 'G&A, Sales, Res.', 'ROI (15%)']\n",
    "       new_geog_prods[factor_columns] = new_geog_prods[factor_columns]*geog_loc_factor\n",
    "       new_geog_prods['Plant Cash Cost '] = new_geog_prods['Variable Cost']+new_geog_prods['Fixed Costs']+new_geog_prods['Overhead + Tax, Ins.']\n",
    "       new_geog_prods['Plant Gate Costs '] = new_geog_prods['Plant Cash Cost ']+new_geog_prods['Depreciation']\n",
    "       new_geog_prods['Production Cost '] = new_geog_prods['Plant Gate Costs ']+new_geog_prods['G&A, Sales, Res.']\n",
    "       new_geog_prods['Product Value '] = new_geog_prods['Production Cost ']+new_geog_prods['ROI (15%)']\n",
    "       new_geog_prods['Product Price '] = new_geog_prods['Name'].replace(dict(zip(geog_conversion_table['Unnamed: 0'], geog_conversion_table[geog])))\n",
    "\n",
    "       final_prods = pd.concat((final_prods, new_geog_prods))"
   ],
   "metadata": {
    "collapsed": false,
    "pycharm": {
     "name": "#%%\n"
    }
   }
  },
  {
   "cell_type": "code",
   "execution_count": 225,
   "outputs": [],
   "source": [
    "final_mats.to_csv(output_mats, index=False)\n",
    "final_prods.to_csv(output_prods, index=False)"
   ],
   "metadata": {
    "collapsed": false,
    "pycharm": {
     "name": "#%%\n"
    }
   }
  },
  {
   "cell_type": "code",
   "execution_count": 223,
   "outputs": [
    {
     "data": {
      "text/plain": "         Code Geography Data Version  Research Year  \\\n806   2M-2052   Germany      2022 Q1           2020   \n1037  2M-1568   Germany      2022 Q1           2014   \n1038  2M-1565   Germany      2022 Q1           2014   \n1039  2M-1566   Germany      2022 Q1           2014   \n1040  2M-1567   Germany      2022 Q1           2014   \n...       ...       ...          ...            ...   \n1069  2M-1063     China      2022 Q1           2003   \n1070  2M-1535     China      2022 Q1           2014   \n1071  2M-1845     China      2022 Q1           2018   \n1072  2M-1427     China      2022 Q1           2011   \n1073  2M-1013     China      2022 Q1           2003   \n\n                                                Process Unit  \\\n806                   GREEN METHANOL PRODUCTION PROCESS   KG   \n1037  METHANOL (MEGA SCALE) FROM SYNGAS VIA HALDOR T...   KG   \n1038  METHANOL (MEGA SCALE) FROM SYNGAS VIA JM/ICI/D...   KG   \n1039  METHANOL (MEGA SCALE) FROM SYNGAS VIA LURGI TE...   KG   \n1040  METHANOL (MEGA SCALE) FROM SYNGAS VIA TOYO ENG...   KG   \n...                                                 ...  ...   \n1069                             METHANOL ON MEGA SCALE   KG   \n1070  METHANOL PRODUCTION BY JOHNSON MATTHEY TWO-STA...   KG   \n1071                METHANOL PRODUCTION FROM COKING GAS   KG   \n1072               METHANOL PRODUCTION VIA TOYO PROCESS   KG   \n1073            METHANOL PRODUCTION VIA TOYO TECHNOLOGY   KG   \n\n      Base Capacity (MM unit/year)  Investment (MM US$)     Type      Name  \\\n806                      52.013437           252.328563  Product  METHANOL   \n1037                   1642.457972           924.801863  Product  METHANOL   \n1038                   1642.457972           832.464167  Product  METHANOL   \n1039                   1642.457972           955.174871  Product  METHANOL   \n1040                   1642.457972           973.623662  Product  METHANOL   \n...                            ...                  ...      ...       ...   \n1069                   3465.142426           890.998387  Product  METHANOL   \n1070                   1642.004379           634.414034  Product  METHANOL   \n1071                    199.988876            70.641009  Product  METHANOL   \n1072                   1642.004379           568.082374  Product  METHANOL   \n1073                   1642.176193           609.778801  Product  METHANOL   \n\n      ...  Fixed Costs  Overhead + Tax, Ins.  Plant Cash Cost   Depreciation  \\\n806   ...    20.445948             18.398105        458.346129     48.512188   \n1037  ...     1.088302              1.634968        110.680166      5.630597   \n1038  ...     0.996456              1.485791        112.538140      5.068405   \n1039  ...     1.133403              1.689993        114.721955      5.815521   \n1040  ...     1.323018              1.788304        117.943820      5.927845   \n...   ...          ...                   ...               ...           ...   \n1069  ...     0.683017              0.815743         36.840736      2.571318   \n1070  ...     1.098691              1.222667         46.736620      3.863656   \n1071  ...     7.872467              6.253921         40.851826      3.532247   \n1072  ...     1.064347              1.081706         45.950227      3.459689   \n1073  ...     1.128176              1.177422         37.173789      3.713236   \n\n      Plant Gate Costs   G&A, Sales, Res.  Production Cost   ROI (15%)  \\\n806          506.858317         30.506663        537.364980  72.768282   \n1037         116.310763          6.566140        122.876902   8.445895   \n1038         117.606545          6.589955        124.196500   7.602607   \n1039         120.537475          6.803198        127.340673   8.723281   \n1040         123.871665          6.987549        130.859214   8.891768   \n...                 ...               ...               ...        ...   \n1069          39.412054          0.629784         40.041838   3.856977   \n1070          50.600276          4.200085         54.800362   5.795484   \n1071          44.384073          1.978208         46.362281   5.298370   \n1072          49.409915          4.460210         53.870126   5.189533   \n1073          40.887025          3.432506         44.319530   5.569854   \n\n      Product Value   Product Price   \n806       610.133262       43.840634  \n1037      131.322798       43.840634  \n1038      131.799107       43.840634  \n1039      136.063955       43.840634  \n1040      139.750982       43.840634  \n...              ...             ...  \n1069       43.898816       42.800000  \n1070       60.595846       42.800000  \n1071       51.660652       42.800000  \n1072       59.059658       42.800000  \n1073       49.889385       42.800000  \n\n[114 rows x 21 columns]",
      "text/html": "<div>\n<style scoped>\n    .dataframe tbody tr th:only-of-type {\n        vertical-align: middle;\n    }\n\n    .dataframe tbody tr th {\n        vertical-align: top;\n    }\n\n    .dataframe thead th {\n        text-align: right;\n    }\n</style>\n<table border=\"1\" class=\"dataframe\">\n  <thead>\n    <tr style=\"text-align: right;\">\n      <th></th>\n      <th>Code</th>\n      <th>Geography</th>\n      <th>Data Version</th>\n      <th>Research Year</th>\n      <th>Process</th>\n      <th>Unit</th>\n      <th>Base Capacity (MM unit/year)</th>\n      <th>Investment (MM US$)</th>\n      <th>Type</th>\n      <th>Name</th>\n      <th>...</th>\n      <th>Fixed Costs</th>\n      <th>Overhead + Tax, Ins.</th>\n      <th>Plant Cash Cost</th>\n      <th>Depreciation</th>\n      <th>Plant Gate Costs</th>\n      <th>G&amp;A, Sales, Res.</th>\n      <th>Production Cost</th>\n      <th>ROI (15%)</th>\n      <th>Product Value</th>\n      <th>Product Price</th>\n    </tr>\n  </thead>\n  <tbody>\n    <tr>\n      <th>806</th>\n      <td>2M-2052</td>\n      <td>Germany</td>\n      <td>2022 Q1</td>\n      <td>2020</td>\n      <td>GREEN METHANOL PRODUCTION PROCESS</td>\n      <td>KG</td>\n      <td>52.013437</td>\n      <td>252.328563</td>\n      <td>Product</td>\n      <td>METHANOL</td>\n      <td>...</td>\n      <td>20.445948</td>\n      <td>18.398105</td>\n      <td>458.346129</td>\n      <td>48.512188</td>\n      <td>506.858317</td>\n      <td>30.506663</td>\n      <td>537.364980</td>\n      <td>72.768282</td>\n      <td>610.133262</td>\n      <td>43.840634</td>\n    </tr>\n    <tr>\n      <th>1037</th>\n      <td>2M-1568</td>\n      <td>Germany</td>\n      <td>2022 Q1</td>\n      <td>2014</td>\n      <td>METHANOL (MEGA SCALE) FROM SYNGAS VIA HALDOR T...</td>\n      <td>KG</td>\n      <td>1642.457972</td>\n      <td>924.801863</td>\n      <td>Product</td>\n      <td>METHANOL</td>\n      <td>...</td>\n      <td>1.088302</td>\n      <td>1.634968</td>\n      <td>110.680166</td>\n      <td>5.630597</td>\n      <td>116.310763</td>\n      <td>6.566140</td>\n      <td>122.876902</td>\n      <td>8.445895</td>\n      <td>131.322798</td>\n      <td>43.840634</td>\n    </tr>\n    <tr>\n      <th>1038</th>\n      <td>2M-1565</td>\n      <td>Germany</td>\n      <td>2022 Q1</td>\n      <td>2014</td>\n      <td>METHANOL (MEGA SCALE) FROM SYNGAS VIA JM/ICI/D...</td>\n      <td>KG</td>\n      <td>1642.457972</td>\n      <td>832.464167</td>\n      <td>Product</td>\n      <td>METHANOL</td>\n      <td>...</td>\n      <td>0.996456</td>\n      <td>1.485791</td>\n      <td>112.538140</td>\n      <td>5.068405</td>\n      <td>117.606545</td>\n      <td>6.589955</td>\n      <td>124.196500</td>\n      <td>7.602607</td>\n      <td>131.799107</td>\n      <td>43.840634</td>\n    </tr>\n    <tr>\n      <th>1039</th>\n      <td>2M-1566</td>\n      <td>Germany</td>\n      <td>2022 Q1</td>\n      <td>2014</td>\n      <td>METHANOL (MEGA SCALE) FROM SYNGAS VIA LURGI TE...</td>\n      <td>KG</td>\n      <td>1642.457972</td>\n      <td>955.174871</td>\n      <td>Product</td>\n      <td>METHANOL</td>\n      <td>...</td>\n      <td>1.133403</td>\n      <td>1.689993</td>\n      <td>114.721955</td>\n      <td>5.815521</td>\n      <td>120.537475</td>\n      <td>6.803198</td>\n      <td>127.340673</td>\n      <td>8.723281</td>\n      <td>136.063955</td>\n      <td>43.840634</td>\n    </tr>\n    <tr>\n      <th>1040</th>\n      <td>2M-1567</td>\n      <td>Germany</td>\n      <td>2022 Q1</td>\n      <td>2014</td>\n      <td>METHANOL (MEGA SCALE) FROM SYNGAS VIA TOYO ENG...</td>\n      <td>KG</td>\n      <td>1642.457972</td>\n      <td>973.623662</td>\n      <td>Product</td>\n      <td>METHANOL</td>\n      <td>...</td>\n      <td>1.323018</td>\n      <td>1.788304</td>\n      <td>117.943820</td>\n      <td>5.927845</td>\n      <td>123.871665</td>\n      <td>6.987549</td>\n      <td>130.859214</td>\n      <td>8.891768</td>\n      <td>139.750982</td>\n      <td>43.840634</td>\n    </tr>\n    <tr>\n      <th>...</th>\n      <td>...</td>\n      <td>...</td>\n      <td>...</td>\n      <td>...</td>\n      <td>...</td>\n      <td>...</td>\n      <td>...</td>\n      <td>...</td>\n      <td>...</td>\n      <td>...</td>\n      <td>...</td>\n      <td>...</td>\n      <td>...</td>\n      <td>...</td>\n      <td>...</td>\n      <td>...</td>\n      <td>...</td>\n      <td>...</td>\n      <td>...</td>\n      <td>...</td>\n      <td>...</td>\n    </tr>\n    <tr>\n      <th>1069</th>\n      <td>2M-1063</td>\n      <td>China</td>\n      <td>2022 Q1</td>\n      <td>2003</td>\n      <td>METHANOL ON MEGA SCALE</td>\n      <td>KG</td>\n      <td>3465.142426</td>\n      <td>890.998387</td>\n      <td>Product</td>\n      <td>METHANOL</td>\n      <td>...</td>\n      <td>0.683017</td>\n      <td>0.815743</td>\n      <td>36.840736</td>\n      <td>2.571318</td>\n      <td>39.412054</td>\n      <td>0.629784</td>\n      <td>40.041838</td>\n      <td>3.856977</td>\n      <td>43.898816</td>\n      <td>42.800000</td>\n    </tr>\n    <tr>\n      <th>1070</th>\n      <td>2M-1535</td>\n      <td>China</td>\n      <td>2022 Q1</td>\n      <td>2014</td>\n      <td>METHANOL PRODUCTION BY JOHNSON MATTHEY TWO-STA...</td>\n      <td>KG</td>\n      <td>1642.004379</td>\n      <td>634.414034</td>\n      <td>Product</td>\n      <td>METHANOL</td>\n      <td>...</td>\n      <td>1.098691</td>\n      <td>1.222667</td>\n      <td>46.736620</td>\n      <td>3.863656</td>\n      <td>50.600276</td>\n      <td>4.200085</td>\n      <td>54.800362</td>\n      <td>5.795484</td>\n      <td>60.595846</td>\n      <td>42.800000</td>\n    </tr>\n    <tr>\n      <th>1071</th>\n      <td>2M-1845</td>\n      <td>China</td>\n      <td>2022 Q1</td>\n      <td>2018</td>\n      <td>METHANOL PRODUCTION FROM COKING GAS</td>\n      <td>KG</td>\n      <td>199.988876</td>\n      <td>70.641009</td>\n      <td>Product</td>\n      <td>METHANOL</td>\n      <td>...</td>\n      <td>7.872467</td>\n      <td>6.253921</td>\n      <td>40.851826</td>\n      <td>3.532247</td>\n      <td>44.384073</td>\n      <td>1.978208</td>\n      <td>46.362281</td>\n      <td>5.298370</td>\n      <td>51.660652</td>\n      <td>42.800000</td>\n    </tr>\n    <tr>\n      <th>1072</th>\n      <td>2M-1427</td>\n      <td>China</td>\n      <td>2022 Q1</td>\n      <td>2011</td>\n      <td>METHANOL PRODUCTION VIA TOYO PROCESS</td>\n      <td>KG</td>\n      <td>1642.004379</td>\n      <td>568.082374</td>\n      <td>Product</td>\n      <td>METHANOL</td>\n      <td>...</td>\n      <td>1.064347</td>\n      <td>1.081706</td>\n      <td>45.950227</td>\n      <td>3.459689</td>\n      <td>49.409915</td>\n      <td>4.460210</td>\n      <td>53.870126</td>\n      <td>5.189533</td>\n      <td>59.059658</td>\n      <td>42.800000</td>\n    </tr>\n    <tr>\n      <th>1073</th>\n      <td>2M-1013</td>\n      <td>China</td>\n      <td>2022 Q1</td>\n      <td>2003</td>\n      <td>METHANOL PRODUCTION VIA TOYO TECHNOLOGY</td>\n      <td>KG</td>\n      <td>1642.176193</td>\n      <td>609.778801</td>\n      <td>Product</td>\n      <td>METHANOL</td>\n      <td>...</td>\n      <td>1.128176</td>\n      <td>1.177422</td>\n      <td>37.173789</td>\n      <td>3.713236</td>\n      <td>40.887025</td>\n      <td>3.432506</td>\n      <td>44.319530</td>\n      <td>5.569854</td>\n      <td>49.889385</td>\n      <td>42.800000</td>\n    </tr>\n  </tbody>\n</table>\n<p>114 rows × 21 columns</p>\n</div>"
     },
     "execution_count": 223,
     "metadata": {},
     "output_type": "execute_result"
    }
   ],
   "source": [
    "final_prods"
   ],
   "metadata": {
    "collapsed": false,
    "pycharm": {
     "name": "#%%\n"
    }
   }
  }
 ],
 "metadata": {
  "kernelspec": {
   "display_name": "Python 3",
   "language": "python",
   "name": "python3"
  },
  "language_info": {
   "codemirror_mode": {
    "name": "ipython",
    "version": 2
   },
   "file_extension": ".py",
   "mimetype": "text/x-python",
   "name": "python",
   "nbconvert_exporter": "python",
   "pygments_lexer": "ipython2",
   "version": "2.7.6"
  }
 },
 "nbformat": 4,
 "nbformat_minor": 0
}